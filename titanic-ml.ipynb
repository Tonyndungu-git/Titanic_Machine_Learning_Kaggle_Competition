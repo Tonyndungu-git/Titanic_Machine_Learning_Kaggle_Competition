{
 "cells": [
  {
   "cell_type": "code",
   "execution_count": 1,
   "id": "ef48fd5b",
   "metadata": {
    "_cell_guid": "b1076dfc-b9ad-4769-8c92-a6c4dae69d19",
    "_uuid": "8f2839f25d086af736a60e9eeb907d3b93b6e0e5",
    "execution": {
     "iopub.execute_input": "2022-04-13T18:47:37.742679Z",
     "iopub.status.busy": "2022-04-13T18:47:37.740579Z",
     "iopub.status.idle": "2022-04-13T18:47:37.755206Z",
     "shell.execute_reply": "2022-04-13T18:47:37.755785Z",
     "shell.execute_reply.started": "2022-04-13T17:48:12.339951Z"
    },
    "papermill": {
     "duration": 0.039301,
     "end_time": "2022-04-13T18:47:37.756077",
     "exception": false,
     "start_time": "2022-04-13T18:47:37.716776",
     "status": "completed"
    },
    "tags": []
   },
   "outputs": [
    {
     "name": "stdout",
     "output_type": "stream",
     "text": [
      "/kaggle/input/titanic/train.csv\n",
      "/kaggle/input/titanic/test.csv\n",
      "/kaggle/input/titanic/gender_submission.csv\n"
     ]
    }
   ],
   "source": [
    "# This Python 3 environment comes with many helpful analytics libraries installed\n",
    "# It is defined by the kaggle/python Docker image: https://github.com/kaggle/docker-python\n",
    "# For example, here's several helpful packages to load\n",
    "\n",
    "import numpy as np # linear algebra\n",
    "import pandas as pd # data processing, CSV file I/O (e.g. pd.read_csv)\n",
    "\n",
    "# Input data files are available in the read-only \"../input/\" directory\n",
    "# For example, running this (by clicking run or pressing Shift+Enter) will list all files under the input directory\n",
    "\n",
    "import os\n",
    "for dirname, _, filenames in os.walk('/kaggle/input'):\n",
    "    for filename in filenames:\n",
    "        print(os.path.join(dirname, filename))\n",
    "\n",
    "# You can write up to 20GB to the current directory (/kaggle/working/) that gets preserved as output when you create a version using \"Save & Run All\" \n",
    "# You can also write temporary files to /kaggle/temp/, but they won't be saved outside of the current session"
   ]
  },
  {
   "cell_type": "code",
   "execution_count": 2,
   "id": "39ae02cc",
   "metadata": {
    "execution": {
     "iopub.execute_input": "2022-04-13T18:47:37.801471Z",
     "iopub.status.busy": "2022-04-13T18:47:37.800535Z",
     "iopub.status.idle": "2022-04-13T18:47:37.827947Z",
     "shell.execute_reply": "2022-04-13T18:47:37.828540Z",
     "shell.execute_reply.started": "2022-04-13T17:49:35.727509Z"
    },
    "papermill": {
     "duration": 0.051074,
     "end_time": "2022-04-13T18:47:37.828725",
     "exception": false,
     "start_time": "2022-04-13T18:47:37.777651",
     "status": "completed"
    },
    "tags": []
   },
   "outputs": [],
   "source": [
    "#Load data\n",
    "train_data = pd.read_csv(\"/kaggle/input/titanic/train.csv\")\n",
    "test_data = pd.read_csv(\"/kaggle/input/titanic/test.csv\")"
   ]
  },
  {
   "cell_type": "code",
   "execution_count": 3,
   "id": "69753295",
   "metadata": {
    "execution": {
     "iopub.execute_input": "2022-04-13T18:47:37.871926Z",
     "iopub.status.busy": "2022-04-13T18:47:37.870945Z",
     "iopub.status.idle": "2022-04-13T18:47:37.894861Z",
     "shell.execute_reply": "2022-04-13T18:47:37.895358Z",
     "shell.execute_reply.started": "2022-04-13T17:49:37.420182Z"
    },
    "papermill": {
     "duration": 0.046687,
     "end_time": "2022-04-13T18:47:37.895552",
     "exception": false,
     "start_time": "2022-04-13T18:47:37.848865",
     "status": "completed"
    },
    "tags": []
   },
   "outputs": [
    {
     "data": {
      "text/html": [
       "<div>\n",
       "<style scoped>\n",
       "    .dataframe tbody tr th:only-of-type {\n",
       "        vertical-align: middle;\n",
       "    }\n",
       "\n",
       "    .dataframe tbody tr th {\n",
       "        vertical-align: top;\n",
       "    }\n",
       "\n",
       "    .dataframe thead th {\n",
       "        text-align: right;\n",
       "    }\n",
       "</style>\n",
       "<table border=\"1\" class=\"dataframe\">\n",
       "  <thead>\n",
       "    <tr style=\"text-align: right;\">\n",
       "      <th></th>\n",
       "      <th>PassengerId</th>\n",
       "      <th>Survived</th>\n",
       "      <th>Pclass</th>\n",
       "      <th>Name</th>\n",
       "      <th>Sex</th>\n",
       "      <th>Age</th>\n",
       "      <th>SibSp</th>\n",
       "      <th>Parch</th>\n",
       "      <th>Ticket</th>\n",
       "      <th>Fare</th>\n",
       "      <th>Cabin</th>\n",
       "      <th>Embarked</th>\n",
       "    </tr>\n",
       "  </thead>\n",
       "  <tbody>\n",
       "    <tr>\n",
       "      <th>0</th>\n",
       "      <td>1</td>\n",
       "      <td>0</td>\n",
       "      <td>3</td>\n",
       "      <td>Braund, Mr. Owen Harris</td>\n",
       "      <td>male</td>\n",
       "      <td>22.0</td>\n",
       "      <td>1</td>\n",
       "      <td>0</td>\n",
       "      <td>A/5 21171</td>\n",
       "      <td>7.2500</td>\n",
       "      <td>NaN</td>\n",
       "      <td>S</td>\n",
       "    </tr>\n",
       "    <tr>\n",
       "      <th>1</th>\n",
       "      <td>2</td>\n",
       "      <td>1</td>\n",
       "      <td>1</td>\n",
       "      <td>Cumings, Mrs. John Bradley (Florence Briggs Th...</td>\n",
       "      <td>female</td>\n",
       "      <td>38.0</td>\n",
       "      <td>1</td>\n",
       "      <td>0</td>\n",
       "      <td>PC 17599</td>\n",
       "      <td>71.2833</td>\n",
       "      <td>C85</td>\n",
       "      <td>C</td>\n",
       "    </tr>\n",
       "    <tr>\n",
       "      <th>2</th>\n",
       "      <td>3</td>\n",
       "      <td>1</td>\n",
       "      <td>3</td>\n",
       "      <td>Heikkinen, Miss. Laina</td>\n",
       "      <td>female</td>\n",
       "      <td>26.0</td>\n",
       "      <td>0</td>\n",
       "      <td>0</td>\n",
       "      <td>STON/O2. 3101282</td>\n",
       "      <td>7.9250</td>\n",
       "      <td>NaN</td>\n",
       "      <td>S</td>\n",
       "    </tr>\n",
       "    <tr>\n",
       "      <th>3</th>\n",
       "      <td>4</td>\n",
       "      <td>1</td>\n",
       "      <td>1</td>\n",
       "      <td>Futrelle, Mrs. Jacques Heath (Lily May Peel)</td>\n",
       "      <td>female</td>\n",
       "      <td>35.0</td>\n",
       "      <td>1</td>\n",
       "      <td>0</td>\n",
       "      <td>113803</td>\n",
       "      <td>53.1000</td>\n",
       "      <td>C123</td>\n",
       "      <td>S</td>\n",
       "    </tr>\n",
       "    <tr>\n",
       "      <th>4</th>\n",
       "      <td>5</td>\n",
       "      <td>0</td>\n",
       "      <td>3</td>\n",
       "      <td>Allen, Mr. William Henry</td>\n",
       "      <td>male</td>\n",
       "      <td>35.0</td>\n",
       "      <td>0</td>\n",
       "      <td>0</td>\n",
       "      <td>373450</td>\n",
       "      <td>8.0500</td>\n",
       "      <td>NaN</td>\n",
       "      <td>S</td>\n",
       "    </tr>\n",
       "  </tbody>\n",
       "</table>\n",
       "</div>"
      ],
      "text/plain": [
       "   PassengerId  Survived  Pclass  \\\n",
       "0            1         0       3   \n",
       "1            2         1       1   \n",
       "2            3         1       3   \n",
       "3            4         1       1   \n",
       "4            5         0       3   \n",
       "\n",
       "                                                Name     Sex   Age  SibSp  \\\n",
       "0                            Braund, Mr. Owen Harris    male  22.0      1   \n",
       "1  Cumings, Mrs. John Bradley (Florence Briggs Th...  female  38.0      1   \n",
       "2                             Heikkinen, Miss. Laina  female  26.0      0   \n",
       "3       Futrelle, Mrs. Jacques Heath (Lily May Peel)  female  35.0      1   \n",
       "4                           Allen, Mr. William Henry    male  35.0      0   \n",
       "\n",
       "   Parch            Ticket     Fare Cabin Embarked  \n",
       "0      0         A/5 21171   7.2500   NaN        S  \n",
       "1      0          PC 17599  71.2833   C85        C  \n",
       "2      0  STON/O2. 3101282   7.9250   NaN        S  \n",
       "3      0            113803  53.1000  C123        S  \n",
       "4      0            373450   8.0500   NaN        S  "
      ]
     },
     "execution_count": 3,
     "metadata": {},
     "output_type": "execute_result"
    }
   ],
   "source": [
    "train_data.head()"
   ]
  },
  {
   "cell_type": "code",
   "execution_count": 4,
   "id": "6d8b5009",
   "metadata": {
    "execution": {
     "iopub.execute_input": "2022-04-13T18:47:37.936607Z",
     "iopub.status.busy": "2022-04-13T18:47:37.935661Z",
     "iopub.status.idle": "2022-04-13T18:47:39.192925Z",
     "shell.execute_reply": "2022-04-13T18:47:39.192199Z",
     "shell.execute_reply.started": "2022-04-13T17:52:39.839373Z"
    },
    "papermill": {
     "duration": 1.278765,
     "end_time": "2022-04-13T18:47:39.193071",
     "exception": false,
     "start_time": "2022-04-13T18:47:37.914306",
     "status": "completed"
    },
    "tags": []
   },
   "outputs": [
    {
     "data": {
      "text/plain": [
       "array([[ 0.87348191,  0.3349926 , -0.49947002, -0.4002477 ],\n",
       "       [ 0.87348191,  1.32553003,  0.61699237, -0.4002477 ],\n",
       "       [-0.31581919,  2.51417495, -0.49947002, -0.4002477 ],\n",
       "       ...,\n",
       "       [ 0.87348191,  0.65196458, -0.49947002, -0.4002477 ],\n",
       "       [ 0.87348191,  0.        , -0.49947002, -0.4002477 ],\n",
       "       [ 0.87348191,  0.        ,  0.61699237,  0.61989583]])"
      ]
     },
     "execution_count": 4,
     "metadata": {},
     "output_type": "execute_result"
    }
   ],
   "source": [
    "y_test = test_data[['Pclass','Age','SibSp','Parch']]\n",
    "# filling NaN\n",
    "from sklearn.impute import SimpleImputer\n",
    "my_imputer = SimpleImputer()\n",
    "ys_test= my_imputer.fit_transform(y_test)\n",
    "#Normalizing the input data\n",
    "from sklearn import preprocessing\n",
    "yn_test = preprocessing.StandardScaler().fit(ys_test).transform(ys_test)\n",
    "yn_test\n"
   ]
  },
  {
   "cell_type": "code",
   "execution_count": 5,
   "id": "643e4d5a",
   "metadata": {
    "execution": {
     "iopub.execute_input": "2022-04-13T18:47:39.236964Z",
     "iopub.status.busy": "2022-04-13T18:47:39.235929Z",
     "iopub.status.idle": "2022-04-13T18:47:39.247533Z",
     "shell.execute_reply": "2022-04-13T18:47:39.248086Z",
     "shell.execute_reply.started": "2022-04-13T17:52:56.145665Z"
    },
    "papermill": {
     "duration": 0.03558,
     "end_time": "2022-04-13T18:47:39.248260",
     "exception": false,
     "start_time": "2022-04-13T18:47:39.212680",
     "status": "completed"
    },
    "tags": []
   },
   "outputs": [],
   "source": [
    "X =train_data[['Pclass','Age','SibSp','Parch']]\n",
    "y = np.asarray(train_data[['Survived']])\n",
    "\n",
    "# filling NaN\n",
    "from sklearn.impute import SimpleImputer\n",
    "my_imputer = SimpleImputer()\n",
    "Xs= my_imputer.fit_transform(X)\n",
    "\n",
    "#Normalizing the input data\n",
    "from sklearn import preprocessing\n",
    "Xn = preprocessing.StandardScaler().fit(Xs).transform(Xs)\n",
    "\n",
    "\n"
   ]
  },
  {
   "cell_type": "code",
   "execution_count": 6,
   "id": "6a072a2f",
   "metadata": {
    "execution": {
     "iopub.execute_input": "2022-04-13T18:47:39.290987Z",
     "iopub.status.busy": "2022-04-13T18:47:39.289999Z",
     "iopub.status.idle": "2022-04-13T18:47:39.305000Z",
     "shell.execute_reply": "2022-04-13T18:47:39.305501Z",
     "shell.execute_reply.started": "2022-04-13T17:52:57.449088Z"
    },
    "papermill": {
     "duration": 0.038054,
     "end_time": "2022-04-13T18:47:39.305665",
     "exception": false,
     "start_time": "2022-04-13T18:47:39.267611",
     "status": "completed"
    },
    "tags": []
   },
   "outputs": [
    {
     "name": "stdout",
     "output_type": "stream",
     "text": [
      "Train set: (712, 4) (712, 1)\n",
      "Test set: (179, 4) (179, 1)\n"
     ]
    },
    {
     "name": "stderr",
     "output_type": "stream",
     "text": [
      "/opt/conda/lib/python3.7/site-packages/sklearn/utils/validation.py:985: DataConversionWarning: A column-vector y was passed when a 1d array was expected. Please change the shape of y to (n_samples, ), for example using ravel().\n",
      "  y = column_or_1d(y, warn=True)\n"
     ]
    }
   ],
   "source": [
    "#Splitting trainind and validation sets\n",
    "from sklearn.model_selection import train_test_split\n",
    "X_train, X_val, y_train, y_val = train_test_split( Xn, y, test_size=0.2, random_state=4)\n",
    "print ('Train set:', X_train.shape,  y_train.shape)\n",
    "print ('Test set:', X_val.shape,  y_val.shape)\n",
    "\n",
    "from sklearn.linear_model import LogisticRegression\n",
    "from sklearn.metrics import confusion_matrix\n",
    "LR = LogisticRegression(C=0.01, solver='liblinear').fit(X_train,y_train)\n"
   ]
  },
  {
   "cell_type": "code",
   "execution_count": 7,
   "id": "cfa0400b",
   "metadata": {
    "execution": {
     "iopub.execute_input": "2022-04-13T18:47:39.352770Z",
     "iopub.status.busy": "2022-04-13T18:47:39.352048Z",
     "iopub.status.idle": "2022-04-13T18:47:39.355940Z",
     "shell.execute_reply": "2022-04-13T18:47:39.355373Z",
     "shell.execute_reply.started": "2022-04-13T17:52:58.817518Z"
    },
    "papermill": {
     "duration": 0.03,
     "end_time": "2022-04-13T18:47:39.356069",
     "exception": false,
     "start_time": "2022-04-13T18:47:39.326069",
     "status": "completed"
    },
    "tags": []
   },
   "outputs": [
    {
     "data": {
      "text/plain": [
       "array([0, 0, 0, 1, 0, 1, 1, 0, 1, 0, 0, 0, 0, 0, 1, 1, 0, 0, 0, 1, 0, 0,\n",
       "       0, 0, 1, 0, 1, 1, 0, 0, 0, 0, 1, 0, 0, 1, 0, 1, 0, 0, 0, 0, 1, 0,\n",
       "       0, 0, 0, 0, 0, 0, 0, 0, 0, 0, 0, 0, 1, 0, 0, 1, 0, 0, 0, 0, 0, 0,\n",
       "       0, 0, 0, 0, 0, 0, 0, 0, 0, 0, 0, 0, 0, 0, 0, 0, 0, 0, 1, 1, 0, 1,\n",
       "       1, 1, 1, 0, 0, 0, 0, 0, 0, 1, 1, 0, 1, 0, 0, 0, 0, 1, 1, 0, 1, 1,\n",
       "       1, 0, 0, 0, 0, 0, 0, 0, 0, 0, 0, 1, 0, 0, 1, 0, 0, 1, 0, 1, 0, 0,\n",
       "       0, 1, 0, 0, 0, 0, 0, 0, 1, 1, 0, 1, 0, 0, 0, 0, 0, 0, 0, 1, 0, 0,\n",
       "       0, 0, 0, 1, 0, 1, 0, 0, 0, 0, 1, 0, 1, 0, 1, 0, 0, 0, 0, 1, 0, 0,\n",
       "       0, 1, 0])"
      ]
     },
     "execution_count": 7,
     "metadata": {},
     "output_type": "execute_result"
    }
   ],
   "source": [
    "#Predicting using our validation data because we have the true outpu data \n",
    "#thus we will use this data to evaluate our algorithm. \n",
    "\n",
    "yhat = LR.predict(X_val)\n",
    "yhat"
   ]
  },
  {
   "cell_type": "code",
   "execution_count": 8,
   "id": "b7d3ce8e",
   "metadata": {
    "execution": {
     "iopub.execute_input": "2022-04-13T18:47:39.400605Z",
     "iopub.status.busy": "2022-04-13T18:47:39.399917Z",
     "iopub.status.idle": "2022-04-13T18:47:39.406602Z",
     "shell.execute_reply": "2022-04-13T18:47:39.407199Z",
     "shell.execute_reply.started": "2022-04-13T18:02:25.932590Z"
    },
    "papermill": {
     "duration": 0.030745,
     "end_time": "2022-04-13T18:47:39.407370",
     "exception": false,
     "start_time": "2022-04-13T18:47:39.376625",
     "status": "completed"
    },
    "tags": []
   },
   "outputs": [
    {
     "data": {
      "text/plain": [
       "array([[0.62194105, 0.37805895],\n",
       "       [0.62546219, 0.37453781],\n",
       "       [0.65888149, 0.34111851],\n",
       "       [0.45258081, 0.54741919],\n",
       "       [0.57647591, 0.42352409]])"
      ]
     },
     "execution_count": 8,
     "metadata": {},
     "output_type": "execute_result"
    }
   ],
   "source": [
    "#predict_proba returns estimates for all classes, ordered by the label of classes. So, the first column is the probability of class 0, \n",
    "#P(Y=0|X), and second column is probability of class 1, P(Y=1|X)\n",
    "yhat_prob = LR.predict_proba(X_val)\n",
    "yhat_prob[0:5]"
   ]
  },
  {
   "cell_type": "code",
   "execution_count": 9,
   "id": "2f8e7b42",
   "metadata": {
    "execution": {
     "iopub.execute_input": "2022-04-13T18:47:39.453082Z",
     "iopub.status.busy": "2022-04-13T18:47:39.452132Z",
     "iopub.status.idle": "2022-04-13T18:47:39.459333Z",
     "shell.execute_reply": "2022-04-13T18:47:39.459888Z",
     "shell.execute_reply.started": "2022-04-13T17:53:08.722548Z"
    },
    "papermill": {
     "duration": 0.031589,
     "end_time": "2022-04-13T18:47:39.460051",
     "exception": false,
     "start_time": "2022-04-13T18:47:39.428462",
     "status": "completed"
    },
    "tags": []
   },
   "outputs": [
    {
     "data": {
      "text/plain": [
       "0.6912751677852349"
      ]
     },
     "execution_count": 9,
     "metadata": {},
     "output_type": "execute_result"
    }
   ],
   "source": [
    "#Evaluation of the accuracy of the ML program.\n",
    "from sklearn.metrics import jaccard_score\n",
    "jaccard_score(y_val, yhat,pos_label=0)\n"
   ]
  },
  {
   "cell_type": "code",
   "execution_count": 10,
   "id": "b216782b",
   "metadata": {
    "execution": {
     "iopub.execute_input": "2022-04-13T18:47:39.506834Z",
     "iopub.status.busy": "2022-04-13T18:47:39.505809Z",
     "iopub.status.idle": "2022-04-13T18:47:39.520483Z",
     "shell.execute_reply": "2022-04-13T18:47:39.521185Z",
     "shell.execute_reply.started": "2022-04-13T18:20:54.012818Z"
    },
    "papermill": {
     "duration": 0.040071,
     "end_time": "2022-04-13T18:47:39.521419",
     "exception": false,
     "start_time": "2022-04-13T18:47:39.481348",
     "status": "completed"
    },
    "tags": []
   },
   "outputs": [
    {
     "name": "stdout",
     "output_type": "stream",
     "text": [
      "[[ 30  30]\n",
      " [ 16 103]]\n"
     ]
    }
   ],
   "source": [
    "#I got this confusion matrix function from IBM machine learning course. \n",
    "import matplotlib.pyplot as plt\n",
    "from sklearn.metrics import classification_report, confusion_matrix\n",
    "import itertools\n",
    "def plot_confusion_matrix(cm, classes,\n",
    "                          normalize=False,\n",
    "                          title='Confusion matrix',\n",
    "                          cmap=plt.cm.Blues):\n",
    "    \"\"\"\n",
    "    This function prints and plots the confusion matrix.\n",
    "    Normalization can be applied by setting `normalize=True`.\n",
    "    \"\"\"\n",
    "    if normalize:\n",
    "        cm = cm.astype('float') / cm.sum(axis=1)[:, np.newaxis]\n",
    "        print(\"Normalized confusion matrix\")\n",
    "    else:\n",
    "        print('Confusion matrix, without normalization')\n",
    "\n",
    "    print(cm)\n",
    "\n",
    "    plt.imshow(cm, interpolation='nearest', cmap=cmap)\n",
    "    plt.title(title)\n",
    "    plt.colorbar()\n",
    "    tick_marks = np.arange(len(classes))\n",
    "    plt.xticks(tick_marks, classes, rotation=45)\n",
    "    plt.yticks(tick_marks, classes)\n",
    "\n",
    "    fmt = '.2f' if normalize else 'd'\n",
    "    thresh = cm.max() / 2.\n",
    "    for i, j in itertools.product(range(cm.shape[0]), range(cm.shape[1])):\n",
    "        plt.text(j, i, format(cm[i, j], fmt),\n",
    "                 horizontalalignment=\"center\",\n",
    "                 color=\"white\" if cm[i, j] > thresh else \"black\")\n",
    "\n",
    "    plt.tight_layout()\n",
    "    plt.ylabel('True label')\n",
    "    plt.xlabel('Predicted label')\n",
    "print(confusion_matrix(y_val, yhat, labels=[1,0]))"
   ]
  },
  {
   "cell_type": "code",
   "execution_count": 11,
   "id": "b9baccc7",
   "metadata": {
    "execution": {
     "iopub.execute_input": "2022-04-13T18:47:39.568864Z",
     "iopub.status.busy": "2022-04-13T18:47:39.568223Z",
     "iopub.status.idle": "2022-04-13T18:47:39.888793Z",
     "shell.execute_reply": "2022-04-13T18:47:39.889246Z",
     "shell.execute_reply.started": "2022-04-13T18:23:27.590763Z"
    },
    "papermill": {
     "duration": 0.345327,
     "end_time": "2022-04-13T18:47:39.889441",
     "exception": false,
     "start_time": "2022-04-13T18:47:39.544114",
     "status": "completed"
    },
    "tags": []
   },
   "outputs": [
    {
     "name": "stdout",
     "output_type": "stream",
     "text": [
      "Confusion matrix, without normalization\n",
      "[[ 30  30]\n",
      " [ 16 103]]\n"
     ]
    },
    {
     "data": {
      "image/png": "[encoded data removed]",
      "text/plain": [
       "<Figure size 432x288 with 2 Axes>"
      ]
     },
     "metadata": {
      "needs_background": "light"
     },
     "output_type": "display_data"
    }
   ],
   "source": [
    "# Compute confusion matrix\n",
    "cnf_matrix = confusion_matrix(y_val, yhat, labels=[1,0])\n",
    "np.set_printoptions(precision=2)\n",
    "\n",
    "\n",
    "# Plot non-normalized confusion matrix\n",
    "plt.figure()\n",
    "plot_confusion_matrix(cnf_matrix, classes=['Survived=1','Survived=0'],normalize= False,  title='Confusion matrix')"
   ]
  },
  {
   "cell_type": "code",
   "execution_count": 12,
   "id": "c2c8791b",
   "metadata": {
    "execution": {
     "iopub.execute_input": "2022-04-13T18:47:39.940791Z",
     "iopub.status.busy": "2022-04-13T18:47:39.940118Z",
     "iopub.status.idle": "2022-04-13T18:47:39.948457Z",
     "shell.execute_reply": "2022-04-13T18:47:39.948993Z",
     "shell.execute_reply.started": "2022-04-13T18:26:23.270643Z"
    },
    "papermill": {
     "duration": 0.036666,
     "end_time": "2022-04-13T18:47:39.949156",
     "exception": false,
     "start_time": "2022-04-13T18:47:39.912490",
     "status": "completed"
    },
    "tags": []
   },
   "outputs": [
    {
     "name": "stdout",
     "output_type": "stream",
     "text": [
      "              precision    recall  f1-score   support\n",
      "\n",
      "           0       0.77      0.87      0.82       119\n",
      "           1       0.65      0.50      0.57        60\n",
      "\n",
      "    accuracy                           0.74       179\n",
      "   macro avg       0.71      0.68      0.69       179\n",
      "weighted avg       0.73      0.74      0.73       179\n",
      "\n"
     ]
    }
   ],
   "source": [
    "print (classification_report(y_val, yhat))"
   ]
  },
  {
   "cell_type": "code",
   "execution_count": 13,
   "id": "3f7c7305",
   "metadata": {
    "execution": {
     "iopub.execute_input": "2022-04-13T18:47:39.999458Z",
     "iopub.status.busy": "2022-04-13T18:47:39.998793Z",
     "iopub.status.idle": "2022-04-13T18:47:40.004981Z",
     "shell.execute_reply": "2022-04-13T18:47:40.005535Z",
     "shell.execute_reply.started": "2022-04-13T18:26:48.709438Z"
    },
    "papermill": {
     "duration": 0.033153,
     "end_time": "2022-04-13T18:47:40.005702",
     "exception": false,
     "start_time": "2022-04-13T18:47:39.972549",
     "status": "completed"
    },
    "tags": []
   },
   "outputs": [
    {
     "data": {
      "text/plain": [
       "0.5888687559495531"
      ]
     },
     "execution_count": 13,
     "metadata": {},
     "output_type": "execute_result"
    }
   ],
   "source": [
    "from sklearn.metrics import log_loss\n",
    "log_loss(y_val, yhat_prob)"
   ]
  },
  {
   "cell_type": "code",
   "execution_count": 14,
   "id": "04987532",
   "metadata": {
    "execution": {
     "iopub.execute_input": "2022-04-13T18:47:40.056249Z",
     "iopub.status.busy": "2022-04-13T18:47:40.055665Z",
     "iopub.status.idle": "2022-04-13T18:47:40.062656Z",
     "shell.execute_reply": "2022-04-13T18:47:40.063200Z",
     "shell.execute_reply.started": "2022-04-13T17:53:11.973349Z"
    },
    "papermill": {
     "duration": 0.033928,
     "end_time": "2022-04-13T18:47:40.063359",
     "exception": false,
     "start_time": "2022-04-13T18:47:40.029431",
     "status": "completed"
    },
    "tags": []
   },
   "outputs": [
    {
     "data": {
      "text/plain": [
       "array([0, 0, 0, 0, 0, 0, 0, 0, 0, 0, 0, 1, 1, 0, 1, 0, 0, 0, 0, 0, 0, 0,\n",
       "       1, 1, 1, 0, 1, 0, 1, 0, 0, 0, 0, 0, 1, 0, 0, 0, 0, 0, 0, 1, 0, 0,\n",
       "       1, 0, 1, 0, 0, 0, 1, 0, 0, 1, 0, 0, 0, 0, 0, 1, 0, 0, 0, 0, 1, 0,\n",
       "       0, 1, 1, 1, 0, 0, 0, 1, 1, 1, 0, 0, 0, 0, 0, 0, 1, 0, 0, 0, 0, 0,\n",
       "       0, 1, 0, 0, 1, 0, 1, 0, 0, 0, 0, 0, 1, 0, 0, 0, 0, 0, 0, 0, 0, 1,\n",
       "       0, 0, 1, 0, 0, 0, 0, 0, 1, 0, 1, 0, 1, 0, 0, 0, 0, 0, 0, 0, 0, 1,\n",
       "       0, 0, 0, 0, 0, 0, 0, 0, 0, 1, 1, 0, 1, 0, 1, 0, 1, 0, 1, 0, 0, 0,\n",
       "       0, 0, 1, 0, 1, 0, 0, 0, 0, 0, 0, 0, 1, 0, 1, 0, 0, 0, 0, 0, 0, 1,\n",
       "       1, 0, 1, 1, 0, 1, 1, 0, 1, 0, 1, 0, 0, 0, 0, 1, 0, 0, 1, 0, 1, 0,\n",
       "       0, 0, 0, 1, 1, 1, 0, 1, 0, 0, 1, 0, 0, 0, 1, 0, 0, 1, 0, 0, 1, 0,\n",
       "       0, 0, 0, 0, 1, 0, 0, 0, 0, 0, 1, 1, 0, 0, 1, 0, 0, 0, 1, 1, 1, 0,\n",
       "       1, 0, 0, 1, 0, 0, 0, 0, 1, 0, 1, 0, 0, 0, 0, 0, 1, 0, 0, 0, 1, 0,\n",
       "       0, 0, 1, 0, 0, 0, 1, 0, 1, 0, 0, 0, 0, 0, 0, 0, 0, 0, 0, 0, 0, 0,\n",
       "       0, 1, 0, 0, 1, 0, 0, 1, 0, 0, 1, 0, 1, 0, 0, 0, 0, 0, 0, 0, 1, 0,\n",
       "       1, 0, 0, 0, 0, 0, 1, 0, 0, 1, 0, 0, 0, 0, 0, 1, 1, 0, 1, 1, 0, 1,\n",
       "       0, 1, 0, 0, 0, 1, 0, 0, 0, 0, 1, 0, 1, 1, 0, 0, 0, 0, 0, 0, 1, 0,\n",
       "       1, 0, 0, 1, 0, 0, 0, 0, 0, 0, 0, 0, 1, 1, 0, 0, 1, 0, 0, 1, 1, 0,\n",
       "       1, 1, 0, 1, 1, 0, 0, 0, 0, 0, 0, 1, 0, 0, 0, 0, 1, 1, 0, 0, 0, 1,\n",
       "       0, 1, 0, 0, 1, 0, 1, 1, 1, 1, 0, 1, 0, 0, 0, 1, 0, 0, 1, 0, 0, 0])"
      ]
     },
     "execution_count": 14,
     "metadata": {},
     "output_type": "execute_result"
    }
   ],
   "source": [
    "# Test data that is required to be predicted and submitted.\n",
    "output = LR.predict(yn_test)\n",
    "output"
   ]
  },
  {
   "cell_type": "code",
   "execution_count": 15,
   "id": "adc840a1",
   "metadata": {
    "execution": {
     "iopub.execute_input": "2022-04-13T18:47:40.115557Z",
     "iopub.status.busy": "2022-04-13T18:47:40.114417Z",
     "iopub.status.idle": "2022-04-13T18:47:40.125595Z",
     "shell.execute_reply": "2022-04-13T18:47:40.126600Z",
     "shell.execute_reply.started": "2022-04-13T18:32:00.298771Z"
    },
    "papermill": {
     "duration": 0.039387,
     "end_time": "2022-04-13T18:47:40.126899",
     "exception": false,
     "start_time": "2022-04-13T18:47:40.087512",
     "status": "completed"
    },
    "tags": []
   },
   "outputs": [
    {
     "name": "stdout",
     "output_type": "stream",
     "text": [
      "Your submission was successfully saved!\n"
     ]
    }
   ],
   "source": [
    "Output = pd.DataFrame({'Passenger': test_data.PassengerId, 'Survived': output})\n",
    "Output.to_csv('submission.csv', index=False)\n",
    "print(\"Your submission was successfully saved!\")"
   ]
  },
  {
   "cell_type": "code",
   "execution_count": 16,
   "id": "3767f126",
   "metadata": {
    "execution": {
     "iopub.execute_input": "2022-04-13T18:47:40.179542Z",
     "iopub.status.busy": "2022-04-13T18:47:40.178908Z",
     "iopub.status.idle": "2022-04-13T18:47:40.186732Z",
     "shell.execute_reply": "2022-04-13T18:47:40.187327Z",
     "shell.execute_reply.started": "2022-04-13T18:33:10.648082Z"
    },
    "papermill": {
     "duration": 0.035541,
     "end_time": "2022-04-13T18:47:40.187512",
     "exception": false,
     "start_time": "2022-04-13T18:47:40.151971",
     "status": "completed"
    },
    "tags": []
   },
   "outputs": [
    {
     "data": {
      "text/html": [
       "<div>\n",
       "<style scoped>\n",
       "    .dataframe tbody tr th:only-of-type {\n",
       "        vertical-align: middle;\n",
       "    }\n",
       "\n",
       "    .dataframe tbody tr th {\n",
       "        vertical-align: top;\n",
       "    }\n",
       "\n",
       "    .dataframe thead th {\n",
       "        text-align: right;\n",
       "    }\n",
       "</style>\n",
       "<table border=\"1\" class=\"dataframe\">\n",
       "  <thead>\n",
       "    <tr style=\"text-align: right;\">\n",
       "      <th></th>\n",
       "      <th>Passenger</th>\n",
       "      <th>Survived</th>\n",
       "    </tr>\n",
       "  </thead>\n",
       "  <tbody>\n",
       "    <tr>\n",
       "      <th>0</th>\n",
       "      <td>892</td>\n",
       "      <td>0</td>\n",
       "    </tr>\n",
       "    <tr>\n",
       "      <th>1</th>\n",
       "      <td>893</td>\n",
       "      <td>0</td>\n",
       "    </tr>\n",
       "    <tr>\n",
       "      <th>2</th>\n",
       "      <td>894</td>\n",
       "      <td>0</td>\n",
       "    </tr>\n",
       "    <tr>\n",
       "      <th>3</th>\n",
       "      <td>895</td>\n",
       "      <td>0</td>\n",
       "    </tr>\n",
       "    <tr>\n",
       "      <th>4</th>\n",
       "      <td>896</td>\n",
       "      <td>0</td>\n",
       "    </tr>\n",
       "  </tbody>\n",
       "</table>\n",
       "</div>"
      ],
      "text/plain": [
       "   Passenger  Survived\n",
       "0        892         0\n",
       "1        893         0\n",
       "2        894         0\n",
       "3        895         0\n",
       "4        896         0"
      ]
     },
     "execution_count": 16,
     "metadata": {},
     "output_type": "execute_result"
    }
   ],
   "source": [
    "Output.head()"
   ]
  },
  {
   "cell_type": "code",
   "execution_count": null,
   "id": "425c7125",
   "metadata": {
    "papermill": {
     "duration": 0.025046,
     "end_time": "2022-04-13T18:47:40.237734",
     "exception": false,
     "start_time": "2022-04-13T18:47:40.212688",
     "status": "completed"
    },
    "tags": []
   },
   "outputs": [],
   "source": []
  }
 ],
 "metadata": {
  "kernelspec": {
   "display_name": "Python 3",
   "language": "python",
   "name": "python3"
  },
  "language_info": {
   "codemirror_mode": {
    "name": "ipython",
    "version": 3
   },
   "file_extension": ".py",
   "mimetype": "text/x-python",
   "name": "python",
   "nbconvert_exporter": "python",
   "pygments_lexer": "ipython3",
   "version": "3.7.12"
  },
  "papermill": {
   "default_parameters": {},
   "duration": 13.575108,
   "end_time": "2022-04-13T18:47:40.972604",
   "environment_variables": {},
   "exception": null,
   "input_path": "__notebook__.ipynb",
   "output_path": "__notebook__.ipynb",
   "parameters": {},
   "start_time": "2022-04-13T18:47:27.397496",
   "version": "2.3.3"
  }
 },
 "nbformat": 4,
 "nbformat_minor": 5
}
