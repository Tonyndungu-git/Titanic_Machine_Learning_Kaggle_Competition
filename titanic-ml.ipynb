{
 "cells": [
  {
   "cell_type": "code",
   "execution_count": 1,
   "id": "ab83befa",
   "metadata": {
    "_cell_guid": "b1076dfc-b9ad-4769-8c92-a6c4dae69d19",
    "_uuid": "8f2839f25d086af736a60e9eeb907d3b93b6e0e5",
    "execution": {
     "iopub.execute_input": "2022-04-14T11:24:08.734785Z",
     "iopub.status.busy": "2022-04-14T11:24:08.733735Z",
     "iopub.status.idle": "2022-04-14T11:24:08.742333Z",
     "shell.execute_reply": "2022-04-14T11:24:08.742957Z",
     "shell.execute_reply.started": "2022-04-14T10:49:51.548670Z"
    },
    "papermill": {
     "duration": 0.038907,
     "end_time": "2022-04-14T11:24:08.743248",
     "exception": false,
     "start_time": "2022-04-14T11:24:08.704341",
     "status": "completed"
    },
    "tags": []
   },
   "outputs": [
    {
     "name": "stdout",
     "output_type": "stream",
     "text": [
      "/kaggle/input/titanic/train.csv\n",
      "/kaggle/input/titanic/test.csv\n",
      "/kaggle/input/titanic/gender_submission.csv\n"
     ]
    }
   ],
   "source": [
    "# This Python 3 environment comes with many helpful analytics libraries installed\n",
    "# It is defined by the kaggle/python Docker image: https://github.com/kaggle/docker-python\n",
    "# For example, here's several helpful packages to load\n",
    "\n",
    "import numpy as np # linear algebra\n",
    "import pandas as pd # data processing, CSV file I/O (e.g. pd.read_csv)\n",
    "\n",
    "# Input data files are available in the read-only \"../input/\" directory\n",
    "# For example, running this (by clicking run or pressing Shift+Enter) will list all files under the input directory\n",
    "\n",
    "import os\n",
    "for dirname, _, filenames in os.walk('/kaggle/input'):\n",
    "    for filename in filenames:\n",
    "        print(os.path.join(dirname, filename))\n",
    "\n",
    "# You can write up to 20GB to the current directory (/kaggle/working/) that gets preserved as output when you create a version using \"Save & Run All\" \n",
    "# You can also write temporary files to /kaggle/temp/, but they won't be saved outside of the current session"
   ]
  },
  {
   "cell_type": "code",
   "execution_count": 2,
   "id": "4d5e9abc",
   "metadata": {
    "execution": {
     "iopub.execute_input": "2022-04-14T11:24:08.785857Z",
     "iopub.status.busy": "2022-04-14T11:24:08.783647Z",
     "iopub.status.idle": "2022-04-14T11:24:08.809351Z",
     "shell.execute_reply": "2022-04-14T11:24:08.808765Z",
     "shell.execute_reply.started": "2022-04-14T11:21:06.092412Z"
    },
    "papermill": {
     "duration": 0.046879,
     "end_time": "2022-04-14T11:24:08.809506",
     "exception": false,
     "start_time": "2022-04-14T11:24:08.762627",
     "status": "completed"
    },
    "tags": []
   },
   "outputs": [],
   "source": [
    "#Load data\n",
    "train_data = pd.read_csv(\"/kaggle/input/titanic/train.csv\")\n",
    "test_data = pd.read_csv(\"/kaggle/input/titanic/test.csv\")"
   ]
  },
  {
   "cell_type": "code",
   "execution_count": 3,
   "id": "fdbcad95",
   "metadata": {
    "execution": {
     "iopub.execute_input": "2022-04-14T11:24:08.856175Z",
     "iopub.status.busy": "2022-04-14T11:24:08.855533Z",
     "iopub.status.idle": "2022-04-14T11:24:08.873284Z",
     "shell.execute_reply": "2022-04-14T11:24:08.873748Z",
     "shell.execute_reply.started": "2022-04-14T11:21:07.538654Z"
    },
    "papermill": {
     "duration": 0.045929,
     "end_time": "2022-04-14T11:24:08.873937",
     "exception": false,
     "start_time": "2022-04-14T11:24:08.828008",
     "status": "completed"
    },
    "tags": []
   },
   "outputs": [
    {
     "data": {
      "text/html": [
       "<div>\n",
       "<style scoped>\n",
       "    .dataframe tbody tr th:only-of-type {\n",
       "        vertical-align: middle;\n",
       "    }\n",
       "\n",
       "    .dataframe tbody tr th {\n",
       "        vertical-align: top;\n",
       "    }\n",
       "\n",
       "    .dataframe thead th {\n",
       "        text-align: right;\n",
       "    }\n",
       "</style>\n",
       "<table border=\"1\" class=\"dataframe\">\n",
       "  <thead>\n",
       "    <tr style=\"text-align: right;\">\n",
       "      <th></th>\n",
       "      <th>PassengerId</th>\n",
       "      <th>Survived</th>\n",
       "      <th>Pclass</th>\n",
       "      <th>Name</th>\n",
       "      <th>Sex</th>\n",
       "      <th>Age</th>\n",
       "      <th>SibSp</th>\n",
       "      <th>Parch</th>\n",
       "      <th>Ticket</th>\n",
       "      <th>Fare</th>\n",
       "      <th>Cabin</th>\n",
       "      <th>Embarked</th>\n",
       "    </tr>\n",
       "  </thead>\n",
       "  <tbody>\n",
       "    <tr>\n",
       "      <th>0</th>\n",
       "      <td>1</td>\n",
       "      <td>0</td>\n",
       "      <td>3</td>\n",
       "      <td>Braund, Mr. Owen Harris</td>\n",
       "      <td>male</td>\n",
       "      <td>22.0</td>\n",
       "      <td>1</td>\n",
       "      <td>0</td>\n",
       "      <td>A/5 21171</td>\n",
       "      <td>7.2500</td>\n",
       "      <td>NaN</td>\n",
       "      <td>S</td>\n",
       "    </tr>\n",
       "    <tr>\n",
       "      <th>1</th>\n",
       "      <td>2</td>\n",
       "      <td>1</td>\n",
       "      <td>1</td>\n",
       "      <td>Cumings, Mrs. John Bradley (Florence Briggs Th...</td>\n",
       "      <td>female</td>\n",
       "      <td>38.0</td>\n",
       "      <td>1</td>\n",
       "      <td>0</td>\n",
       "      <td>PC 17599</td>\n",
       "      <td>71.2833</td>\n",
       "      <td>C85</td>\n",
       "      <td>C</td>\n",
       "    </tr>\n",
       "    <tr>\n",
       "      <th>2</th>\n",
       "      <td>3</td>\n",
       "      <td>1</td>\n",
       "      <td>3</td>\n",
       "      <td>Heikkinen, Miss. Laina</td>\n",
       "      <td>female</td>\n",
       "      <td>26.0</td>\n",
       "      <td>0</td>\n",
       "      <td>0</td>\n",
       "      <td>STON/O2. 3101282</td>\n",
       "      <td>7.9250</td>\n",
       "      <td>NaN</td>\n",
       "      <td>S</td>\n",
       "    </tr>\n",
       "    <tr>\n",
       "      <th>3</th>\n",
       "      <td>4</td>\n",
       "      <td>1</td>\n",
       "      <td>1</td>\n",
       "      <td>Futrelle, Mrs. Jacques Heath (Lily May Peel)</td>\n",
       "      <td>female</td>\n",
       "      <td>35.0</td>\n",
       "      <td>1</td>\n",
       "      <td>0</td>\n",
       "      <td>113803</td>\n",
       "      <td>53.1000</td>\n",
       "      <td>C123</td>\n",
       "      <td>S</td>\n",
       "    </tr>\n",
       "    <tr>\n",
       "      <th>4</th>\n",
       "      <td>5</td>\n",
       "      <td>0</td>\n",
       "      <td>3</td>\n",
       "      <td>Allen, Mr. William Henry</td>\n",
       "      <td>male</td>\n",
       "      <td>35.0</td>\n",
       "      <td>0</td>\n",
       "      <td>0</td>\n",
       "      <td>373450</td>\n",
       "      <td>8.0500</td>\n",
       "      <td>NaN</td>\n",
       "      <td>S</td>\n",
       "    </tr>\n",
       "  </tbody>\n",
       "</table>\n",
       "</div>"
      ],
      "text/plain": [
       "   PassengerId  Survived  Pclass  \\\n",
       "0            1         0       3   \n",
       "1            2         1       1   \n",
       "2            3         1       3   \n",
       "3            4         1       1   \n",
       "4            5         0       3   \n",
       "\n",
       "                                                Name     Sex   Age  SibSp  \\\n",
       "0                            Braund, Mr. Owen Harris    male  22.0      1   \n",
       "1  Cumings, Mrs. John Bradley (Florence Briggs Th...  female  38.0      1   \n",
       "2                             Heikkinen, Miss. Laina  female  26.0      0   \n",
       "3       Futrelle, Mrs. Jacques Heath (Lily May Peel)  female  35.0      1   \n",
       "4                           Allen, Mr. William Henry    male  35.0      0   \n",
       "\n",
       "   Parch            Ticket     Fare Cabin Embarked  \n",
       "0      0         A/5 21171   7.2500   NaN        S  \n",
       "1      0          PC 17599  71.2833   C85        C  \n",
       "2      0  STON/O2. 3101282   7.9250   NaN        S  \n",
       "3      0            113803  53.1000  C123        S  \n",
       "4      0            373450   8.0500   NaN        S  "
      ]
     },
     "execution_count": 3,
     "metadata": {},
     "output_type": "execute_result"
    }
   ],
   "source": [
    "train_data.head()"
   ]
  },
  {
   "cell_type": "code",
   "execution_count": 4,
   "id": "00d76e57",
   "metadata": {
    "execution": {
     "iopub.execute_input": "2022-04-14T11:24:08.915238Z",
     "iopub.status.busy": "2022-04-14T11:24:08.914353Z",
     "iopub.status.idle": "2022-04-14T11:24:10.049164Z",
     "shell.execute_reply": "2022-04-14T11:24:10.049844Z",
     "shell.execute_reply.started": "2022-04-14T11:21:08.751028Z"
    },
    "papermill": {
     "duration": 1.157082,
     "end_time": "2022-04-14T11:24:10.050068",
     "exception": false,
     "start_time": "2022-04-14T11:24:08.892986",
     "status": "completed"
    },
    "tags": []
   },
   "outputs": [
    {
     "data": {
      "text/plain": [
       "array([[ 0.87348191,  0.3349926 , -0.49947002, ..., -0.49840706,\n",
       "        -0.75592895,  0.75592895],\n",
       "       [ 0.87348191,  1.32553003,  0.61699237, ..., -0.51327429,\n",
       "         1.32287566, -1.32287566],\n",
       "       [-0.31581919,  2.51417495, -0.49947002, ..., -0.46508846,\n",
       "        -0.75592895,  0.75592895],\n",
       "       ...,\n",
       "       [ 0.87348191,  0.65196458, -0.49947002, ..., -0.50879189,\n",
       "        -0.75592895,  0.75592895],\n",
       "       [ 0.87348191,  0.        , -0.49947002, ..., -0.4944482 ,\n",
       "        -0.75592895,  0.75592895],\n",
       "       [ 0.87348191,  0.        ,  0.61699237, ..., -0.23790598,\n",
       "        -0.75592895,  0.75592895]])"
      ]
     },
     "execution_count": 4,
     "metadata": {},
     "output_type": "execute_result"
    }
   ],
   "source": [
    "y_test = test_data[['Pclass','Age','SibSp','Parch','Sex','Fare']]\n",
    "\n",
    "# One_hot Encoding for categorical data\n",
    "\n",
    "yoh= pd.get_dummies(y_test)\n",
    "# filling NaN\n",
    "from sklearn.impute import SimpleImputer\n",
    "my_imputer = SimpleImputer()\n",
    "ys_test= my_imputer.fit_transform(yoh)\n",
    "#Normalizing the input data\n",
    "from sklearn import preprocessing\n",
    "yn_test = preprocessing.StandardScaler().fit(ys_test).transform(ys_test)\n",
    "yn_test\n"
   ]
  },
  {
   "cell_type": "code",
   "execution_count": 5,
   "id": "d97ae66e",
   "metadata": {
    "execution": {
     "iopub.execute_input": "2022-04-14T11:24:10.113092Z",
     "iopub.status.busy": "2022-04-14T11:24:10.112065Z",
     "iopub.status.idle": "2022-04-14T11:24:10.124098Z",
     "shell.execute_reply": "2022-04-14T11:24:10.123570Z",
     "shell.execute_reply.started": "2022-04-14T11:21:10.004907Z"
    },
    "papermill": {
     "duration": 0.049438,
     "end_time": "2022-04-14T11:24:10.124241",
     "exception": false,
     "start_time": "2022-04-14T11:24:10.074803",
     "status": "completed"
    },
    "tags": []
   },
   "outputs": [
    {
     "data": {
      "text/plain": [
       "(891, 7)"
      ]
     },
     "execution_count": 5,
     "metadata": {},
     "output_type": "execute_result"
    }
   ],
   "source": [
    "X =train_data[['Pclass','Age','SibSp','Parch','Sex','Fare']]\n",
    "y = np.asarray(train_data[['Survived']])\n",
    "\n",
    "# One_hot Encoding for categorical data\n",
    "\n",
    "Xoh= pd.get_dummies(X)\n",
    "\n",
    "# filling NaN\n",
    "from sklearn.impute import SimpleImputer\n",
    "my_imputer = SimpleImputer()\n",
    "Xs= my_imputer.fit_transform(Xoh)\n",
    "\n",
    "#Normalizing the input data\n",
    "from sklearn import preprocessing\n",
    "Xn = preprocessing.StandardScaler().fit(Xs).transform(Xs)\n",
    "Xn.shape\n",
    "\n"
   ]
  },
  {
   "cell_type": "code",
   "execution_count": 6,
   "id": "6a2ff2a1",
   "metadata": {
    "execution": {
     "iopub.execute_input": "2022-04-14T11:24:10.170472Z",
     "iopub.status.busy": "2022-04-14T11:24:10.169818Z",
     "iopub.status.idle": "2022-04-14T11:24:10.180310Z",
     "shell.execute_reply": "2022-04-14T11:24:10.181033Z",
     "shell.execute_reply.started": "2022-04-14T11:21:11.105617Z"
    },
    "papermill": {
     "duration": 0.037455,
     "end_time": "2022-04-14T11:24:10.181275",
     "exception": false,
     "start_time": "2022-04-14T11:24:10.143820",
     "status": "completed"
    },
    "tags": []
   },
   "outputs": [
    {
     "name": "stdout",
     "output_type": "stream",
     "text": [
      "Train set: (801, 7) (801, 1)\n",
      "Test set: (90, 7) (90, 1)\n"
     ]
    },
    {
     "name": "stderr",
     "output_type": "stream",
     "text": [
      "/opt/conda/lib/python3.7/site-packages/sklearn/utils/validation.py:985: DataConversionWarning: A column-vector y was passed when a 1d array was expected. Please change the shape of y to (n_samples, ), for example using ravel().\n",
      "  y = column_or_1d(y, warn=True)\n"
     ]
    }
   ],
   "source": [
    "#Splitting trainind and validation sets\n",
    "from sklearn.model_selection import train_test_split\n",
    "X_train, X_val, y_train, y_val = train_test_split( Xn, y, test_size=0.1, random_state=4)\n",
    "print ('Train set:', X_train.shape,  y_train.shape)\n",
    "print ('Test set:', X_val.shape,  y_val.shape)\n",
    "\n",
    "from sklearn.linear_model import LogisticRegression\n",
    "from sklearn.metrics import confusion_matrix\n",
    "LR = LogisticRegression(C=0.01, solver='liblinear').fit(X_train,y_train)\n"
   ]
  },
  {
   "cell_type": "code",
   "execution_count": 7,
   "id": "893697f0",
   "metadata": {
    "execution": {
     "iopub.execute_input": "2022-04-14T11:24:10.229076Z",
     "iopub.status.busy": "2022-04-14T11:24:10.228390Z",
     "iopub.status.idle": "2022-04-14T11:24:10.231518Z",
     "shell.execute_reply": "2022-04-14T11:24:10.232088Z",
     "shell.execute_reply.started": "2022-04-14T11:21:12.797462Z"
    },
    "papermill": {
     "duration": 0.029679,
     "end_time": "2022-04-14T11:24:10.232238",
     "exception": false,
     "start_time": "2022-04-14T11:24:10.202559",
     "status": "completed"
    },
    "tags": []
   },
   "outputs": [
    {
     "data": {
      "text/plain": [
       "array([0, 0, 1, 1, 0, 0, 1, 1, 0, 0, 0, 0, 1, 0, 1, 0, 0, 1, 0, 1, 0, 0,\n",
       "       0, 0, 1, 1, 1, 1, 0, 0, 0, 0, 0, 0, 0, 0, 0, 0, 0, 0, 1, 0, 1, 0,\n",
       "       0, 0, 0, 1, 0, 0, 0, 0, 1, 0, 0, 1, 0, 0, 0, 1, 0, 0, 0, 0, 0, 1,\n",
       "       1, 1, 0, 0, 1, 0, 0, 0, 0, 0, 0, 0, 0, 0, 0, 1, 0, 0, 1, 0, 0, 0,\n",
       "       0, 1])"
      ]
     },
     "execution_count": 7,
     "metadata": {},
     "output_type": "execute_result"
    }
   ],
   "source": [
    "#Predicting using our validation data because we have the true outpu data \n",
    "#thus we will use this data to evaluate our algorithm. \n",
    "\n",
    "yhat = LR.predict(X_val)\n",
    "yhat"
   ]
  },
  {
   "cell_type": "code",
   "execution_count": 8,
   "id": "600efdc8",
   "metadata": {
    "execution": {
     "iopub.execute_input": "2022-04-14T11:24:10.280265Z",
     "iopub.status.busy": "2022-04-14T11:24:10.279582Z",
     "iopub.status.idle": "2022-04-14T11:24:10.283612Z",
     "shell.execute_reply": "2022-04-14T11:24:10.283100Z",
     "shell.execute_reply.started": "2022-04-14T11:21:15.622670Z"
    },
    "papermill": {
     "duration": 0.030847,
     "end_time": "2022-04-14T11:24:10.283741",
     "exception": false,
     "start_time": "2022-04-14T11:24:10.252894",
     "status": "completed"
    },
    "tags": []
   },
   "outputs": [
    {
     "data": {
      "text/plain": [
       "array([[0.75626629, 0.24373371],\n",
       "       [0.75754212, 0.24245788],\n",
       "       [0.37295428, 0.62704572],\n",
       "       [0.21116188, 0.78883812],\n",
       "       [0.79646644, 0.20353356]])"
      ]
     },
     "execution_count": 8,
     "metadata": {},
     "output_type": "execute_result"
    }
   ],
   "source": [
    "#predict_proba returns estimates for all classes, ordered by the label of classes. So, the first column is the probability of class 0, \n",
    "#P(Y=0|X), and second column is probability of class 1, P(Y=1|X)\n",
    "yhat_prob = LR.predict_proba(X_val)\n",
    "yhat_prob[0:5]"
   ]
  },
  {
   "cell_type": "code",
   "execution_count": 9,
   "id": "018dcc51",
   "metadata": {
    "execution": {
     "iopub.execute_input": "2022-04-14T11:24:10.330168Z",
     "iopub.status.busy": "2022-04-14T11:24:10.329523Z",
     "iopub.status.idle": "2022-04-14T11:24:10.336040Z",
     "shell.execute_reply": "2022-04-14T11:24:10.336583Z",
     "shell.execute_reply.started": "2022-04-14T11:21:17.917477Z"
    },
    "papermill": {
     "duration": 0.030846,
     "end_time": "2022-04-14T11:24:10.336755",
     "exception": false,
     "start_time": "2022-04-14T11:24:10.305909",
     "status": "completed"
    },
    "tags": []
   },
   "outputs": [
    {
     "data": {
      "text/plain": [
       "0.8028169014084507"
      ]
     },
     "execution_count": 9,
     "metadata": {},
     "output_type": "execute_result"
    }
   ],
   "source": [
    "#Evaluation of the accuracy of the ML program.\n",
    "from sklearn.metrics import jaccard_score\n",
    "jaccard_score(y_val, yhat,pos_label=0)\n"
   ]
  },
  {
   "cell_type": "code",
   "execution_count": 10,
   "id": "7967de5d",
   "metadata": {
    "execution": {
     "iopub.execute_input": "2022-04-14T11:24:10.384034Z",
     "iopub.status.busy": "2022-04-14T11:24:10.383362Z",
     "iopub.status.idle": "2022-04-14T11:24:10.397225Z",
     "shell.execute_reply": "2022-04-14T11:24:10.397666Z",
     "shell.execute_reply.started": "2022-04-14T11:21:22.792156Z"
    },
    "papermill": {
     "duration": 0.038608,
     "end_time": "2022-04-14T11:24:10.397832",
     "exception": false,
     "start_time": "2022-04-14T11:24:10.359224",
     "status": "completed"
    },
    "tags": []
   },
   "outputs": [
    {
     "name": "stdout",
     "output_type": "stream",
     "text": [
      "[[19  8]\n",
      " [ 6 57]]\n"
     ]
    }
   ],
   "source": [
    "#I got this confusion matrix function from IBM machine learning course. \n",
    "import matplotlib.pyplot as plt\n",
    "from sklearn.metrics import classification_report, confusion_matrix\n",
    "import itertools\n",
    "def plot_confusion_matrix(cm, classes,\n",
    "                          normalize=False,\n",
    "                          title='Confusion matrix',\n",
    "                          cmap=plt.cm.Blues):\n",
    "    \"\"\"\n",
    "    This function prints and plots the confusion matrix.\n",
    "    Normalization can be applied by setting `normalize=True`.\n",
    "    \"\"\"\n",
    "    if normalize:\n",
    "        cm = cm.astype('float') / cm.sum(axis=1)[:, np.newaxis]\n",
    "        print(\"Normalized confusion matrix\")\n",
    "    else:\n",
    "        print('Confusion matrix, without normalization')\n",
    "\n",
    "    print(cm)\n",
    "\n",
    "    plt.imshow(cm, interpolation='nearest', cmap=cmap)\n",
    "    plt.title(title)\n",
    "    plt.colorbar()\n",
    "    tick_marks = np.arange(len(classes))\n",
    "    plt.xticks(tick_marks, classes, rotation=45)\n",
    "    plt.yticks(tick_marks, classes)\n",
    "\n",
    "    fmt = '.2f' if normalize else 'd'\n",
    "    thresh = cm.max() / 2.\n",
    "    for i, j in itertools.product(range(cm.shape[0]), range(cm.shape[1])):\n",
    "        plt.text(j, i, format(cm[i, j], fmt),\n",
    "                 horizontalalignment=\"center\",\n",
    "                 color=\"white\" if cm[i, j] > thresh else \"black\")\n",
    "\n",
    "    plt.tight_layout()\n",
    "    plt.ylabel('True label')\n",
    "    plt.xlabel('Predicted label')\n",
    "print(confusion_matrix(y_val, yhat, labels=[1,0]))"
   ]
  },
  {
   "cell_type": "code",
   "execution_count": 11,
   "id": "c1fefc90",
   "metadata": {
    "execution": {
     "iopub.execute_input": "2022-04-14T11:24:10.448130Z",
     "iopub.status.busy": "2022-04-14T11:24:10.447168Z",
     "iopub.status.idle": "2022-04-14T11:24:10.728436Z",
     "shell.execute_reply": "2022-04-14T11:24:10.727796Z",
     "shell.execute_reply.started": "2022-04-14T11:21:35.445683Z"
    },
    "papermill": {
     "duration": 0.308644,
     "end_time": "2022-04-14T11:24:10.728581",
     "exception": false,
     "start_time": "2022-04-14T11:24:10.419937",
     "status": "completed"
    },
    "tags": []
   },
   "outputs": [
    {
     "name": "stdout",
     "output_type": "stream",
     "text": [
      "Confusion matrix, without normalization\n",
      "[[19  8]\n",
      " [ 6 57]]\n"
     ]
    },
    {
     "data": {
      "image/png": "[encoded data removed]",
      "text/plain": [
       "<Figure size 432x288 with 2 Axes>"
      ]
     },
     "metadata": {
      "needs_background": "light"
     },
     "output_type": "display_data"
    }
   ],
   "source": [
    "# Compute confusion matrix\n",
    "cnf_matrix = confusion_matrix(y_val, yhat, labels=[1,0])\n",
    "np.set_printoptions(precision=2)\n",
    "\n",
    "\n",
    "# Plot non-normalized confusion matrix\n",
    "plt.figure()\n",
    "plot_confusion_matrix(cnf_matrix, classes=['Survived=1','Survived=0'],normalize= False,  title='Confusion matrix')"
   ]
  },
  {
   "cell_type": "code",
   "execution_count": 12,
   "id": "04fd98e6",
   "metadata": {
    "execution": {
     "iopub.execute_input": "2022-04-14T11:24:10.781828Z",
     "iopub.status.busy": "2022-04-14T11:24:10.781203Z",
     "iopub.status.idle": "2022-04-14T11:24:10.788872Z",
     "shell.execute_reply": "2022-04-14T11:24:10.788345Z",
     "shell.execute_reply.started": "2022-04-14T11:21:52.470365Z"
    },
    "papermill": {
     "duration": 0.037366,
     "end_time": "2022-04-14T11:24:10.789031",
     "exception": false,
     "start_time": "2022-04-14T11:24:10.751665",
     "status": "completed"
    },
    "tags": []
   },
   "outputs": [
    {
     "name": "stdout",
     "output_type": "stream",
     "text": [
      "              precision    recall  f1-score   support\n",
      "\n",
      "           0       0.88      0.90      0.89        63\n",
      "           1       0.76      0.70      0.73        27\n",
      "\n",
      "    accuracy                           0.84        90\n",
      "   macro avg       0.82      0.80      0.81        90\n",
      "weighted avg       0.84      0.84      0.84        90\n",
      "\n"
     ]
    }
   ],
   "source": [
    "print (classification_report(y_val, yhat))"
   ]
  },
  {
   "cell_type": "code",
   "execution_count": 13,
   "id": "ce814ed8",
   "metadata": {
    "execution": {
     "iopub.execute_input": "2022-04-14T11:24:10.839504Z",
     "iopub.status.busy": "2022-04-14T11:24:10.838865Z",
     "iopub.status.idle": "2022-04-14T11:24:10.845303Z",
     "shell.execute_reply": "2022-04-14T11:24:10.845866Z",
     "shell.execute_reply.started": "2022-04-14T11:22:05.358412Z"
    },
    "papermill": {
     "duration": 0.033545,
     "end_time": "2022-04-14T11:24:10.846029",
     "exception": false,
     "start_time": "2022-04-14T11:24:10.812484",
     "status": "completed"
    },
    "tags": []
   },
   "outputs": [
    {
     "data": {
      "text/plain": [
       "0.4307476430319787"
      ]
     },
     "execution_count": 13,
     "metadata": {},
     "output_type": "execute_result"
    }
   ],
   "source": [
    "from sklearn.metrics import log_loss\n",
    "log_loss(y_val, yhat_prob)"
   ]
  },
  {
   "cell_type": "code",
   "execution_count": 14,
   "id": "b5e98a86",
   "metadata": {
    "execution": {
     "iopub.execute_input": "2022-04-14T11:24:10.902066Z",
     "iopub.status.busy": "2022-04-14T11:24:10.901348Z",
     "iopub.status.idle": "2022-04-14T11:24:10.904281Z",
     "shell.execute_reply": "2022-04-14T11:24:10.904908Z",
     "shell.execute_reply.started": "2022-04-14T11:22:08.644902Z"
    },
    "papermill": {
     "duration": 0.034913,
     "end_time": "2022-04-14T11:24:10.905095",
     "exception": false,
     "start_time": "2022-04-14T11:24:10.870182",
     "status": "completed"
    },
    "tags": []
   },
   "outputs": [
    {
     "data": {
      "text/plain": [
       "array([0, 1, 0, 0, 1, 0, 1, 0, 1, 0, 0, 0, 1, 0, 1, 1, 0, 0, 1, 1, 0, 0,\n",
       "       1, 0, 1, 0, 1, 0, 0, 0, 0, 0, 1, 1, 0, 0, 1, 1, 0, 0, 0, 0, 0, 1,\n",
       "       1, 0, 0, 0, 1, 1, 0, 0, 1, 1, 0, 0, 0, 0, 0, 1, 0, 0, 0, 1, 1, 1,\n",
       "       1, 0, 0, 1, 1, 0, 1, 0, 1, 1, 0, 1, 0, 1, 0, 0, 0, 0, 0, 0, 1, 1,\n",
       "       1, 0, 1, 0, 1, 0, 0, 0, 1, 0, 1, 0, 1, 0, 0, 0, 1, 0, 0, 0, 0, 0,\n",
       "       0, 1, 1, 1, 1, 0, 0, 1, 0, 1, 1, 0, 1, 0, 0, 1, 0, 1, 0, 0, 0, 0,\n",
       "       1, 0, 0, 0, 0, 0, 1, 0, 1, 1, 0, 0, 0, 0, 0, 0, 0, 0, 1, 0, 0, 1,\n",
       "       0, 0, 1, 1, 0, 1, 1, 0, 1, 0, 0, 1, 0, 0, 1, 1, 0, 0, 0, 0, 0, 1,\n",
       "       1, 0, 1, 1, 0, 0, 1, 0, 1, 0, 1, 0, 0, 0, 0, 0, 0, 0, 0, 0, 1, 1,\n",
       "       0, 1, 1, 0, 0, 1, 0, 0, 1, 0, 1, 0, 0, 0, 0, 1, 0, 0, 1, 0, 1, 0,\n",
       "       1, 0, 1, 0, 1, 1, 0, 1, 0, 0, 0, 1, 0, 0, 0, 0, 0, 0, 1, 1, 1, 1,\n",
       "       0, 0, 0, 0, 1, 0, 1, 1, 1, 0, 0, 0, 0, 0, 0, 0, 1, 0, 0, 0, 1, 1,\n",
       "       0, 0, 0, 0, 1, 0, 0, 0, 1, 1, 0, 1, 0, 0, 0, 0, 1, 0, 1, 1, 1, 0,\n",
       "       0, 0, 0, 0, 0, 1, 0, 0, 0, 0, 1, 0, 0, 0, 0, 0, 0, 0, 1, 1, 0, 0,\n",
       "       0, 1, 0, 0, 0, 1, 1, 1, 0, 0, 0, 0, 0, 0, 0, 0, 1, 0, 1, 0, 0, 0,\n",
       "       1, 0, 0, 1, 0, 0, 0, 0, 0, 0, 0, 0, 0, 1, 0, 1, 0, 1, 0, 1, 1, 0,\n",
       "       0, 0, 1, 0, 1, 0, 0, 1, 0, 1, 1, 0, 1, 1, 0, 1, 1, 0, 0, 1, 0, 0,\n",
       "       1, 1, 1, 0, 0, 0, 0, 0, 1, 1, 0, 1, 0, 0, 0, 0, 0, 1, 0, 0, 0, 1,\n",
       "       0, 1, 0, 0, 1, 0, 1, 0, 0, 0, 0, 0, 1, 1, 1, 1, 1, 0, 1, 0, 0, 0])"
      ]
     },
     "execution_count": 14,
     "metadata": {},
     "output_type": "execute_result"
    }
   ],
   "source": [
    "# Test data that is required to be predicted and submitted.\n",
    "output = LR.predict(yn_test)\n",
    "output"
   ]
  },
  {
   "cell_type": "code",
   "execution_count": 15,
   "id": "92bcefcd",
   "metadata": {
    "execution": {
     "iopub.execute_input": "2022-04-14T11:24:10.959667Z",
     "iopub.status.busy": "2022-04-14T11:24:10.959065Z",
     "iopub.status.idle": "2022-04-14T11:24:10.967822Z",
     "shell.execute_reply": "2022-04-14T11:24:10.968346Z",
     "shell.execute_reply.started": "2022-04-14T11:22:46.975166Z"
    },
    "papermill": {
     "duration": 0.037501,
     "end_time": "2022-04-14T11:24:10.968512",
     "exception": false,
     "start_time": "2022-04-14T11:24:10.931011",
     "status": "completed"
    },
    "tags": []
   },
   "outputs": [
    {
     "name": "stdout",
     "output_type": "stream",
     "text": [
      "Your submission was successfully saved!\n"
     ]
    }
   ],
   "source": [
    "Output = pd.DataFrame({'PassengerId': test_data.PassengerId, 'Survived': output})\n",
    "Output.to_csv('submission.csv', index=False)\n",
    "print(\"Your submission was successfully saved!\")"
   ]
  },
  {
   "cell_type": "code",
   "execution_count": 16,
   "id": "cce89536",
   "metadata": {
    "execution": {
     "iopub.execute_input": "2022-04-14T11:24:11.026966Z",
     "iopub.status.busy": "2022-04-14T11:24:11.021680Z",
     "iopub.status.idle": "2022-04-14T11:24:11.029430Z",
     "shell.execute_reply": "2022-04-14T11:24:11.029999Z",
     "shell.execute_reply.started": "2022-04-14T11:22:56.231696Z"
    },
    "papermill": {
     "duration": 0.0362,
     "end_time": "2022-04-14T11:24:11.030167",
     "exception": false,
     "start_time": "2022-04-14T11:24:10.993967",
     "status": "completed"
    },
    "tags": []
   },
   "outputs": [
    {
     "data": {
      "text/html": [
       "<div>\n",
       "<style scoped>\n",
       "    .dataframe tbody tr th:only-of-type {\n",
       "        vertical-align: middle;\n",
       "    }\n",
       "\n",
       "    .dataframe tbody tr th {\n",
       "        vertical-align: top;\n",
       "    }\n",
       "\n",
       "    .dataframe thead th {\n",
       "        text-align: right;\n",
       "    }\n",
       "</style>\n",
       "<table border=\"1\" class=\"dataframe\">\n",
       "  <thead>\n",
       "    <tr style=\"text-align: right;\">\n",
       "      <th></th>\n",
       "      <th>PassengerId</th>\n",
       "      <th>Survived</th>\n",
       "    </tr>\n",
       "  </thead>\n",
       "  <tbody>\n",
       "    <tr>\n",
       "      <th>0</th>\n",
       "      <td>892</td>\n",
       "      <td>0</td>\n",
       "    </tr>\n",
       "    <tr>\n",
       "      <th>1</th>\n",
       "      <td>893</td>\n",
       "      <td>1</td>\n",
       "    </tr>\n",
       "    <tr>\n",
       "      <th>2</th>\n",
       "      <td>894</td>\n",
       "      <td>0</td>\n",
       "    </tr>\n",
       "    <tr>\n",
       "      <th>3</th>\n",
       "      <td>895</td>\n",
       "      <td>0</td>\n",
       "    </tr>\n",
       "    <tr>\n",
       "      <th>4</th>\n",
       "      <td>896</td>\n",
       "      <td>1</td>\n",
       "    </tr>\n",
       "  </tbody>\n",
       "</table>\n",
       "</div>"
      ],
      "text/plain": [
       "   PassengerId  Survived\n",
       "0          892         0\n",
       "1          893         1\n",
       "2          894         0\n",
       "3          895         0\n",
       "4          896         1"
      ]
     },
     "execution_count": 16,
     "metadata": {},
     "output_type": "execute_result"
    }
   ],
   "source": [
    "Output.head()"
   ]
  },
  {
   "cell_type": "code",
   "execution_count": null,
   "id": "392cb663",
   "metadata": {
    "papermill": {
     "duration": 0.023759,
     "end_time": "2022-04-14T11:24:11.078915",
     "exception": false,
     "start_time": "2022-04-14T11:24:11.055156",
     "status": "completed"
    },
    "tags": []
   },
   "outputs": [],
   "source": []
  }
 ],
 "metadata": {
  "kernelspec": {
   "display_name": "Python 3",
   "language": "python",
   "name": "python3"
  },
  "language_info": {
   "codemirror_mode": {
    "name": "ipython",
    "version": 3
   },
   "file_extension": ".py",
   "mimetype": "text/x-python",
   "name": "python",
   "nbconvert_exporter": "python",
   "pygments_lexer": "ipython3",
   "version": "3.7.12"
  },
  "papermill": {
   "default_parameters": {},
   "duration": 12.355169,
   "end_time": "2022-04-14T11:24:11.814230",
   "environment_variables": {},
   "exception": null,
   "input_path": "__notebook__.ipynb",
   "output_path": "__notebook__.ipynb",
   "parameters": {},
   "start_time": "2022-04-14T11:23:59.459061",
   "version": "2.3.3"
  }
 },
 "nbformat": 4,
 "nbformat_minor": 5
}
