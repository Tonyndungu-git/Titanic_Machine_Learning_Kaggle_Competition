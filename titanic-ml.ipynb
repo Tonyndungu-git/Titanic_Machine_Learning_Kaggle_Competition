{
 "cells": [
  {
   "cell_type": "code",
   "execution_count": 1,
   "id": "b81bc9bd",
   "metadata": {
    "_cell_guid": "b1076dfc-b9ad-4769-8c92-a6c4dae69d19",
    "_uuid": "8f2839f25d086af736a60e9eeb907d3b93b6e0e5",
    "execution": {
     "iopub.execute_input": "2022-04-16T12:46:46.330488Z",
     "iopub.status.busy": "2022-04-16T12:46:46.329305Z",
     "iopub.status.idle": "2022-04-16T12:46:46.343277Z",
     "shell.execute_reply": "2022-04-16T12:46:46.342440Z",
     "shell.execute_reply.started": "2022-04-16T12:42:20.528948Z"
    },
    "papermill": {
     "duration": 0.043927,
     "end_time": "2022-04-16T12:46:46.343447",
     "exception": false,
     "start_time": "2022-04-16T12:46:46.299520",
     "status": "completed"
    },
    "tags": []
   },
   "outputs": [
    {
     "name": "stdout",
     "output_type": "stream",
     "text": [
      "/kaggle/input/titanic/train.csv\n",
      "/kaggle/input/titanic/test.csv\n",
      "/kaggle/input/titanic/gender_submission.csv\n"
     ]
    }
   ],
   "source": [
    "# This Python 3 environment comes with many helpful analytics libraries installed\n",
    "# It is defined by the kaggle/python Docker image: https://github.com/kaggle/docker-python\n",
    "# For example, here's several helpful packages to load\n",
    "\n",
    "import numpy as np # linear algebra\n",
    "import pandas as pd # data processing, CSV file I/O (e.g. pd.read_csv)\n",
    "\n",
    "# Input data files are available in the read-only \"../input/\" directory\n",
    "# For example, running this (by clicking run or pressing Shift+Enter) will list all files under the input directory\n",
    "\n",
    "import os\n",
    "for dirname, _, filenames in os.walk('/kaggle/input'):\n",
    "    for filename in filenames:\n",
    "        print(os.path.join(dirname, filename))\n",
    "\n",
    "# You can write up to 20GB to the current directory (/kaggle/working/) that gets preserved as output when you create a version using \"Save & Run All\" \n",
    "# You can also write temporary files to /kaggle/temp/, but they won't be saved outside of the current session"
   ]
  },
  {
   "cell_type": "code",
   "execution_count": 2,
   "id": "7f22b4d6",
   "metadata": {
    "execution": {
     "iopub.execute_input": "2022-04-16T12:46:46.399270Z",
     "iopub.status.busy": "2022-04-16T12:46:46.398296Z",
     "iopub.status.idle": "2022-04-16T12:46:46.431381Z",
     "shell.execute_reply": "2022-04-16T12:46:46.430795Z",
     "shell.execute_reply.started": "2022-04-16T12:42:20.627351Z"
    },
    "papermill": {
     "duration": 0.060525,
     "end_time": "2022-04-16T12:46:46.431521",
     "exception": false,
     "start_time": "2022-04-16T12:46:46.370996",
     "status": "completed"
    },
    "tags": []
   },
   "outputs": [],
   "source": [
    "#Load data\n",
    "train_data = pd.read_csv(\"/kaggle/input/titanic/train.csv\")\n",
    "test_data = pd.read_csv(\"/kaggle/input/titanic/test.csv\")"
   ]
  },
  {
   "cell_type": "code",
   "execution_count": 3,
   "id": "f1c81d74",
   "metadata": {
    "execution": {
     "iopub.execute_input": "2022-04-16T12:46:46.484617Z",
     "iopub.status.busy": "2022-04-16T12:46:46.483940Z",
     "iopub.status.idle": "2022-04-16T12:46:46.508570Z",
     "shell.execute_reply": "2022-04-16T12:46:46.508022Z",
     "shell.execute_reply.started": "2022-04-16T12:42:20.729921Z"
    },
    "papermill": {
     "duration": 0.052111,
     "end_time": "2022-04-16T12:46:46.508721",
     "exception": false,
     "start_time": "2022-04-16T12:46:46.456610",
     "status": "completed"
    },
    "tags": []
   },
   "outputs": [
    {
     "data": {
      "text/html": [
       "<div>\n",
       "<style scoped>\n",
       "    .dataframe tbody tr th:only-of-type {\n",
       "        vertical-align: middle;\n",
       "    }\n",
       "\n",
       "    .dataframe tbody tr th {\n",
       "        vertical-align: top;\n",
       "    }\n",
       "\n",
       "    .dataframe thead th {\n",
       "        text-align: right;\n",
       "    }\n",
       "</style>\n",
       "<table border=\"1\" class=\"dataframe\">\n",
       "  <thead>\n",
       "    <tr style=\"text-align: right;\">\n",
       "      <th></th>\n",
       "      <th>PassengerId</th>\n",
       "      <th>Survived</th>\n",
       "      <th>Pclass</th>\n",
       "      <th>Name</th>\n",
       "      <th>Sex</th>\n",
       "      <th>Age</th>\n",
       "      <th>SibSp</th>\n",
       "      <th>Parch</th>\n",
       "      <th>Ticket</th>\n",
       "      <th>Fare</th>\n",
       "      <th>Cabin</th>\n",
       "      <th>Embarked</th>\n",
       "    </tr>\n",
       "  </thead>\n",
       "  <tbody>\n",
       "    <tr>\n",
       "      <th>0</th>\n",
       "      <td>1</td>\n",
       "      <td>0</td>\n",
       "      <td>3</td>\n",
       "      <td>Braund, Mr. Owen Harris</td>\n",
       "      <td>male</td>\n",
       "      <td>22.0</td>\n",
       "      <td>1</td>\n",
       "      <td>0</td>\n",
       "      <td>A/5 21171</td>\n",
       "      <td>7.2500</td>\n",
       "      <td>NaN</td>\n",
       "      <td>S</td>\n",
       "    </tr>\n",
       "    <tr>\n",
       "      <th>1</th>\n",
       "      <td>2</td>\n",
       "      <td>1</td>\n",
       "      <td>1</td>\n",
       "      <td>Cumings, Mrs. John Bradley (Florence Briggs Th...</td>\n",
       "      <td>female</td>\n",
       "      <td>38.0</td>\n",
       "      <td>1</td>\n",
       "      <td>0</td>\n",
       "      <td>PC 17599</td>\n",
       "      <td>71.2833</td>\n",
       "      <td>C85</td>\n",
       "      <td>C</td>\n",
       "    </tr>\n",
       "    <tr>\n",
       "      <th>2</th>\n",
       "      <td>3</td>\n",
       "      <td>1</td>\n",
       "      <td>3</td>\n",
       "      <td>Heikkinen, Miss. Laina</td>\n",
       "      <td>female</td>\n",
       "      <td>26.0</td>\n",
       "      <td>0</td>\n",
       "      <td>0</td>\n",
       "      <td>STON/O2. 3101282</td>\n",
       "      <td>7.9250</td>\n",
       "      <td>NaN</td>\n",
       "      <td>S</td>\n",
       "    </tr>\n",
       "    <tr>\n",
       "      <th>3</th>\n",
       "      <td>4</td>\n",
       "      <td>1</td>\n",
       "      <td>1</td>\n",
       "      <td>Futrelle, Mrs. Jacques Heath (Lily May Peel)</td>\n",
       "      <td>female</td>\n",
       "      <td>35.0</td>\n",
       "      <td>1</td>\n",
       "      <td>0</td>\n",
       "      <td>113803</td>\n",
       "      <td>53.1000</td>\n",
       "      <td>C123</td>\n",
       "      <td>S</td>\n",
       "    </tr>\n",
       "    <tr>\n",
       "      <th>4</th>\n",
       "      <td>5</td>\n",
       "      <td>0</td>\n",
       "      <td>3</td>\n",
       "      <td>Allen, Mr. William Henry</td>\n",
       "      <td>male</td>\n",
       "      <td>35.0</td>\n",
       "      <td>0</td>\n",
       "      <td>0</td>\n",
       "      <td>373450</td>\n",
       "      <td>8.0500</td>\n",
       "      <td>NaN</td>\n",
       "      <td>S</td>\n",
       "    </tr>\n",
       "  </tbody>\n",
       "</table>\n",
       "</div>"
      ],
      "text/plain": [
       "   PassengerId  Survived  Pclass  \\\n",
       "0            1         0       3   \n",
       "1            2         1       1   \n",
       "2            3         1       3   \n",
       "3            4         1       1   \n",
       "4            5         0       3   \n",
       "\n",
       "                                                Name     Sex   Age  SibSp  \\\n",
       "0                            Braund, Mr. Owen Harris    male  22.0      1   \n",
       "1  Cumings, Mrs. John Bradley (Florence Briggs Th...  female  38.0      1   \n",
       "2                             Heikkinen, Miss. Laina  female  26.0      0   \n",
       "3       Futrelle, Mrs. Jacques Heath (Lily May Peel)  female  35.0      1   \n",
       "4                           Allen, Mr. William Henry    male  35.0      0   \n",
       "\n",
       "   Parch            Ticket     Fare Cabin Embarked  \n",
       "0      0         A/5 21171   7.2500   NaN        S  \n",
       "1      0          PC 17599  71.2833   C85        C  \n",
       "2      0  STON/O2. 3101282   7.9250   NaN        S  \n",
       "3      0            113803  53.1000  C123        S  \n",
       "4      0            373450   8.0500   NaN        S  "
      ]
     },
     "execution_count": 3,
     "metadata": {},
     "output_type": "execute_result"
    }
   ],
   "source": [
    "train_data.head()"
   ]
  },
  {
   "cell_type": "code",
   "execution_count": 4,
   "id": "579b8cac",
   "metadata": {
    "execution": {
     "iopub.execute_input": "2022-04-16T12:46:46.567292Z",
     "iopub.status.busy": "2022-04-16T12:46:46.566491Z",
     "iopub.status.idle": "2022-04-16T12:46:53.745998Z",
     "shell.execute_reply": "2022-04-16T12:46:53.745344Z",
     "shell.execute_reply.started": "2022-04-16T12:42:20.830870Z"
    },
    "papermill": {
     "duration": 7.211967,
     "end_time": "2022-04-16T12:46:53.746145",
     "exception": false,
     "start_time": "2022-04-16T12:46:46.534178",
     "status": "completed"
    },
    "tags": []
   },
   "outputs": [
    {
     "data": {
      "text/plain": [
       "array([[ 0.87348191,  0.3349926 , -0.49947002, ..., -0.49840706,\n",
       "        -0.75592895,  0.75592895],\n",
       "       [ 0.87348191,  1.32553003,  0.61699237, ..., -0.51327429,\n",
       "         1.32287566, -1.32287566],\n",
       "       [-0.31581919,  2.51417495, -0.49947002, ..., -0.46508846,\n",
       "        -0.75592895,  0.75592895],\n",
       "       ...,\n",
       "       [ 0.87348191,  0.65196458, -0.49947002, ..., -0.50879189,\n",
       "        -0.75592895,  0.75592895],\n",
       "       [ 0.87348191,  0.        , -0.49947002, ..., -0.4944482 ,\n",
       "        -0.75592895,  0.75592895],\n",
       "       [ 0.87348191,  0.        ,  0.61699237, ..., -0.23790598,\n",
       "        -0.75592895,  0.75592895]])"
      ]
     },
     "execution_count": 4,
     "metadata": {},
     "output_type": "execute_result"
    }
   ],
   "source": [
    "import tensorflow as tf\n",
    "from tensorflow import keras\n",
    "\n",
    "y_test = test_data[['Pclass','Age','SibSp','Parch','Sex','Fare']]\n",
    "\n",
    "# One_hot Encoding for categorical data\n",
    "\n",
    "yoh= pd.get_dummies(y_test)\n",
    "# filling NaN\n",
    "from sklearn.impute import SimpleImputer\n",
    "my_imputer = SimpleImputer()\n",
    "ys_test= my_imputer.fit_transform(yoh)\n",
    "#Normalizing the input data\n",
    "from sklearn import preprocessing\n",
    "yn_test = preprocessing.StandardScaler().fit(ys_test).transform(ys_test)\n",
    "\n",
    "yn_test"
   ]
  },
  {
   "cell_type": "code",
   "execution_count": 5,
   "id": "92f27b73",
   "metadata": {
    "execution": {
     "iopub.execute_input": "2022-04-16T12:46:53.810358Z",
     "iopub.status.busy": "2022-04-16T12:46:53.809666Z",
     "iopub.status.idle": "2022-04-16T12:46:53.820532Z",
     "shell.execute_reply": "2022-04-16T12:46:53.821041Z",
     "shell.execute_reply.started": "2022-04-16T12:42:21.071301Z"
    },
    "papermill": {
     "duration": 0.04872,
     "end_time": "2022-04-16T12:46:53.821212",
     "exception": false,
     "start_time": "2022-04-16T12:46:53.772492",
     "status": "completed"
    },
    "tags": []
   },
   "outputs": [
    {
     "data": {
      "text/plain": [
       "(891, 7)"
      ]
     },
     "execution_count": 5,
     "metadata": {},
     "output_type": "execute_result"
    }
   ],
   "source": [
    "X =train_data[['Pclass','Age','SibSp','Parch','Sex','Fare']]\n",
    "y = np.asarray(train_data[['Survived']])\n",
    "\n",
    "# One_hot Encoding for categorical data\n",
    "\n",
    "Xoh= pd.get_dummies(X)\n",
    "\n",
    "# filling NaN\n",
    "from sklearn.impute import SimpleImputer\n",
    "my_imputer = SimpleImputer()\n",
    "Xs= my_imputer.fit_transform(Xoh)\n",
    "\n",
    "#Normalizing the input data\n",
    "from sklearn import preprocessing\n",
    "Xn = preprocessing.StandardScaler().fit(Xs).transform(Xs)\n",
    "Xn.shape\n",
    "\n"
   ]
  },
  {
   "cell_type": "code",
   "execution_count": 6,
   "id": "a02991d9",
   "metadata": {
    "execution": {
     "iopub.execute_input": "2022-04-16T12:46:53.877127Z",
     "iopub.status.busy": "2022-04-16T12:46:53.876421Z",
     "iopub.status.idle": "2022-04-16T12:46:53.883513Z",
     "shell.execute_reply": "2022-04-16T12:46:53.884171Z",
     "shell.execute_reply.started": "2022-04-16T12:42:21.093094Z"
    },
    "papermill": {
     "duration": 0.036254,
     "end_time": "2022-04-16T12:46:53.884406",
     "exception": false,
     "start_time": "2022-04-16T12:46:53.848152",
     "status": "completed"
    },
    "tags": []
   },
   "outputs": [
    {
     "name": "stdout",
     "output_type": "stream",
     "text": [
      "Train set: (801, 7) (801, 1)\n",
      "Test set: (90, 7) (90, 1)\n"
     ]
    }
   ],
   "source": [
    "#Splitting trainind and validation sets\n",
    "from sklearn.model_selection import train_test_split\n",
    "X_train, X_val, y_train, y_val = train_test_split( Xn, y, test_size=0.1, random_state=4)\n",
    "\n",
    "print ('Train set:', X_train.shape,  y_train.shape)\n",
    "print ('Test set:', X_val.shape,  y_val.shape)\n",
    "\n",
    "\n",
    "\n"
   ]
  },
  {
   "cell_type": "code",
   "execution_count": 7,
   "id": "243a7ee7",
   "metadata": {
    "execution": {
     "iopub.execute_input": "2022-04-16T12:46:53.941314Z",
     "iopub.status.busy": "2022-04-16T12:46:53.940613Z",
     "iopub.status.idle": "2022-04-16T12:46:55.111841Z",
     "shell.execute_reply": "2022-04-16T12:46:55.112479Z",
     "shell.execute_reply.started": "2022-04-16T12:42:21.134933Z"
    },
    "papermill": {
     "duration": 1.200985,
     "end_time": "2022-04-16T12:46:55.112670",
     "exception": false,
     "start_time": "2022-04-16T12:46:53.911685",
     "status": "completed"
    },
    "tags": []
   },
   "outputs": [
    {
     "name": "stderr",
     "output_type": "stream",
     "text": [
      "2022-04-16 12:46:55.086204: I tensorflow/core/common_runtime/process_util.cc:146] Creating new thread pool with default inter op setting: 2. Tune using inter_op_parallelism_threads for best performance.\n"
     ]
    }
   ],
   "source": [
    "#Neural Networks Using Tensor Flow\n",
    "# Build the classification model\n",
    "import tensorflow as tf\n",
    "from tensorflow import keras\n",
    "model = tf.keras.models.Sequential([tf.keras.layers.Flatten(), \n",
    "                                    tf.keras.layers.Dense(1600, activation=tf.nn.relu), \n",
    "                                    tf.keras.layers.Dense(1, activation=tf.nn.sigmoid)])"
   ]
  },
  {
   "cell_type": "code",
   "execution_count": 8,
   "id": "cdb79707",
   "metadata": {
    "execution": {
     "iopub.execute_input": "2022-04-16T12:46:55.170570Z",
     "iopub.status.busy": "2022-04-16T12:46:55.169605Z",
     "iopub.status.idle": "2022-04-16T12:47:06.104225Z",
     "shell.execute_reply": "2022-04-16T12:47:06.103679Z",
     "shell.execute_reply.started": "2022-04-16T12:42:21.286050Z"
    },
    "papermill": {
     "duration": 10.964403,
     "end_time": "2022-04-16T12:47:06.104361",
     "exception": false,
     "start_time": "2022-04-16T12:46:55.139958",
     "status": "completed"
    },
    "tags": []
   },
   "outputs": [
    {
     "name": "stderr",
     "output_type": "stream",
     "text": [
      "2022-04-16 12:46:55.282063: I tensorflow/compiler/mlir/mlir_graph_optimization_pass.cc:185] None of the MLIR Optimization Passes are enabled (registered 2)\n"
     ]
    },
    {
     "name": "stdout",
     "output_type": "stream",
     "text": [
      "Epoch 1/150\n",
      "26/26 [==============================] - 1s 2ms/step - loss: 0.1727 - accuracy: 0.7628\n",
      "Epoch 2/150\n",
      "26/26 [==============================] - 0s 2ms/step - loss: 0.1420 - accuracy: 0.7953\n",
      "Epoch 3/150\n",
      "26/26 [==============================] - 0s 2ms/step - loss: 0.1361 - accuracy: 0.8102\n",
      "Epoch 4/150\n",
      "26/26 [==============================] - 0s 2ms/step - loss: 0.1351 - accuracy: 0.8102\n",
      "Epoch 5/150\n",
      "26/26 [==============================] - 0s 2ms/step - loss: 0.1325 - accuracy: 0.8202\n",
      "Epoch 6/150\n",
      "26/26 [==============================] - 0s 2ms/step - loss: 0.1311 - accuracy: 0.8202\n",
      "Epoch 7/150\n",
      "26/26 [==============================] - 0s 5ms/step - loss: 0.1340 - accuracy: 0.8227\n",
      "Epoch 8/150\n",
      "26/26 [==============================] - 0s 2ms/step - loss: 0.1307 - accuracy: 0.8252\n",
      "Epoch 9/150\n",
      "26/26 [==============================] - 0s 2ms/step - loss: 0.1291 - accuracy: 0.8290\n",
      "Epoch 10/150\n",
      "26/26 [==============================] - 0s 2ms/step - loss: 0.1349 - accuracy: 0.8015\n",
      "Epoch 11/150\n",
      "26/26 [==============================] - 0s 2ms/step - loss: 0.1302 - accuracy: 0.8215\n",
      "Epoch 12/150\n",
      "26/26 [==============================] - 0s 2ms/step - loss: 0.1292 - accuracy: 0.8227\n",
      "Epoch 13/150\n",
      "26/26 [==============================] - 0s 2ms/step - loss: 0.1288 - accuracy: 0.8290\n",
      "Epoch 14/150\n",
      "26/26 [==============================] - 0s 2ms/step - loss: 0.1282 - accuracy: 0.8265\n",
      "Epoch 15/150\n",
      "26/26 [==============================] - 0s 2ms/step - loss: 0.1286 - accuracy: 0.8327\n",
      "Epoch 16/150\n",
      "26/26 [==============================] - 0s 2ms/step - loss: 0.1269 - accuracy: 0.8277\n",
      "Epoch 17/150\n",
      "26/26 [==============================] - 0s 2ms/step - loss: 0.1307 - accuracy: 0.8152\n",
      "Epoch 18/150\n",
      "26/26 [==============================] - 0s 2ms/step - loss: 0.1268 - accuracy: 0.8240\n",
      "Epoch 19/150\n",
      "26/26 [==============================] - 0s 3ms/step - loss: 0.1268 - accuracy: 0.8340\n",
      "Epoch 20/150\n",
      "26/26 [==============================] - 0s 2ms/step - loss: 0.1262 - accuracy: 0.8315\n",
      "Epoch 21/150\n",
      "26/26 [==============================] - 0s 2ms/step - loss: 0.1371 - accuracy: 0.8152\n",
      "Epoch 22/150\n",
      "26/26 [==============================] - 0s 3ms/step - loss: 0.1305 - accuracy: 0.8090\n",
      "Epoch 23/150\n",
      "26/26 [==============================] - 0s 2ms/step - loss: 0.1270 - accuracy: 0.8252\n",
      "Epoch 24/150\n",
      "26/26 [==============================] - 0s 2ms/step - loss: 0.1259 - accuracy: 0.8340\n",
      "Epoch 25/150\n",
      "26/26 [==============================] - 0s 4ms/step - loss: 0.1242 - accuracy: 0.8327\n",
      "Epoch 26/150\n",
      "26/26 [==============================] - 0s 2ms/step - loss: 0.1244 - accuracy: 0.8265\n",
      "Epoch 27/150\n",
      "26/26 [==============================] - 0s 2ms/step - loss: 0.1252 - accuracy: 0.8315\n",
      "Epoch 28/150\n",
      "26/26 [==============================] - 0s 2ms/step - loss: 0.1234 - accuracy: 0.8365\n",
      "Epoch 29/150\n",
      "26/26 [==============================] - 0s 2ms/step - loss: 0.1226 - accuracy: 0.8302\n",
      "Epoch 30/150\n",
      "26/26 [==============================] - 0s 2ms/step - loss: 0.1226 - accuracy: 0.8315\n",
      "Epoch 31/150\n",
      "26/26 [==============================] - 0s 2ms/step - loss: 0.1223 - accuracy: 0.8290\n",
      "Epoch 32/150\n",
      "26/26 [==============================] - 0s 2ms/step - loss: 0.1231 - accuracy: 0.8327\n",
      "Epoch 33/150\n",
      "26/26 [==============================] - 0s 2ms/step - loss: 0.1230 - accuracy: 0.8414\n",
      "Epoch 34/150\n",
      "26/26 [==============================] - 0s 2ms/step - loss: 0.1227 - accuracy: 0.8315\n",
      "Epoch 35/150\n",
      "26/26 [==============================] - 0s 2ms/step - loss: 0.1218 - accuracy: 0.8352\n",
      "Epoch 36/150\n",
      "26/26 [==============================] - 0s 2ms/step - loss: 0.1220 - accuracy: 0.8390\n",
      "Epoch 37/150\n",
      "26/26 [==============================] - 0s 2ms/step - loss: 0.1211 - accuracy: 0.8414\n",
      "Epoch 38/150\n",
      "26/26 [==============================] - 0s 2ms/step - loss: 0.1210 - accuracy: 0.8390\n",
      "Epoch 39/150\n",
      "26/26 [==============================] - 0s 2ms/step - loss: 0.1214 - accuracy: 0.8352\n",
      "Epoch 40/150\n",
      "26/26 [==============================] - 0s 2ms/step - loss: 0.1205 - accuracy: 0.8452\n",
      "Epoch 41/150\n",
      "26/26 [==============================] - 0s 2ms/step - loss: 0.1205 - accuracy: 0.8439\n",
      "Epoch 42/150\n",
      "26/26 [==============================] - 0s 3ms/step - loss: 0.1205 - accuracy: 0.8402\n",
      "Epoch 43/150\n",
      "26/26 [==============================] - 0s 2ms/step - loss: 0.1210 - accuracy: 0.8352\n",
      "Epoch 44/150\n",
      "26/26 [==============================] - 0s 2ms/step - loss: 0.1215 - accuracy: 0.8352\n",
      "Epoch 45/150\n",
      "26/26 [==============================] - 0s 2ms/step - loss: 0.1296 - accuracy: 0.8165\n",
      "Epoch 46/150\n",
      "26/26 [==============================] - 0s 2ms/step - loss: 0.1248 - accuracy: 0.8327\n",
      "Epoch 47/150\n",
      "26/26 [==============================] - 0s 2ms/step - loss: 0.1211 - accuracy: 0.8302\n",
      "Epoch 48/150\n",
      "26/26 [==============================] - 0s 3ms/step - loss: 0.1254 - accuracy: 0.8352\n",
      "Epoch 49/150\n",
      "26/26 [==============================] - 0s 2ms/step - loss: 0.1204 - accuracy: 0.8390\n",
      "Epoch 50/150\n",
      "26/26 [==============================] - 0s 3ms/step - loss: 0.1236 - accuracy: 0.8439\n",
      "Epoch 51/150\n",
      "26/26 [==============================] - 0s 2ms/step - loss: 0.1200 - accuracy: 0.8377\n",
      "Epoch 52/150\n",
      "26/26 [==============================] - 0s 2ms/step - loss: 0.1197 - accuracy: 0.8390\n",
      "Epoch 53/150\n",
      "26/26 [==============================] - 0s 2ms/step - loss: 0.1203 - accuracy: 0.8390\n",
      "Epoch 54/150\n",
      "26/26 [==============================] - 0s 3ms/step - loss: 0.1189 - accuracy: 0.8464\n",
      "Epoch 55/150\n",
      "26/26 [==============================] - 0s 2ms/step - loss: 0.1187 - accuracy: 0.8414\n",
      "Epoch 56/150\n",
      "26/26 [==============================] - 0s 2ms/step - loss: 0.1196 - accuracy: 0.8390\n",
      "Epoch 57/150\n",
      "26/26 [==============================] - 0s 2ms/step - loss: 0.1260 - accuracy: 0.8152\n",
      "Epoch 58/150\n",
      "26/26 [==============================] - 0s 2ms/step - loss: 0.1213 - accuracy: 0.8290\n",
      "Epoch 59/150\n",
      "26/26 [==============================] - 0s 2ms/step - loss: 0.1207 - accuracy: 0.8352\n",
      "Epoch 60/150\n",
      "26/26 [==============================] - 0s 2ms/step - loss: 0.1189 - accuracy: 0.8439\n",
      "Epoch 61/150\n",
      "26/26 [==============================] - 0s 2ms/step - loss: 0.1206 - accuracy: 0.8377\n",
      "Epoch 62/150\n",
      "26/26 [==============================] - 0s 2ms/step - loss: 0.1242 - accuracy: 0.8302\n",
      "Epoch 63/150\n",
      "26/26 [==============================] - 0s 2ms/step - loss: 0.1193 - accuracy: 0.8452\n",
      "Epoch 64/150\n",
      "26/26 [==============================] - 0s 2ms/step - loss: 0.1190 - accuracy: 0.8390\n",
      "Epoch 65/150\n",
      "26/26 [==============================] - 0s 2ms/step - loss: 0.1206 - accuracy: 0.8265\n",
      "Epoch 66/150\n",
      "26/26 [==============================] - 0s 2ms/step - loss: 0.1206 - accuracy: 0.8365\n",
      "Epoch 67/150\n",
      "26/26 [==============================] - 0s 2ms/step - loss: 0.1187 - accuracy: 0.8402\n",
      "Epoch 68/150\n",
      "26/26 [==============================] - 0s 2ms/step - loss: 0.1217 - accuracy: 0.8240\n",
      "Epoch 69/150\n",
      "26/26 [==============================] - 0s 2ms/step - loss: 0.1243 - accuracy: 0.8439\n",
      "Epoch 70/150\n",
      "26/26 [==============================] - 0s 2ms/step - loss: 0.1182 - accuracy: 0.8452\n",
      "Epoch 71/150\n",
      "26/26 [==============================] - 0s 2ms/step - loss: 0.1232 - accuracy: 0.8265\n",
      "Epoch 72/150\n",
      "26/26 [==============================] - 0s 2ms/step - loss: 0.1184 - accuracy: 0.8327\n",
      "Epoch 73/150\n",
      "26/26 [==============================] - 0s 2ms/step - loss: 0.1190 - accuracy: 0.8402\n",
      "Epoch 74/150\n",
      "26/26 [==============================] - 0s 2ms/step - loss: 0.1213 - accuracy: 0.8377\n",
      "Epoch 75/150\n",
      "26/26 [==============================] - 0s 2ms/step - loss: 0.1189 - accuracy: 0.8477\n",
      "Epoch 76/150\n",
      "26/26 [==============================] - 0s 2ms/step - loss: 0.1197 - accuracy: 0.8427\n",
      "Epoch 77/150\n",
      "26/26 [==============================] - 0s 2ms/step - loss: 0.1178 - accuracy: 0.8477\n",
      "Epoch 78/150\n",
      "26/26 [==============================] - 0s 2ms/step - loss: 0.1182 - accuracy: 0.8427\n",
      "Epoch 79/150\n",
      "26/26 [==============================] - 0s 2ms/step - loss: 0.1263 - accuracy: 0.8365\n",
      "Epoch 80/150\n",
      "26/26 [==============================] - 0s 2ms/step - loss: 0.1260 - accuracy: 0.8215\n",
      "Epoch 81/150\n",
      "26/26 [==============================] - 0s 2ms/step - loss: 0.1300 - accuracy: 0.8215\n",
      "Epoch 82/150\n",
      "26/26 [==============================] - 0s 2ms/step - loss: 0.1209 - accuracy: 0.8365\n",
      "Epoch 83/150\n",
      "26/26 [==============================] - 0s 2ms/step - loss: 0.1185 - accuracy: 0.8402\n",
      "Epoch 84/150\n",
      "26/26 [==============================] - 0s 2ms/step - loss: 0.1171 - accuracy: 0.8439\n",
      "Epoch 85/150\n",
      "26/26 [==============================] - 0s 2ms/step - loss: 0.1176 - accuracy: 0.8439\n",
      "Epoch 86/150\n",
      "26/26 [==============================] - 0s 2ms/step - loss: 0.1174 - accuracy: 0.8414\n",
      "Epoch 87/150\n",
      "26/26 [==============================] - 0s 2ms/step - loss: 0.1170 - accuracy: 0.8439\n",
      "Epoch 88/150\n",
      "26/26 [==============================] - 0s 2ms/step - loss: 0.1183 - accuracy: 0.8402\n",
      "Epoch 89/150\n",
      "26/26 [==============================] - 0s 2ms/step - loss: 0.1248 - accuracy: 0.8365\n",
      "Epoch 90/150\n",
      "26/26 [==============================] - 0s 2ms/step - loss: 0.1256 - accuracy: 0.8165\n",
      "Epoch 91/150\n",
      "26/26 [==============================] - 0s 2ms/step - loss: 0.1223 - accuracy: 0.8414\n",
      "Epoch 92/150\n",
      "26/26 [==============================] - 0s 2ms/step - loss: 0.1182 - accuracy: 0.8452\n",
      "Epoch 93/150\n",
      "26/26 [==============================] - 0s 2ms/step - loss: 0.1253 - accuracy: 0.8414\n",
      "Epoch 94/150\n",
      "26/26 [==============================] - 0s 2ms/step - loss: 0.1200 - accuracy: 0.8414\n",
      "Epoch 95/150\n",
      "26/26 [==============================] - 0s 2ms/step - loss: 0.1207 - accuracy: 0.8190\n",
      "Epoch 96/150\n",
      "26/26 [==============================] - 0s 2ms/step - loss: 0.1249 - accuracy: 0.8290\n",
      "Epoch 97/150\n",
      "26/26 [==============================] - 0s 2ms/step - loss: 0.1198 - accuracy: 0.8427\n",
      "Epoch 98/150\n",
      "26/26 [==============================] - 0s 2ms/step - loss: 0.1209 - accuracy: 0.8402\n",
      "Epoch 99/150\n",
      "26/26 [==============================] - 0s 2ms/step - loss: 0.1171 - accuracy: 0.8427\n",
      "Epoch 100/150\n",
      "26/26 [==============================] - 0s 2ms/step - loss: 0.1157 - accuracy: 0.8452\n",
      "Epoch 101/150\n",
      "26/26 [==============================] - 0s 2ms/step - loss: 0.1154 - accuracy: 0.8477\n",
      "Epoch 102/150\n",
      "26/26 [==============================] - 0s 2ms/step - loss: 0.1159 - accuracy: 0.8489\n",
      "Epoch 103/150\n",
      "26/26 [==============================] - 0s 2ms/step - loss: 0.1158 - accuracy: 0.8502\n",
      "Epoch 104/150\n",
      "26/26 [==============================] - 0s 2ms/step - loss: 0.1150 - accuracy: 0.8477\n",
      "Epoch 105/150\n",
      "26/26 [==============================] - 0s 2ms/step - loss: 0.1150 - accuracy: 0.8464\n",
      "Epoch 106/150\n",
      "26/26 [==============================] - 0s 2ms/step - loss: 0.1175 - accuracy: 0.8489\n",
      "Epoch 107/150\n",
      "26/26 [==============================] - 0s 2ms/step - loss: 0.1162 - accuracy: 0.8427\n",
      "Epoch 108/150\n",
      "26/26 [==============================] - 0s 2ms/step - loss: 0.1151 - accuracy: 0.8452\n",
      "Epoch 109/150\n",
      "26/26 [==============================] - 0s 2ms/step - loss: 0.1145 - accuracy: 0.8527\n",
      "Epoch 110/150\n",
      "26/26 [==============================] - 0s 3ms/step - loss: 0.1186 - accuracy: 0.8290\n",
      "Epoch 111/150\n",
      "26/26 [==============================] - 0s 2ms/step - loss: 0.1176 - accuracy: 0.8452\n",
      "Epoch 112/150\n",
      "26/26 [==============================] - 0s 2ms/step - loss: 0.1160 - accuracy: 0.8452\n",
      "Epoch 113/150\n",
      "26/26 [==============================] - 0s 2ms/step - loss: 0.1149 - accuracy: 0.8489\n",
      "Epoch 114/150\n",
      "26/26 [==============================] - 0s 2ms/step - loss: 0.1147 - accuracy: 0.8539\n",
      "Epoch 115/150\n",
      "26/26 [==============================] - 0s 2ms/step - loss: 0.1146 - accuracy: 0.8502\n",
      "Epoch 116/150\n",
      "26/26 [==============================] - 0s 2ms/step - loss: 0.1155 - accuracy: 0.8439\n",
      "Epoch 117/150\n",
      "26/26 [==============================] - 0s 3ms/step - loss: 0.1227 - accuracy: 0.8352\n",
      "Epoch 118/150\n",
      "26/26 [==============================] - 0s 2ms/step - loss: 0.1209 - accuracy: 0.8414\n",
      "Epoch 119/150\n",
      "26/26 [==============================] - 0s 2ms/step - loss: 0.1157 - accuracy: 0.8439\n",
      "Epoch 120/150\n",
      "26/26 [==============================] - 0s 2ms/step - loss: 0.1160 - accuracy: 0.8402\n",
      "Epoch 121/150\n",
      "26/26 [==============================] - 0s 2ms/step - loss: 0.1149 - accuracy: 0.8452\n",
      "Epoch 122/150\n",
      "26/26 [==============================] - 0s 2ms/step - loss: 0.1163 - accuracy: 0.8477\n",
      "Epoch 123/150\n",
      "26/26 [==============================] - 0s 2ms/step - loss: 0.1146 - accuracy: 0.8477\n",
      "Epoch 124/150\n",
      "26/26 [==============================] - 0s 2ms/step - loss: 0.1134 - accuracy: 0.8564\n",
      "Epoch 125/150\n",
      "26/26 [==============================] - 0s 2ms/step - loss: 0.1137 - accuracy: 0.8477\n",
      "Epoch 126/150\n",
      "26/26 [==============================] - 0s 2ms/step - loss: 0.1182 - accuracy: 0.8390\n",
      "Epoch 127/150\n",
      "26/26 [==============================] - 0s 2ms/step - loss: 0.1153 - accuracy: 0.8414\n",
      "Epoch 128/150\n",
      "26/26 [==============================] - 0s 2ms/step - loss: 0.1201 - accuracy: 0.8315\n",
      "Epoch 129/150\n",
      "26/26 [==============================] - 0s 2ms/step - loss: 0.1149 - accuracy: 0.8489\n",
      "Epoch 130/150\n",
      "26/26 [==============================] - 0s 2ms/step - loss: 0.1144 - accuracy: 0.8477\n",
      "Epoch 131/150\n",
      "26/26 [==============================] - 0s 2ms/step - loss: 0.1172 - accuracy: 0.8464\n",
      "Epoch 132/150\n",
      "26/26 [==============================] - 0s 2ms/step - loss: 0.1154 - accuracy: 0.8477\n",
      "Epoch 133/150\n",
      "26/26 [==============================] - 0s 2ms/step - loss: 0.1217 - accuracy: 0.8277\n",
      "Epoch 134/150\n",
      "26/26 [==============================] - 0s 2ms/step - loss: 0.1154 - accuracy: 0.8502\n",
      "Epoch 135/150\n",
      "26/26 [==============================] - 0s 2ms/step - loss: 0.1140 - accuracy: 0.8502\n",
      "Epoch 136/150\n",
      "26/26 [==============================] - 0s 2ms/step - loss: 0.1139 - accuracy: 0.8514\n",
      "Epoch 137/150\n",
      "26/26 [==============================] - 0s 2ms/step - loss: 0.1149 - accuracy: 0.8477\n",
      "Epoch 138/150\n",
      "26/26 [==============================] - 0s 2ms/step - loss: 0.1158 - accuracy: 0.8377\n",
      "Epoch 139/150\n",
      "26/26 [==============================] - 0s 2ms/step - loss: 0.1151 - accuracy: 0.8402\n",
      "Epoch 140/150\n",
      "26/26 [==============================] - 0s 2ms/step - loss: 0.1136 - accuracy: 0.8527\n",
      "Epoch 141/150\n",
      "26/26 [==============================] - 0s 2ms/step - loss: 0.1137 - accuracy: 0.8502\n",
      "Epoch 142/150\n",
      "26/26 [==============================] - 0s 2ms/step - loss: 0.1146 - accuracy: 0.8427\n",
      "Epoch 143/150\n",
      "26/26 [==============================] - 0s 2ms/step - loss: 0.1156 - accuracy: 0.8352\n",
      "Epoch 144/150\n",
      "26/26 [==============================] - 0s 2ms/step - loss: 0.1145 - accuracy: 0.8502\n",
      "Epoch 145/150\n",
      "26/26 [==============================] - 0s 2ms/step - loss: 0.1135 - accuracy: 0.8552\n",
      "Epoch 146/150\n",
      "26/26 [==============================] - 0s 2ms/step - loss: 0.1138 - accuracy: 0.8564\n",
      "Epoch 147/150\n",
      "26/26 [==============================] - 0s 2ms/step - loss: 0.1126 - accuracy: 0.8539\n",
      "Epoch 148/150\n",
      "26/26 [==============================] - 0s 2ms/step - loss: 0.1129 - accuracy: 0.8527\n",
      "Epoch 149/150\n",
      "26/26 [==============================] - 0s 2ms/step - loss: 0.1133 - accuracy: 0.8489\n",
      "Epoch 150/150\n",
      "26/26 [==============================] - 0s 2ms/step - loss: 0.1141 - accuracy: 0.8502\n"
     ]
    },
    {
     "data": {
      "text/plain": [
       "<keras.callbacks.History at 0x7f9041c1bf90>"
      ]
     },
     "execution_count": 8,
     "metadata": {},
     "output_type": "execute_result"
    }
   ],
   "source": [
    "#Fitting data set\n",
    "opt = keras.optimizers.Adam(learning_rate=0.001)\n",
    "model.compile(optimizer = opt,\n",
    "              loss = 'mean_squared_error',\n",
    "              metrics=['accuracy'])\n",
    "\n",
    "model.fit(X_train, y_train, epochs=150)"
   ]
  },
  {
   "cell_type": "code",
   "execution_count": 9,
   "id": "16195d77",
   "metadata": {
    "execution": {
     "iopub.execute_input": "2022-04-16T12:47:06.508472Z",
     "iopub.status.busy": "2022-04-16T12:47:06.507505Z",
     "iopub.status.idle": "2022-04-16T12:47:06.720211Z",
     "shell.execute_reply": "2022-04-16T12:47:06.719706Z",
     "shell.execute_reply.started": "2022-04-16T12:42:30.137352Z"
    },
    "papermill": {
     "duration": 0.416006,
     "end_time": "2022-04-16T12:47:06.720352",
     "exception": false,
     "start_time": "2022-04-16T12:47:06.304346",
     "status": "completed"
    },
    "tags": []
   },
   "outputs": [
    {
     "name": "stdout",
     "output_type": "stream",
     "text": [
      "3/3 [==============================] - 0s 3ms/step - loss: 0.0956 - accuracy: 0.8778\n"
     ]
    },
    {
     "data": {
      "text/plain": [
       "[0.0955972895026207, 0.8777777552604675]"
      ]
     },
     "execution_count": 9,
     "metadata": {},
     "output_type": "execute_result"
    }
   ],
   "source": [
    "model.evaluate(X_val,y_val)\n"
   ]
  },
  {
   "cell_type": "code",
   "execution_count": 10,
   "id": "da5ff8d5",
   "metadata": {
    "execution": {
     "iopub.execute_input": "2022-04-16T12:47:07.132560Z",
     "iopub.status.busy": "2022-04-16T12:47:07.131538Z",
     "iopub.status.idle": "2022-04-16T12:47:07.281969Z",
     "shell.execute_reply": "2022-04-16T12:47:07.282727Z",
     "shell.execute_reply.started": "2022-04-16T12:42:30.321269Z"
    },
    "papermill": {
     "duration": 0.359023,
     "end_time": "2022-04-16T12:47:07.282965",
     "exception": false,
     "start_time": "2022-04-16T12:47:06.923942",
     "status": "completed"
    },
    "tags": []
   },
   "outputs": [
    {
     "name": "stdout",
     "output_type": "stream",
     "text": [
      "Your submission was successfully saved!\n"
     ]
    }
   ],
   "source": [
    "yhat = model.predict(yn_test) \n",
    "#yhat0 = np.argmax(yhat,axis = 1) \n",
    "#label = np.argmax(y_val,axis = 1)[:30] \n",
    "yhat1 = yhat.flatten()\n",
    "yhat1\n",
    "\n",
    "output = pd.DataFrame({'PassengerId': test_data.PassengerId, 'Survived': np.where(yhat1 > 0.5, 1, 0)})\n",
    "output.to_csv('submission.csv', index=False)\n",
    "print(\"Your submission was successfully saved!\")"
   ]
  },
  {
   "cell_type": "code",
   "execution_count": 11,
   "id": "43e005d2",
   "metadata": {
    "execution": {
     "iopub.execute_input": "2022-04-16T12:47:07.717002Z",
     "iopub.status.busy": "2022-04-16T12:47:07.716248Z",
     "iopub.status.idle": "2022-04-16T12:47:07.719218Z",
     "shell.execute_reply": "2022-04-16T12:47:07.719737Z",
     "shell.execute_reply.started": "2022-04-16T12:42:30.434875Z"
    },
    "papermill": {
     "duration": 0.214583,
     "end_time": "2022-04-16T12:47:07.719925",
     "exception": false,
     "start_time": "2022-04-16T12:47:07.505342",
     "status": "completed"
    },
    "tags": []
   },
   "outputs": [
    {
     "data": {
      "text/html": [
       "<div>\n",
       "<style scoped>\n",
       "    .dataframe tbody tr th:only-of-type {\n",
       "        vertical-align: middle;\n",
       "    }\n",
       "\n",
       "    .dataframe tbody tr th {\n",
       "        vertical-align: top;\n",
       "    }\n",
       "\n",
       "    .dataframe thead th {\n",
       "        text-align: right;\n",
       "    }\n",
       "</style>\n",
       "<table border=\"1\" class=\"dataframe\">\n",
       "  <thead>\n",
       "    <tr style=\"text-align: right;\">\n",
       "      <th></th>\n",
       "      <th>PassengerId</th>\n",
       "      <th>Survived</th>\n",
       "    </tr>\n",
       "  </thead>\n",
       "  <tbody>\n",
       "    <tr>\n",
       "      <th>0</th>\n",
       "      <td>892</td>\n",
       "      <td>0</td>\n",
       "    </tr>\n",
       "    <tr>\n",
       "      <th>1</th>\n",
       "      <td>893</td>\n",
       "      <td>0</td>\n",
       "    </tr>\n",
       "    <tr>\n",
       "      <th>2</th>\n",
       "      <td>894</td>\n",
       "      <td>0</td>\n",
       "    </tr>\n",
       "    <tr>\n",
       "      <th>3</th>\n",
       "      <td>895</td>\n",
       "      <td>0</td>\n",
       "    </tr>\n",
       "    <tr>\n",
       "      <th>4</th>\n",
       "      <td>896</td>\n",
       "      <td>0</td>\n",
       "    </tr>\n",
       "    <tr>\n",
       "      <th>5</th>\n",
       "      <td>897</td>\n",
       "      <td>0</td>\n",
       "    </tr>\n",
       "    <tr>\n",
       "      <th>6</th>\n",
       "      <td>898</td>\n",
       "      <td>1</td>\n",
       "    </tr>\n",
       "    <tr>\n",
       "      <th>7</th>\n",
       "      <td>899</td>\n",
       "      <td>0</td>\n",
       "    </tr>\n",
       "    <tr>\n",
       "      <th>8</th>\n",
       "      <td>900</td>\n",
       "      <td>1</td>\n",
       "    </tr>\n",
       "    <tr>\n",
       "      <th>9</th>\n",
       "      <td>901</td>\n",
       "      <td>0</td>\n",
       "    </tr>\n",
       "  </tbody>\n",
       "</table>\n",
       "</div>"
      ],
      "text/plain": [
       "   PassengerId  Survived\n",
       "0          892         0\n",
       "1          893         0\n",
       "2          894         0\n",
       "3          895         0\n",
       "4          896         0\n",
       "5          897         0\n",
       "6          898         1\n",
       "7          899         0\n",
       "8          900         1\n",
       "9          901         0"
      ]
     },
     "execution_count": 11,
     "metadata": {},
     "output_type": "execute_result"
    }
   ],
   "source": [
    "output.head(10)"
   ]
  },
  {
   "cell_type": "code",
   "execution_count": null,
   "id": "2a3450b5",
   "metadata": {
    "papermill": {
     "duration": 0.202183,
     "end_time": "2022-04-16T12:47:08.125869",
     "exception": false,
     "start_time": "2022-04-16T12:47:07.923686",
     "status": "completed"
    },
    "tags": []
   },
   "outputs": [],
   "source": []
  },
  {
   "cell_type": "code",
   "execution_count": 12,
   "id": "d2b34b7f",
   "metadata": {
    "execution": {
     "iopub.execute_input": "2022-04-16T12:47:08.532888Z",
     "iopub.status.busy": "2022-04-16T12:47:08.532166Z",
     "iopub.status.idle": "2022-04-16T12:47:08.536493Z",
     "shell.execute_reply": "2022-04-16T12:47:08.535988Z",
     "shell.execute_reply.started": "2022-04-16T12:42:30.445332Z"
    },
    "papermill": {
     "duration": 0.210452,
     "end_time": "2022-04-16T12:47:08.536653",
     "exception": false,
     "start_time": "2022-04-16T12:47:08.326201",
     "status": "completed"
    },
    "tags": []
   },
   "outputs": [],
   "source": [
    "#Logistic Regression\n",
    "#from sklearn.linear_model import LogisticRegression\n",
    "#from sklearn.metrics import confusion_matrix\n",
    "#LR = LogisticRegression(C=0.01, solver='liblinear').fit(X_train,y_train)\n",
    "\n",
    "#Predicting using our validation data because we have the true outpu data \n",
    "#thus we will use this data to evaluate our algorithm. \n",
    "\n",
    "#yhat = LR.predict(X_val)\n",
    "#yhat"
   ]
  },
  {
   "cell_type": "code",
   "execution_count": 13,
   "id": "7dbc5788",
   "metadata": {
    "execution": {
     "iopub.execute_input": "2022-04-16T12:47:08.977871Z",
     "iopub.status.busy": "2022-04-16T12:47:08.976259Z",
     "iopub.status.idle": "2022-04-16T12:47:08.980061Z",
     "shell.execute_reply": "2022-04-16T12:47:08.980515Z",
     "shell.execute_reply.started": "2022-04-16T12:42:30.458584Z"
    },
    "papermill": {
     "duration": 0.228758,
     "end_time": "2022-04-16T12:47:08.980741",
     "exception": false,
     "start_time": "2022-04-16T12:47:08.751983",
     "status": "completed"
    },
    "tags": []
   },
   "outputs": [],
   "source": [
    "#predict_proba returns estimates for all classes, ordered by the label of classes. So, the first column is the probability of class 0, \n",
    "#P(Y=0|X), and second column is probability of class 1, P(Y=1|X)\n",
    "#yhat_prob = LR.predict_proba(X_val)\n",
    "#yhat_prob[0:5]"
   ]
  },
  {
   "cell_type": "code",
   "execution_count": 14,
   "id": "6cf52a3d",
   "metadata": {
    "execution": {
     "iopub.execute_input": "2022-04-16T12:47:09.399146Z",
     "iopub.status.busy": "2022-04-16T12:47:09.398160Z",
     "iopub.status.idle": "2022-04-16T12:47:09.401362Z",
     "shell.execute_reply": "2022-04-16T12:47:09.401986Z",
     "shell.execute_reply.started": "2022-04-16T12:42:30.475718Z"
    },
    "papermill": {
     "duration": 0.20944,
     "end_time": "2022-04-16T12:47:09.402163",
     "exception": false,
     "start_time": "2022-04-16T12:47:09.192723",
     "status": "completed"
    },
    "tags": []
   },
   "outputs": [],
   "source": [
    " #Evaluation of the accuracy of the ML program.\n",
    "#from sklearn.metrics import jaccard_score\n",
    "#jaccard_score(y_val, yhat,pos_label=0)\n"
   ]
  },
  {
   "cell_type": "code",
   "execution_count": 15,
   "id": "313cdfa0",
   "metadata": {
    "execution": {
     "iopub.execute_input": "2022-04-16T12:47:09.808517Z",
     "iopub.status.busy": "2022-04-16T12:47:09.807476Z",
     "iopub.status.idle": "2022-04-16T12:47:09.812508Z",
     "shell.execute_reply": "2022-04-16T12:47:09.813156Z",
     "shell.execute_reply.started": "2022-04-16T12:42:30.488196Z"
    },
    "papermill": {
     "duration": 0.208694,
     "end_time": "2022-04-16T12:47:09.813324",
     "exception": false,
     "start_time": "2022-04-16T12:47:09.604630",
     "status": "completed"
    },
    "tags": []
   },
   "outputs": [],
   "source": [
    "# #I got this confusion matrix function from IBM machine learning course. \n",
    "# #import matplotlib.pyplot as plt\n",
    "# #from sklearn.metrics import classification_report, confusion_matrix\n",
    "# #import itertools\n",
    "# #def plot_confusion_matrix(cm, classes,\n",
    "#                           normalize=False,\n",
    "#                           title='Confusion matrix',\n",
    "#                           cmap=plt.cm.Blues):\n",
    "#     \"\"\"\n",
    "#     This function prints and plots the confusion matrix.\n",
    "#     Normalization can be applied by setting `normalize=True`.\n",
    "#     \"\"\"\n",
    "#     if normalize:\n",
    "#         cm = cm.astype('float') / cm.sum(axis=1)[:, np.newaxis]\n",
    "#         print(\"Normalized confusion matrix\")\n",
    "#     else:\n",
    "#         print('Confusion matrix, without normalization')\n",
    "\n",
    "#     print(cm)\n",
    "\n",
    "#     plt.imshow(cm, interpolation='nearest', cmap=cmap)\n",
    "#     plt.title(title)\n",
    "#     plt.colorbar()\n",
    "#     tick_marks = np.arange(len(classes))\n",
    "#     plt.xticks(tick_marks, classes, rotation=45)\n",
    "#     plt.yticks(tick_marks, classes)\n",
    "\n",
    "#     fmt = '.2f' if normalize else 'd'\n",
    "#     thresh = cm.max() / 2.\n",
    "#     for i, j in itertools.product(range(cm.shape[0]), range(cm.shape[1])):\n",
    "#         plt.text(j, i, format(cm[i, j], fmt),\n",
    "#                  horizontalalignment=\"center\",\n",
    "#                  color=\"white\" if cm[i, j] > thresh else \"black\")\n",
    "\n",
    "#     plt.tight_layout()\n",
    "#     plt.ylabel('True label')\n",
    "#     plt.xlabel('Predicted label')\n",
    "# print(confusion_matrix(y_val, yhat, labels=[1,0]))"
   ]
  },
  {
   "cell_type": "code",
   "execution_count": 16,
   "id": "089e4d1c",
   "metadata": {
    "execution": {
     "iopub.execute_input": "2022-04-16T12:47:10.216958Z",
     "iopub.status.busy": "2022-04-16T12:47:10.215792Z",
     "iopub.status.idle": "2022-04-16T12:47:10.219469Z",
     "shell.execute_reply": "2022-04-16T12:47:10.219949Z",
     "shell.execute_reply.started": "2022-04-16T12:42:30.500527Z"
    },
    "papermill": {
     "duration": 0.206203,
     "end_time": "2022-04-16T12:47:10.220126",
     "exception": false,
     "start_time": "2022-04-16T12:47:10.013923",
     "status": "completed"
    },
    "tags": []
   },
   "outputs": [],
   "source": [
    "# Compute confusion matrix\n",
    "# cnf_matrix = confusion_matrix(y_val, yhat, labels=[1,0])\n",
    "# np.set_printoptions(precision=2)\n",
    "\n",
    "\n",
    "# # Plot non-normalized confusion matrix\n",
    "# plt.figure()\n",
    "# plot_confusion_matrix(cnf_matrix, classes=['Survived=1','Survived=0'],normalize= False,  title='Confusion matrix')"
   ]
  },
  {
   "cell_type": "code",
   "execution_count": 17,
   "id": "11ecb19b",
   "metadata": {
    "execution": {
     "iopub.execute_input": "2022-04-16T12:47:10.628365Z",
     "iopub.status.busy": "2022-04-16T12:47:10.627373Z",
     "iopub.status.idle": "2022-04-16T12:47:10.630954Z",
     "shell.execute_reply": "2022-04-16T12:47:10.631427Z",
     "shell.execute_reply.started": "2022-04-16T12:42:30.520258Z"
    },
    "papermill": {
     "duration": 0.210943,
     "end_time": "2022-04-16T12:47:10.631603",
     "exception": false,
     "start_time": "2022-04-16T12:47:10.420660",
     "status": "completed"
    },
    "tags": []
   },
   "outputs": [],
   "source": [
    "# print (classification_report(y_val, yhat))"
   ]
  },
  {
   "cell_type": "code",
   "execution_count": 18,
   "id": "e5be7ae4",
   "metadata": {
    "execution": {
     "iopub.execute_input": "2022-04-16T12:47:11.041522Z",
     "iopub.status.busy": "2022-04-16T12:47:11.040560Z",
     "iopub.status.idle": "2022-04-16T12:47:11.043742Z",
     "shell.execute_reply": "2022-04-16T12:47:11.044323Z",
     "shell.execute_reply.started": "2022-04-16T12:42:30.533071Z"
    },
    "papermill": {
     "duration": 0.21284,
     "end_time": "2022-04-16T12:47:11.044492",
     "exception": false,
     "start_time": "2022-04-16T12:47:10.831652",
     "status": "completed"
    },
    "tags": []
   },
   "outputs": [],
   "source": [
    "# from sklearn.metrics import log_loss\n",
    "# log_loss(y_val, yhat_prob)"
   ]
  },
  {
   "cell_type": "code",
   "execution_count": 19,
   "id": "0fc02960",
   "metadata": {
    "execution": {
     "iopub.execute_input": "2022-04-16T12:47:11.447496Z",
     "iopub.status.busy": "2022-04-16T12:47:11.446434Z",
     "iopub.status.idle": "2022-04-16T12:47:11.450278Z",
     "shell.execute_reply": "2022-04-16T12:47:11.449644Z",
     "shell.execute_reply.started": "2022-04-16T12:42:30.546995Z"
    },
    "papermill": {
     "duration": 0.206547,
     "end_time": "2022-04-16T12:47:11.450418",
     "exception": false,
     "start_time": "2022-04-16T12:47:11.243871",
     "status": "completed"
    },
    "tags": []
   },
   "outputs": [],
   "source": [
    "# # Test data that is required to be predicted and submitted.\n",
    "# output = LR.predict(yn_test)\n",
    "# output"
   ]
  },
  {
   "cell_type": "code",
   "execution_count": 20,
   "id": "c9b557dc",
   "metadata": {
    "execution": {
     "iopub.execute_input": "2022-04-16T12:47:11.855620Z",
     "iopub.status.busy": "2022-04-16T12:47:11.854615Z",
     "iopub.status.idle": "2022-04-16T12:47:11.857718Z",
     "shell.execute_reply": "2022-04-16T12:47:11.858187Z",
     "shell.execute_reply.started": "2022-04-16T12:45:48.078701Z"
    },
    "papermill": {
     "duration": 0.208218,
     "end_time": "2022-04-16T12:47:11.858361",
     "exception": false,
     "start_time": "2022-04-16T12:47:11.650143",
     "status": "completed"
    },
    "tags": []
   },
   "outputs": [],
   "source": [
    "# Output = pd.DataFrame({'PassengerId': test_data.PassengerId, 'Survived': output})\n",
    "# Output.to_csv('submission.csv', index=False)\n",
    "# print(\"Your submission was successfully saved!\")"
   ]
  },
  {
   "cell_type": "code",
   "execution_count": 21,
   "id": "bd4f6232",
   "metadata": {
    "execution": {
     "iopub.execute_input": "2022-04-16T12:47:12.261331Z",
     "iopub.status.busy": "2022-04-16T12:47:12.260411Z",
     "iopub.status.idle": "2022-04-16T12:47:12.263408Z",
     "shell.execute_reply": "2022-04-16T12:47:12.263966Z",
     "shell.execute_reply.started": "2022-04-16T12:46:02.671243Z"
    },
    "papermill": {
     "duration": 0.205628,
     "end_time": "2022-04-16T12:47:12.264126",
     "exception": false,
     "start_time": "2022-04-16T12:47:12.058498",
     "status": "completed"
    },
    "tags": []
   },
   "outputs": [],
   "source": [
    "#Output.head()"
   ]
  },
  {
   "cell_type": "code",
   "execution_count": null,
   "id": "290eb963",
   "metadata": {
    "papermill": {
     "duration": 0.201619,
     "end_time": "2022-04-16T12:47:12.665009",
     "exception": false,
     "start_time": "2022-04-16T12:47:12.463390",
     "status": "completed"
    },
    "tags": []
   },
   "outputs": [],
   "source": []
  },
  {
   "cell_type": "code",
   "execution_count": null,
   "id": "f27e77b0",
   "metadata": {
    "papermill": {
     "duration": 0.202681,
     "end_time": "2022-04-16T12:47:13.069459",
     "exception": false,
     "start_time": "2022-04-16T12:47:12.866778",
     "status": "completed"
    },
    "tags": []
   },
   "outputs": [],
   "source": []
  }
 ],
 "metadata": {
  "kernelspec": {
   "display_name": "Python 3",
   "language": "python",
   "name": "python3"
  },
  "language_info": {
   "codemirror_mode": {
    "name": "ipython",
    "version": 3
   },
   "file_extension": ".py",
   "mimetype": "text/x-python",
   "name": "python",
   "nbconvert_exporter": "python",
   "pygments_lexer": "ipython3",
   "version": "3.7.12"
  },
  "papermill": {
   "default_parameters": {},
   "duration": 40.722737,
   "end_time": "2022-04-16T12:47:16.607859",
   "environment_variables": {},
   "exception": null,
   "input_path": "__notebook__.ipynb",
   "output_path": "__notebook__.ipynb",
   "parameters": {},
   "start_time": "2022-04-16T12:46:35.885122",
   "version": "2.3.3"
  }
 },
 "nbformat": 4,
 "nbformat_minor": 5
}
