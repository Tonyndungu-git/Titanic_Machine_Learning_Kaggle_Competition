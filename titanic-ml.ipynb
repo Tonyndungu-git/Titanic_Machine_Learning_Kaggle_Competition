{
 "cells": [
  {
   "cell_type": "code",
   "execution_count": 1,
   "id": "1b9931fb",
   "metadata": {
    "_cell_guid": "b1076dfc-b9ad-4769-8c92-a6c4dae69d19",
    "_uuid": "8f2839f25d086af736a60e9eeb907d3b93b6e0e5",
    "execution": {
     "iopub.execute_input": "2022-04-14T10:52:25.950710Z",
     "iopub.status.busy": "2022-04-14T10:52:25.948143Z",
     "iopub.status.idle": "2022-04-14T10:52:25.959023Z",
     "shell.execute_reply": "2022-04-14T10:52:25.957970Z",
     "shell.execute_reply.started": "2022-04-14T10:49:51.548670Z"
    },
    "papermill": {
     "duration": 0.040603,
     "end_time": "2022-04-14T10:52:25.959291",
     "exception": false,
     "start_time": "2022-04-14T10:52:25.918688",
     "status": "completed"
    },
    "tags": []
   },
   "outputs": [
    {
     "name": "stdout",
     "output_type": "stream",
     "text": [
      "/kaggle/input/titanic/train.csv\n",
      "/kaggle/input/titanic/test.csv\n",
      "/kaggle/input/titanic/gender_submission.csv\n"
     ]
    }
   ],
   "source": [
    "# This Python 3 environment comes with many helpful analytics libraries installed\n",
    "# It is defined by the kaggle/python Docker image: https://github.com/kaggle/docker-python\n",
    "# For example, here's several helpful packages to load\n",
    "\n",
    "import numpy as np # linear algebra\n",
    "import pandas as pd # data processing, CSV file I/O (e.g. pd.read_csv)\n",
    "\n",
    "# Input data files are available in the read-only \"../input/\" directory\n",
    "# For example, running this (by clicking run or pressing Shift+Enter) will list all files under the input directory\n",
    "\n",
    "import os\n",
    "for dirname, _, filenames in os.walk('/kaggle/input'):\n",
    "    for filename in filenames:\n",
    "        print(os.path.join(dirname, filename))\n",
    "\n",
    "# You can write up to 20GB to the current directory (/kaggle/working/) that gets preserved as output when you create a version using \"Save & Run All\" \n",
    "# You can also write temporary files to /kaggle/temp/, but they won't be saved outside of the current session"
   ]
  },
  {
   "cell_type": "code",
   "execution_count": 2,
   "id": "ba84337d",
   "metadata": {
    "execution": {
     "iopub.execute_input": "2022-04-14T10:52:26.005415Z",
     "iopub.status.busy": "2022-04-14T10:52:26.004723Z",
     "iopub.status.idle": "2022-04-14T10:52:26.033378Z",
     "shell.execute_reply": "2022-04-14T10:52:26.032683Z",
     "shell.execute_reply.started": "2022-04-14T10:49:52.548301Z"
    },
    "papermill": {
     "duration": 0.053889,
     "end_time": "2022-04-14T10:52:26.033539",
     "exception": false,
     "start_time": "2022-04-14T10:52:25.979650",
     "status": "completed"
    },
    "tags": []
   },
   "outputs": [],
   "source": [
    "#Load data\n",
    "train_data = pd.read_csv(\"/kaggle/input/titanic/train.csv\")\n",
    "test_data = pd.read_csv(\"/kaggle/input/titanic/test.csv\")"
   ]
  },
  {
   "cell_type": "code",
   "execution_count": 3,
   "id": "6a3cfd9f",
   "metadata": {
    "execution": {
     "iopub.execute_input": "2022-04-14T10:52:26.075698Z",
     "iopub.status.busy": "2022-04-14T10:52:26.074992Z",
     "iopub.status.idle": "2022-04-14T10:52:26.101284Z",
     "shell.execute_reply": "2022-04-14T10:52:26.101793Z",
     "shell.execute_reply.started": "2022-04-14T10:49:53.821041Z"
    },
    "papermill": {
     "duration": 0.049416,
     "end_time": "2022-04-14T10:52:26.101990",
     "exception": false,
     "start_time": "2022-04-14T10:52:26.052574",
     "status": "completed"
    },
    "tags": []
   },
   "outputs": [
    {
     "data": {
      "text/html": [
       "<div>\n",
       "<style scoped>\n",
       "    .dataframe tbody tr th:only-of-type {\n",
       "        vertical-align: middle;\n",
       "    }\n",
       "\n",
       "    .dataframe tbody tr th {\n",
       "        vertical-align: top;\n",
       "    }\n",
       "\n",
       "    .dataframe thead th {\n",
       "        text-align: right;\n",
       "    }\n",
       "</style>\n",
       "<table border=\"1\" class=\"dataframe\">\n",
       "  <thead>\n",
       "    <tr style=\"text-align: right;\">\n",
       "      <th></th>\n",
       "      <th>PassengerId</th>\n",
       "      <th>Survived</th>\n",
       "      <th>Pclass</th>\n",
       "      <th>Name</th>\n",
       "      <th>Sex</th>\n",
       "      <th>Age</th>\n",
       "      <th>SibSp</th>\n",
       "      <th>Parch</th>\n",
       "      <th>Ticket</th>\n",
       "      <th>Fare</th>\n",
       "      <th>Cabin</th>\n",
       "      <th>Embarked</th>\n",
       "    </tr>\n",
       "  </thead>\n",
       "  <tbody>\n",
       "    <tr>\n",
       "      <th>0</th>\n",
       "      <td>1</td>\n",
       "      <td>0</td>\n",
       "      <td>3</td>\n",
       "      <td>Braund, Mr. Owen Harris</td>\n",
       "      <td>male</td>\n",
       "      <td>22.0</td>\n",
       "      <td>1</td>\n",
       "      <td>0</td>\n",
       "      <td>A/5 21171</td>\n",
       "      <td>7.2500</td>\n",
       "      <td>NaN</td>\n",
       "      <td>S</td>\n",
       "    </tr>\n",
       "    <tr>\n",
       "      <th>1</th>\n",
       "      <td>2</td>\n",
       "      <td>1</td>\n",
       "      <td>1</td>\n",
       "      <td>Cumings, Mrs. John Bradley (Florence Briggs Th...</td>\n",
       "      <td>female</td>\n",
       "      <td>38.0</td>\n",
       "      <td>1</td>\n",
       "      <td>0</td>\n",
       "      <td>PC 17599</td>\n",
       "      <td>71.2833</td>\n",
       "      <td>C85</td>\n",
       "      <td>C</td>\n",
       "    </tr>\n",
       "    <tr>\n",
       "      <th>2</th>\n",
       "      <td>3</td>\n",
       "      <td>1</td>\n",
       "      <td>3</td>\n",
       "      <td>Heikkinen, Miss. Laina</td>\n",
       "      <td>female</td>\n",
       "      <td>26.0</td>\n",
       "      <td>0</td>\n",
       "      <td>0</td>\n",
       "      <td>STON/O2. 3101282</td>\n",
       "      <td>7.9250</td>\n",
       "      <td>NaN</td>\n",
       "      <td>S</td>\n",
       "    </tr>\n",
       "    <tr>\n",
       "      <th>3</th>\n",
       "      <td>4</td>\n",
       "      <td>1</td>\n",
       "      <td>1</td>\n",
       "      <td>Futrelle, Mrs. Jacques Heath (Lily May Peel)</td>\n",
       "      <td>female</td>\n",
       "      <td>35.0</td>\n",
       "      <td>1</td>\n",
       "      <td>0</td>\n",
       "      <td>113803</td>\n",
       "      <td>53.1000</td>\n",
       "      <td>C123</td>\n",
       "      <td>S</td>\n",
       "    </tr>\n",
       "    <tr>\n",
       "      <th>4</th>\n",
       "      <td>5</td>\n",
       "      <td>0</td>\n",
       "      <td>3</td>\n",
       "      <td>Allen, Mr. William Henry</td>\n",
       "      <td>male</td>\n",
       "      <td>35.0</td>\n",
       "      <td>0</td>\n",
       "      <td>0</td>\n",
       "      <td>373450</td>\n",
       "      <td>8.0500</td>\n",
       "      <td>NaN</td>\n",
       "      <td>S</td>\n",
       "    </tr>\n",
       "  </tbody>\n",
       "</table>\n",
       "</div>"
      ],
      "text/plain": [
       "   PassengerId  Survived  Pclass  \\\n",
       "0            1         0       3   \n",
       "1            2         1       1   \n",
       "2            3         1       3   \n",
       "3            4         1       1   \n",
       "4            5         0       3   \n",
       "\n",
       "                                                Name     Sex   Age  SibSp  \\\n",
       "0                            Braund, Mr. Owen Harris    male  22.0      1   \n",
       "1  Cumings, Mrs. John Bradley (Florence Briggs Th...  female  38.0      1   \n",
       "2                             Heikkinen, Miss. Laina  female  26.0      0   \n",
       "3       Futrelle, Mrs. Jacques Heath (Lily May Peel)  female  35.0      1   \n",
       "4                           Allen, Mr. William Henry    male  35.0      0   \n",
       "\n",
       "   Parch            Ticket     Fare Cabin Embarked  \n",
       "0      0         A/5 21171   7.2500   NaN        S  \n",
       "1      0          PC 17599  71.2833   C85        C  \n",
       "2      0  STON/O2. 3101282   7.9250   NaN        S  \n",
       "3      0            113803  53.1000  C123        S  \n",
       "4      0            373450   8.0500   NaN        S  "
      ]
     },
     "execution_count": 3,
     "metadata": {},
     "output_type": "execute_result"
    }
   ],
   "source": [
    "train_data.head()"
   ]
  },
  {
   "cell_type": "code",
   "execution_count": 4,
   "id": "3566062b",
   "metadata": {
    "execution": {
     "iopub.execute_input": "2022-04-14T10:52:26.151064Z",
     "iopub.status.busy": "2022-04-14T10:52:26.150350Z",
     "iopub.status.idle": "2022-04-14T10:52:27.577857Z",
     "shell.execute_reply": "2022-04-14T10:52:27.577107Z",
     "shell.execute_reply.started": "2022-04-14T10:49:55.382359Z"
    },
    "papermill": {
     "duration": 1.457005,
     "end_time": "2022-04-14T10:52:27.578014",
     "exception": false,
     "start_time": "2022-04-14T10:52:26.121009",
     "status": "completed"
    },
    "tags": []
   },
   "outputs": [
    {
     "data": {
      "text/plain": [
       "array([[ 0.87348191,  0.3349926 , -0.49947002, ..., -0.49840706,\n",
       "        -0.75592895,  0.75592895],\n",
       "       [ 0.87348191,  1.32553003,  0.61699237, ..., -0.51327429,\n",
       "         1.32287566, -1.32287566],\n",
       "       [-0.31581919,  2.51417495, -0.49947002, ..., -0.46508846,\n",
       "        -0.75592895,  0.75592895],\n",
       "       ...,\n",
       "       [ 0.87348191,  0.65196458, -0.49947002, ..., -0.50879189,\n",
       "        -0.75592895,  0.75592895],\n",
       "       [ 0.87348191,  0.        , -0.49947002, ..., -0.4944482 ,\n",
       "        -0.75592895,  0.75592895],\n",
       "       [ 0.87348191,  0.        ,  0.61699237, ..., -0.23790598,\n",
       "        -0.75592895,  0.75592895]])"
      ]
     },
     "execution_count": 4,
     "metadata": {},
     "output_type": "execute_result"
    }
   ],
   "source": [
    "y_test = test_data[['Pclass','Age','SibSp','Parch','Sex','Fare']]\n",
    "\n",
    "# One_hot Encoding for categorical data\n",
    "\n",
    "yoh= pd.get_dummies(y_test)\n",
    "# filling NaN\n",
    "from sklearn.impute import SimpleImputer\n",
    "my_imputer = SimpleImputer()\n",
    "ys_test= my_imputer.fit_transform(yoh)\n",
    "#Normalizing the input data\n",
    "from sklearn import preprocessing\n",
    "yn_test = preprocessing.StandardScaler().fit(ys_test).transform(ys_test)\n",
    "yn_test\n"
   ]
  },
  {
   "cell_type": "code",
   "execution_count": 5,
   "id": "04a5c906",
   "metadata": {
    "execution": {
     "iopub.execute_input": "2022-04-14T10:52:27.631849Z",
     "iopub.status.busy": "2022-04-14T10:52:27.631100Z",
     "iopub.status.idle": "2022-04-14T10:52:27.642371Z",
     "shell.execute_reply": "2022-04-14T10:52:27.642968Z",
     "shell.execute_reply.started": "2022-04-14T10:50:11.514434Z"
    },
    "papermill": {
     "duration": 0.045009,
     "end_time": "2022-04-14T10:52:27.643187",
     "exception": false,
     "start_time": "2022-04-14T10:52:27.598178",
     "status": "completed"
    },
    "tags": []
   },
   "outputs": [
    {
     "data": {
      "text/plain": [
       "(891, 7)"
      ]
     },
     "execution_count": 5,
     "metadata": {},
     "output_type": "execute_result"
    }
   ],
   "source": [
    "X =train_data[['Pclass','Age','SibSp','Parch','Sex','Fare']]\n",
    "y = np.asarray(train_data[['Survived']])\n",
    "\n",
    "# One_hot Encoding for categorical data\n",
    "\n",
    "Xoh= pd.get_dummies(X)\n",
    "\n",
    "# filling NaN\n",
    "from sklearn.impute import SimpleImputer\n",
    "my_imputer = SimpleImputer()\n",
    "Xs= my_imputer.fit_transform(Xoh)\n",
    "\n",
    "#Normalizing the input data\n",
    "from sklearn import preprocessing\n",
    "Xn = preprocessing.StandardScaler().fit(Xs).transform(Xs)\n",
    "Xn.shape\n",
    "\n"
   ]
  },
  {
   "cell_type": "code",
   "execution_count": 6,
   "id": "43a53f71",
   "metadata": {
    "execution": {
     "iopub.execute_input": "2022-04-14T10:52:27.692569Z",
     "iopub.status.busy": "2022-04-14T10:52:27.691472Z",
     "iopub.status.idle": "2022-04-14T10:52:27.705007Z",
     "shell.execute_reply": "2022-04-14T10:52:27.705516Z",
     "shell.execute_reply.started": "2022-04-14T10:50:48.299673Z"
    },
    "papermill": {
     "duration": 0.041891,
     "end_time": "2022-04-14T10:52:27.705716",
     "exception": false,
     "start_time": "2022-04-14T10:52:27.663825",
     "status": "completed"
    },
    "tags": []
   },
   "outputs": [
    {
     "name": "stdout",
     "output_type": "stream",
     "text": [
      "Train set: (712, 7) (712, 1)\n",
      "Test set: (179, 7) (179, 1)\n"
     ]
    },
    {
     "name": "stderr",
     "output_type": "stream",
     "text": [
      "/opt/conda/lib/python3.7/site-packages/sklearn/utils/validation.py:985: DataConversionWarning: A column-vector y was passed when a 1d array was expected. Please change the shape of y to (n_samples, ), for example using ravel().\n",
      "  y = column_or_1d(y, warn=True)\n"
     ]
    }
   ],
   "source": [
    "#Splitting trainind and validation sets\n",
    "from sklearn.model_selection import train_test_split\n",
    "X_train, X_val, y_train, y_val = train_test_split( Xn, y, test_size=0.2, random_state=4)\n",
    "print ('Train set:', X_train.shape,  y_train.shape)\n",
    "print ('Test set:', X_val.shape,  y_val.shape)\n",
    "\n",
    "from sklearn.linear_model import LogisticRegression\n",
    "from sklearn.metrics import confusion_matrix\n",
    "LR = LogisticRegression(C=0.01, solver='liblinear').fit(X_train,y_train)\n"
   ]
  },
  {
   "cell_type": "code",
   "execution_count": 7,
   "id": "988dca62",
   "metadata": {
    "execution": {
     "iopub.execute_input": "2022-04-14T10:52:27.752428Z",
     "iopub.status.busy": "2022-04-14T10:52:27.751424Z",
     "iopub.status.idle": "2022-04-14T10:52:27.758957Z",
     "shell.execute_reply": "2022-04-14T10:52:27.759621Z",
     "shell.execute_reply.started": "2022-04-14T10:50:51.629458Z"
    },
    "papermill": {
     "duration": 0.03249,
     "end_time": "2022-04-14T10:52:27.759825",
     "exception": false,
     "start_time": "2022-04-14T10:52:27.727335",
     "status": "completed"
    },
    "tags": []
   },
   "outputs": [
    {
     "data": {
      "text/plain": [
       "array([0, 0, 1, 1, 0, 0, 1, 1, 0, 0, 0, 0, 1, 0, 1, 0, 0, 1, 0, 1, 0, 0,\n",
       "       0, 0, 1, 1, 1, 1, 0, 0, 0, 0, 0, 0, 0, 0, 0, 0, 0, 0, 1, 0, 1, 0,\n",
       "       0, 0, 0, 1, 0, 0, 0, 0, 1, 0, 0, 1, 0, 0, 0, 1, 0, 0, 0, 0, 0, 1,\n",
       "       1, 1, 0, 0, 1, 0, 0, 0, 0, 0, 0, 0, 0, 0, 0, 1, 0, 0, 1, 0, 0, 0,\n",
       "       0, 1, 0, 0, 0, 0, 1, 0, 0, 0, 0, 1, 0, 0, 0, 0, 0, 1, 1, 0, 1, 0,\n",
       "       1, 1, 1, 1, 0, 0, 0, 0, 0, 0, 1, 1, 1, 1, 0, 0, 0, 0, 0, 0, 0, 0,\n",
       "       0, 0, 0, 0, 0, 0, 0, 0, 1, 0, 1, 1, 1, 0, 0, 0, 0, 0, 0, 0, 0, 0,\n",
       "       1, 0, 1, 0, 0, 1, 0, 0, 0, 0, 0, 0, 1, 0, 1, 1, 0, 1, 0, 1, 0, 1,\n",
       "       0, 1, 0])"
      ]
     },
     "execution_count": 7,
     "metadata": {},
     "output_type": "execute_result"
    }
   ],
   "source": [
    "#Predicting using our validation data because we have the true outpu data \n",
    "#thus we will use this data to evaluate our algorithm. \n",
    "\n",
    "yhat = LR.predict(X_val)\n",
    "yhat"
   ]
  },
  {
   "cell_type": "code",
   "execution_count": 8,
   "id": "ed388347",
   "metadata": {
    "execution": {
     "iopub.execute_input": "2022-04-14T10:52:27.808908Z",
     "iopub.status.busy": "2022-04-14T10:52:27.807894Z",
     "iopub.status.idle": "2022-04-14T10:52:27.815206Z",
     "shell.execute_reply": "2022-04-14T10:52:27.815855Z",
     "shell.execute_reply.started": "2022-04-14T10:50:56.338516Z"
    },
    "papermill": {
     "duration": 0.033553,
     "end_time": "2022-04-14T10:52:27.816054",
     "exception": false,
     "start_time": "2022-04-14T10:52:27.782501",
     "status": "completed"
    },
    "tags": []
   },
   "outputs": [
    {
     "data": {
      "text/plain": [
       "array([[0.75032979, 0.24967021],\n",
       "       [0.7514296 , 0.2485704 ],\n",
       "       [0.37293108, 0.62706892],\n",
       "       [0.21719897, 0.78280103],\n",
       "       [0.78866105, 0.21133895]])"
      ]
     },
     "execution_count": 8,
     "metadata": {},
     "output_type": "execute_result"
    }
   ],
   "source": [
    "#predict_proba returns estimates for all classes, ordered by the label of classes. So, the first column is the probability of class 0, \n",
    "#P(Y=0|X), and second column is probability of class 1, P(Y=1|X)\n",
    "yhat_prob = LR.predict_proba(X_val)\n",
    "yhat_prob[0:5]"
   ]
  },
  {
   "cell_type": "code",
   "execution_count": 9,
   "id": "1b954971",
   "metadata": {
    "execution": {
     "iopub.execute_input": "2022-04-14T10:52:27.864398Z",
     "iopub.status.busy": "2022-04-14T10:52:27.863413Z",
     "iopub.status.idle": "2022-04-14T10:52:27.871112Z",
     "shell.execute_reply": "2022-04-14T10:52:27.871735Z",
     "shell.execute_reply.started": "2022-04-14T10:51:02.355738Z"
    },
    "papermill": {
     "duration": 0.033675,
     "end_time": "2022-04-14T10:52:27.871926",
     "exception": false,
     "start_time": "2022-04-14T10:52:27.838251",
     "status": "completed"
    },
    "tags": []
   },
   "outputs": [
    {
     "data": {
      "text/plain": [
       "0.7697841726618705"
      ]
     },
     "execution_count": 9,
     "metadata": {},
     "output_type": "execute_result"
    }
   ],
   "source": [
    "#Evaluation of the accuracy of the ML program.\n",
    "from sklearn.metrics import jaccard_score\n",
    "jaccard_score(y_val, yhat,pos_label=0)\n"
   ]
  },
  {
   "cell_type": "code",
   "execution_count": 10,
   "id": "6a425eb5",
   "metadata": {
    "execution": {
     "iopub.execute_input": "2022-04-14T10:52:27.921126Z",
     "iopub.status.busy": "2022-04-14T10:52:27.920073Z",
     "iopub.status.idle": "2022-04-14T10:52:27.935213Z",
     "shell.execute_reply": "2022-04-14T10:52:27.935841Z",
     "shell.execute_reply.started": "2022-04-14T10:51:06.399028Z"
    },
    "papermill": {
     "duration": 0.041565,
     "end_time": "2022-04-14T10:52:27.936032",
     "exception": false,
     "start_time": "2022-04-14T10:52:27.894467",
     "status": "completed"
    },
    "tags": []
   },
   "outputs": [
    {
     "name": "stdout",
     "output_type": "stream",
     "text": [
      "[[ 40  20]\n",
      " [ 12 107]]\n"
     ]
    }
   ],
   "source": [
    "#I got this confusion matrix function from IBM machine learning course. \n",
    "import matplotlib.pyplot as plt\n",
    "from sklearn.metrics import classification_report, confusion_matrix\n",
    "import itertools\n",
    "def plot_confusion_matrix(cm, classes,\n",
    "                          normalize=False,\n",
    "                          title='Confusion matrix',\n",
    "                          cmap=plt.cm.Blues):\n",
    "    \"\"\"\n",
    "    This function prints and plots the confusion matrix.\n",
    "    Normalization can be applied by setting `normalize=True`.\n",
    "    \"\"\"\n",
    "    if normalize:\n",
    "        cm = cm.astype('float') / cm.sum(axis=1)[:, np.newaxis]\n",
    "        print(\"Normalized confusion matrix\")\n",
    "    else:\n",
    "        print('Confusion matrix, without normalization')\n",
    "\n",
    "    print(cm)\n",
    "\n",
    "    plt.imshow(cm, interpolation='nearest', cmap=cmap)\n",
    "    plt.title(title)\n",
    "    plt.colorbar()\n",
    "    tick_marks = np.arange(len(classes))\n",
    "    plt.xticks(tick_marks, classes, rotation=45)\n",
    "    plt.yticks(tick_marks, classes)\n",
    "\n",
    "    fmt = '.2f' if normalize else 'd'\n",
    "    thresh = cm.max() / 2.\n",
    "    for i, j in itertools.product(range(cm.shape[0]), range(cm.shape[1])):\n",
    "        plt.text(j, i, format(cm[i, j], fmt),\n",
    "                 horizontalalignment=\"center\",\n",
    "                 color=\"white\" if cm[i, j] > thresh else \"black\")\n",
    "\n",
    "    plt.tight_layout()\n",
    "    plt.ylabel('True label')\n",
    "    plt.xlabel('Predicted label')\n",
    "print(confusion_matrix(y_val, yhat, labels=[1,0]))"
   ]
  },
  {
   "cell_type": "code",
   "execution_count": 11,
   "id": "4485e55a",
   "metadata": {
    "execution": {
     "iopub.execute_input": "2022-04-14T10:52:27.985518Z",
     "iopub.status.busy": "2022-04-14T10:52:27.984826Z",
     "iopub.status.idle": "2022-04-14T10:52:28.297135Z",
     "shell.execute_reply": "2022-04-14T10:52:28.296576Z",
     "shell.execute_reply.started": "2022-04-14T10:51:08.745749Z"
    },
    "papermill": {
     "duration": 0.338791,
     "end_time": "2022-04-14T10:52:28.297319",
     "exception": false,
     "start_time": "2022-04-14T10:52:27.958528",
     "status": "completed"
    },
    "tags": []
   },
   "outputs": [
    {
     "name": "stdout",
     "output_type": "stream",
     "text": [
      "Confusion matrix, without normalization\n",
      "[[ 40  20]\n",
      " [ 12 107]]\n"
     ]
    },
    {
     "data": {
      "image/png": "[encoded data removed]",
      "text/plain": [
       "<Figure size 432x288 with 2 Axes>"
      ]
     },
     "metadata": {
      "needs_background": "light"
     },
     "output_type": "display_data"
    }
   ],
   "source": [
    "# Compute confusion matrix\n",
    "cnf_matrix = confusion_matrix(y_val, yhat, labels=[1,0])\n",
    "np.set_printoptions(precision=2)\n",
    "\n",
    "\n",
    "# Plot non-normalized confusion matrix\n",
    "plt.figure()\n",
    "plot_confusion_matrix(cnf_matrix, classes=['Survived=1','Survived=0'],normalize= False,  title='Confusion matrix')"
   ]
  },
  {
   "cell_type": "code",
   "execution_count": 12,
   "id": "3a3ced8c",
   "metadata": {
    "execution": {
     "iopub.execute_input": "2022-04-14T10:52:28.355344Z",
     "iopub.status.busy": "2022-04-14T10:52:28.354302Z",
     "iopub.status.idle": "2022-04-14T10:52:28.362676Z",
     "shell.execute_reply": "2022-04-14T10:52:28.363548Z",
     "shell.execute_reply.started": "2022-04-14T10:51:19.818418Z"
    },
    "papermill": {
     "duration": 0.041633,
     "end_time": "2022-04-14T10:52:28.363808",
     "exception": false,
     "start_time": "2022-04-14T10:52:28.322175",
     "status": "completed"
    },
    "tags": []
   },
   "outputs": [
    {
     "name": "stdout",
     "output_type": "stream",
     "text": [
      "              precision    recall  f1-score   support\n",
      "\n",
      "           0       0.84      0.90      0.87       119\n",
      "           1       0.77      0.67      0.71        60\n",
      "\n",
      "    accuracy                           0.82       179\n",
      "   macro avg       0.81      0.78      0.79       179\n",
      "weighted avg       0.82      0.82      0.82       179\n",
      "\n"
     ]
    }
   ],
   "source": [
    "print (classification_report(y_val, yhat))"
   ]
  },
  {
   "cell_type": "code",
   "execution_count": 13,
   "id": "0ced3f5e",
   "metadata": {
    "execution": {
     "iopub.execute_input": "2022-04-14T10:52:28.419423Z",
     "iopub.status.busy": "2022-04-14T10:52:28.418734Z",
     "iopub.status.idle": "2022-04-14T10:52:28.424059Z",
     "shell.execute_reply": "2022-04-14T10:52:28.424612Z",
     "shell.execute_reply.started": "2022-04-14T10:51:28.281558Z"
    },
    "papermill": {
     "duration": 0.035508,
     "end_time": "2022-04-14T10:52:28.424803",
     "exception": false,
     "start_time": "2022-04-14T10:52:28.389295",
     "status": "completed"
    },
    "tags": []
   },
   "outputs": [
    {
     "data": {
      "text/plain": [
       "0.4571014581676926"
      ]
     },
     "execution_count": 13,
     "metadata": {},
     "output_type": "execute_result"
    }
   ],
   "source": [
    "from sklearn.metrics import log_loss\n",
    "log_loss(y_val, yhat_prob)"
   ]
  },
  {
   "cell_type": "code",
   "execution_count": 14,
   "id": "d10b4091",
   "metadata": {
    "execution": {
     "iopub.execute_input": "2022-04-14T10:52:28.478284Z",
     "iopub.status.busy": "2022-04-14T10:52:28.477605Z",
     "iopub.status.idle": "2022-04-14T10:52:28.484760Z",
     "shell.execute_reply": "2022-04-14T10:52:28.485508Z",
     "shell.execute_reply.started": "2022-04-14T10:51:30.915495Z"
    },
    "papermill": {
     "duration": 0.035493,
     "end_time": "2022-04-14T10:52:28.485714",
     "exception": false,
     "start_time": "2022-04-14T10:52:28.450221",
     "status": "completed"
    },
    "tags": []
   },
   "outputs": [
    {
     "data": {
      "text/plain": [
       "array([0, 1, 0, 0, 1, 0, 1, 0, 1, 0, 0, 0, 1, 0, 1, 1, 0, 0, 1, 1, 0, 0,\n",
       "       1, 0, 1, 0, 1, 0, 0, 0, 0, 0, 1, 1, 0, 0, 1, 1, 0, 0, 0, 0, 0, 1,\n",
       "       1, 0, 0, 0, 1, 1, 0, 0, 1, 1, 0, 0, 0, 0, 0, 1, 0, 0, 0, 1, 1, 1,\n",
       "       1, 0, 0, 1, 1, 0, 1, 0, 1, 1, 0, 1, 0, 1, 0, 0, 0, 0, 0, 0, 1, 1,\n",
       "       1, 0, 1, 0, 1, 0, 0, 0, 1, 0, 1, 0, 1, 0, 0, 0, 1, 0, 0, 0, 0, 0,\n",
       "       0, 1, 1, 1, 1, 0, 0, 1, 0, 1, 1, 0, 1, 0, 0, 1, 0, 1, 0, 0, 0, 0,\n",
       "       1, 0, 0, 0, 0, 0, 1, 0, 1, 1, 0, 0, 0, 0, 0, 0, 0, 0, 1, 0, 0, 1,\n",
       "       0, 0, 1, 1, 0, 1, 1, 0, 1, 0, 0, 1, 0, 0, 1, 1, 0, 0, 0, 0, 0, 1,\n",
       "       1, 0, 1, 1, 0, 0, 1, 0, 1, 0, 1, 0, 0, 0, 0, 0, 0, 0, 0, 0, 1, 1,\n",
       "       0, 1, 1, 0, 0, 1, 0, 0, 1, 0, 1, 0, 0, 0, 0, 1, 0, 0, 1, 0, 1, 0,\n",
       "       1, 0, 1, 0, 1, 1, 0, 1, 0, 0, 0, 1, 0, 0, 0, 0, 0, 0, 1, 1, 1, 1,\n",
       "       0, 0, 0, 0, 1, 0, 1, 1, 1, 0, 0, 0, 0, 0, 0, 0, 1, 0, 0, 0, 1, 1,\n",
       "       0, 0, 0, 0, 1, 0, 0, 0, 1, 1, 0, 1, 0, 0, 0, 0, 1, 0, 1, 1, 1, 0,\n",
       "       0, 0, 0, 0, 0, 1, 0, 0, 0, 0, 1, 0, 0, 0, 0, 0, 0, 0, 1, 1, 0, 0,\n",
       "       0, 1, 0, 0, 0, 1, 1, 1, 0, 0, 0, 0, 0, 0, 0, 0, 1, 0, 1, 0, 0, 0,\n",
       "       1, 0, 0, 1, 0, 0, 0, 0, 0, 0, 0, 0, 0, 1, 0, 1, 0, 1, 0, 1, 1, 0,\n",
       "       0, 0, 1, 0, 1, 0, 0, 1, 0, 1, 1, 0, 1, 1, 0, 1, 1, 0, 0, 1, 0, 0,\n",
       "       1, 1, 1, 0, 0, 0, 0, 0, 1, 1, 0, 1, 0, 0, 0, 0, 0, 1, 0, 0, 0, 1,\n",
       "       0, 1, 0, 0, 1, 0, 1, 0, 0, 0, 0, 0, 1, 1, 1, 1, 1, 0, 1, 0, 0, 0])"
      ]
     },
     "execution_count": 14,
     "metadata": {},
     "output_type": "execute_result"
    }
   ],
   "source": [
    "# Test data that is required to be predicted and submitted.\n",
    "output = LR.predict(yn_test)\n",
    "output"
   ]
  },
  {
   "cell_type": "code",
   "execution_count": 15,
   "id": "ea0a07f3",
   "metadata": {
    "execution": {
     "iopub.execute_input": "2022-04-14T10:52:28.543014Z",
     "iopub.status.busy": "2022-04-14T10:52:28.542320Z",
     "iopub.status.idle": "2022-04-14T10:52:28.549129Z",
     "shell.execute_reply": "2022-04-14T10:52:28.549675Z",
     "shell.execute_reply.started": "2022-04-14T10:51:35.678336Z"
    },
    "papermill": {
     "duration": 0.038531,
     "end_time": "2022-04-14T10:52:28.549866",
     "exception": false,
     "start_time": "2022-04-14T10:52:28.511335",
     "status": "completed"
    },
    "tags": []
   },
   "outputs": [
    {
     "name": "stdout",
     "output_type": "stream",
     "text": [
      "Your submission was successfully saved!\n"
     ]
    }
   ],
   "source": [
    "Output = pd.DataFrame({'PassengerId': test_data.PassengerId, 'Survived': output})\n",
    "Output.to_csv('submission.csv', index=False)\n",
    "print(\"Your submission was successfully saved!\")"
   ]
  },
  {
   "cell_type": "code",
   "execution_count": 16,
   "id": "556171d1",
   "metadata": {
    "execution": {
     "iopub.execute_input": "2022-04-14T10:52:28.611290Z",
     "iopub.status.busy": "2022-04-14T10:52:28.610589Z",
     "iopub.status.idle": "2022-04-14T10:52:28.613222Z",
     "shell.execute_reply": "2022-04-14T10:52:28.613733Z",
     "shell.execute_reply.started": "2022-04-14T10:51:46.188618Z"
    },
    "papermill": {
     "duration": 0.037871,
     "end_time": "2022-04-14T10:52:28.613897",
     "exception": false,
     "start_time": "2022-04-14T10:52:28.576026",
     "status": "completed"
    },
    "tags": []
   },
   "outputs": [
    {
     "data": {
      "text/html": [
       "<div>\n",
       "<style scoped>\n",
       "    .dataframe tbody tr th:only-of-type {\n",
       "        vertical-align: middle;\n",
       "    }\n",
       "\n",
       "    .dataframe tbody tr th {\n",
       "        vertical-align: top;\n",
       "    }\n",
       "\n",
       "    .dataframe thead th {\n",
       "        text-align: right;\n",
       "    }\n",
       "</style>\n",
       "<table border=\"1\" class=\"dataframe\">\n",
       "  <thead>\n",
       "    <tr style=\"text-align: right;\">\n",
       "      <th></th>\n",
       "      <th>PassengerId</th>\n",
       "      <th>Survived</th>\n",
       "    </tr>\n",
       "  </thead>\n",
       "  <tbody>\n",
       "    <tr>\n",
       "      <th>0</th>\n",
       "      <td>892</td>\n",
       "      <td>0</td>\n",
       "    </tr>\n",
       "    <tr>\n",
       "      <th>1</th>\n",
       "      <td>893</td>\n",
       "      <td>1</td>\n",
       "    </tr>\n",
       "    <tr>\n",
       "      <th>2</th>\n",
       "      <td>894</td>\n",
       "      <td>0</td>\n",
       "    </tr>\n",
       "    <tr>\n",
       "      <th>3</th>\n",
       "      <td>895</td>\n",
       "      <td>0</td>\n",
       "    </tr>\n",
       "    <tr>\n",
       "      <th>4</th>\n",
       "      <td>896</td>\n",
       "      <td>1</td>\n",
       "    </tr>\n",
       "  </tbody>\n",
       "</table>\n",
       "</div>"
      ],
      "text/plain": [
       "   PassengerId  Survived\n",
       "0          892         0\n",
       "1          893         1\n",
       "2          894         0\n",
       "3          895         0\n",
       "4          896         1"
      ]
     },
     "execution_count": 16,
     "metadata": {},
     "output_type": "execute_result"
    }
   ],
   "source": [
    "Output.head()"
   ]
  },
  {
   "cell_type": "code",
   "execution_count": null,
   "id": "074a17d5",
   "metadata": {
    "papermill": {
     "duration": 0.025379,
     "end_time": "2022-04-14T10:52:28.665668",
     "exception": false,
     "start_time": "2022-04-14T10:52:28.640289",
     "status": "completed"
    },
    "tags": []
   },
   "outputs": [],
   "source": []
  }
 ],
 "metadata": {
  "kernelspec": {
   "display_name": "Python 3",
   "language": "python",
   "name": "python3"
  },
  "language_info": {
   "codemirror_mode": {
    "name": "ipython",
    "version": 3
   },
   "file_extension": ".py",
   "mimetype": "text/x-python",
   "name": "python",
   "nbconvert_exporter": "python",
   "pygments_lexer": "ipython3",
   "version": "3.7.12"
  },
  "papermill": {
   "default_parameters": {},
   "duration": 14.382878,
   "end_time": "2022-04-14T10:52:29.504362",
   "environment_variables": {},
   "exception": null,
   "input_path": "__notebook__.ipynb",
   "output_path": "__notebook__.ipynb",
   "parameters": {},
   "start_time": "2022-04-14T10:52:15.121484",
   "version": "2.3.3"
  }
 },
 "nbformat": 4,
 "nbformat_minor": 5
}
