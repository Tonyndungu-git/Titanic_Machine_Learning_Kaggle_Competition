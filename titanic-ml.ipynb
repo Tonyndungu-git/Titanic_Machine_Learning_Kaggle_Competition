{
 "cells": [
  {
   "cell_type": "code",
   "execution_count": 1,
   "id": "f1007095",
   "metadata": {
    "_cell_guid": "b1076dfc-b9ad-4769-8c92-a6c4dae69d19",
    "_uuid": "8f2839f25d086af736a60e9eeb907d3b93b6e0e5",
    "execution": {
     "iopub.execute_input": "2022-04-14T10:42:25.193415Z",
     "iopub.status.busy": "2022-04-14T10:42:25.191943Z",
     "iopub.status.idle": "2022-04-14T10:42:25.204079Z",
     "shell.execute_reply": "2022-04-14T10:42:25.204733Z",
     "shell.execute_reply.started": "2022-04-14T10:33:53.150480Z"
    },
    "papermill": {
     "duration": 0.036706,
     "end_time": "2022-04-14T10:42:25.205065",
     "exception": false,
     "start_time": "2022-04-14T10:42:25.168359",
     "status": "completed"
    },
    "tags": []
   },
   "outputs": [
    {
     "name": "stdout",
     "output_type": "stream",
     "text": [
      "/kaggle/input/titanic/train.csv\n",
      "/kaggle/input/titanic/test.csv\n",
      "/kaggle/input/titanic/gender_submission.csv\n"
     ]
    }
   ],
   "source": [
    "# This Python 3 environment comes with many helpful analytics libraries installed\n",
    "# It is defined by the kaggle/python Docker image: https://github.com/kaggle/docker-python\n",
    "# For example, here's several helpful packages to load\n",
    "\n",
    "import numpy as np # linear algebra\n",
    "import pandas as pd # data processing, CSV file I/O (e.g. pd.read_csv)\n",
    "\n",
    "# Input data files are available in the read-only \"../input/\" directory\n",
    "# For example, running this (by clicking run or pressing Shift+Enter) will list all files under the input directory\n",
    "\n",
    "import os\n",
    "for dirname, _, filenames in os.walk('/kaggle/input'):\n",
    "    for filename in filenames:\n",
    "        print(os.path.join(dirname, filename))\n",
    "\n",
    "# You can write up to 20GB to the current directory (/kaggle/working/) that gets preserved as output when you create a version using \"Save & Run All\" \n",
    "# You can also write temporary files to /kaggle/temp/, but they won't be saved outside of the current session"
   ]
  },
  {
   "cell_type": "code",
   "execution_count": 2,
   "id": "bbf77bf7",
   "metadata": {
    "execution": {
     "iopub.execute_input": "2022-04-14T10:42:25.246941Z",
     "iopub.status.busy": "2022-04-14T10:42:25.246294Z",
     "iopub.status.idle": "2022-04-14T10:42:25.271783Z",
     "shell.execute_reply": "2022-04-14T10:42:25.272383Z",
     "shell.execute_reply.started": "2022-04-14T10:33:53.169334Z"
    },
    "papermill": {
     "duration": 0.0471,
     "end_time": "2022-04-14T10:42:25.272561",
     "exception": false,
     "start_time": "2022-04-14T10:42:25.225461",
     "status": "completed"
    },
    "tags": []
   },
   "outputs": [],
   "source": [
    "#Load data\n",
    "train_data = pd.read_csv(\"/kaggle/input/titanic/train.csv\")\n",
    "test_data = pd.read_csv(\"/kaggle/input/titanic/test.csv\")"
   ]
  },
  {
   "cell_type": "code",
   "execution_count": 3,
   "id": "5c35b511",
   "metadata": {
    "execution": {
     "iopub.execute_input": "2022-04-14T10:42:25.313930Z",
     "iopub.status.busy": "2022-04-14T10:42:25.312984Z",
     "iopub.status.idle": "2022-04-14T10:42:25.336407Z",
     "shell.execute_reply": "2022-04-14T10:42:25.336901Z",
     "shell.execute_reply.started": "2022-04-14T10:33:53.200536Z"
    },
    "papermill": {
     "duration": 0.045504,
     "end_time": "2022-04-14T10:42:25.337090",
     "exception": false,
     "start_time": "2022-04-14T10:42:25.291586",
     "status": "completed"
    },
    "tags": []
   },
   "outputs": [
    {
     "data": {
      "text/html": [
       "<div>\n",
       "<style scoped>\n",
       "    .dataframe tbody tr th:only-of-type {\n",
       "        vertical-align: middle;\n",
       "    }\n",
       "\n",
       "    .dataframe tbody tr th {\n",
       "        vertical-align: top;\n",
       "    }\n",
       "\n",
       "    .dataframe thead th {\n",
       "        text-align: right;\n",
       "    }\n",
       "</style>\n",
       "<table border=\"1\" class=\"dataframe\">\n",
       "  <thead>\n",
       "    <tr style=\"text-align: right;\">\n",
       "      <th></th>\n",
       "      <th>PassengerId</th>\n",
       "      <th>Survived</th>\n",
       "      <th>Pclass</th>\n",
       "      <th>Name</th>\n",
       "      <th>Sex</th>\n",
       "      <th>Age</th>\n",
       "      <th>SibSp</th>\n",
       "      <th>Parch</th>\n",
       "      <th>Ticket</th>\n",
       "      <th>Fare</th>\n",
       "      <th>Cabin</th>\n",
       "      <th>Embarked</th>\n",
       "    </tr>\n",
       "  </thead>\n",
       "  <tbody>\n",
       "    <tr>\n",
       "      <th>0</th>\n",
       "      <td>1</td>\n",
       "      <td>0</td>\n",
       "      <td>3</td>\n",
       "      <td>Braund, Mr. Owen Harris</td>\n",
       "      <td>male</td>\n",
       "      <td>22.0</td>\n",
       "      <td>1</td>\n",
       "      <td>0</td>\n",
       "      <td>A/5 21171</td>\n",
       "      <td>7.2500</td>\n",
       "      <td>NaN</td>\n",
       "      <td>S</td>\n",
       "    </tr>\n",
       "    <tr>\n",
       "      <th>1</th>\n",
       "      <td>2</td>\n",
       "      <td>1</td>\n",
       "      <td>1</td>\n",
       "      <td>Cumings, Mrs. John Bradley (Florence Briggs Th...</td>\n",
       "      <td>female</td>\n",
       "      <td>38.0</td>\n",
       "      <td>1</td>\n",
       "      <td>0</td>\n",
       "      <td>PC 17599</td>\n",
       "      <td>71.2833</td>\n",
       "      <td>C85</td>\n",
       "      <td>C</td>\n",
       "    </tr>\n",
       "    <tr>\n",
       "      <th>2</th>\n",
       "      <td>3</td>\n",
       "      <td>1</td>\n",
       "      <td>3</td>\n",
       "      <td>Heikkinen, Miss. Laina</td>\n",
       "      <td>female</td>\n",
       "      <td>26.0</td>\n",
       "      <td>0</td>\n",
       "      <td>0</td>\n",
       "      <td>STON/O2. 3101282</td>\n",
       "      <td>7.9250</td>\n",
       "      <td>NaN</td>\n",
       "      <td>S</td>\n",
       "    </tr>\n",
       "    <tr>\n",
       "      <th>3</th>\n",
       "      <td>4</td>\n",
       "      <td>1</td>\n",
       "      <td>1</td>\n",
       "      <td>Futrelle, Mrs. Jacques Heath (Lily May Peel)</td>\n",
       "      <td>female</td>\n",
       "      <td>35.0</td>\n",
       "      <td>1</td>\n",
       "      <td>0</td>\n",
       "      <td>113803</td>\n",
       "      <td>53.1000</td>\n",
       "      <td>C123</td>\n",
       "      <td>S</td>\n",
       "    </tr>\n",
       "    <tr>\n",
       "      <th>4</th>\n",
       "      <td>5</td>\n",
       "      <td>0</td>\n",
       "      <td>3</td>\n",
       "      <td>Allen, Mr. William Henry</td>\n",
       "      <td>male</td>\n",
       "      <td>35.0</td>\n",
       "      <td>0</td>\n",
       "      <td>0</td>\n",
       "      <td>373450</td>\n",
       "      <td>8.0500</td>\n",
       "      <td>NaN</td>\n",
       "      <td>S</td>\n",
       "    </tr>\n",
       "  </tbody>\n",
       "</table>\n",
       "</div>"
      ],
      "text/plain": [
       "   PassengerId  Survived  Pclass  \\\n",
       "0            1         0       3   \n",
       "1            2         1       1   \n",
       "2            3         1       3   \n",
       "3            4         1       1   \n",
       "4            5         0       3   \n",
       "\n",
       "                                                Name     Sex   Age  SibSp  \\\n",
       "0                            Braund, Mr. Owen Harris    male  22.0      1   \n",
       "1  Cumings, Mrs. John Bradley (Florence Briggs Th...  female  38.0      1   \n",
       "2                             Heikkinen, Miss. Laina  female  26.0      0   \n",
       "3       Futrelle, Mrs. Jacques Heath (Lily May Peel)  female  35.0      1   \n",
       "4                           Allen, Mr. William Henry    male  35.0      0   \n",
       "\n",
       "   Parch            Ticket     Fare Cabin Embarked  \n",
       "0      0         A/5 21171   7.2500   NaN        S  \n",
       "1      0          PC 17599  71.2833   C85        C  \n",
       "2      0  STON/O2. 3101282   7.9250   NaN        S  \n",
       "3      0            113803  53.1000  C123        S  \n",
       "4      0            373450   8.0500   NaN        S  "
      ]
     },
     "execution_count": 3,
     "metadata": {},
     "output_type": "execute_result"
    }
   ],
   "source": [
    "train_data.head()"
   ]
  },
  {
   "cell_type": "code",
   "execution_count": 4,
   "id": "3218212e",
   "metadata": {
    "execution": {
     "iopub.execute_input": "2022-04-14T10:42:25.378967Z",
     "iopub.status.busy": "2022-04-14T10:42:25.378024Z",
     "iopub.status.idle": "2022-04-14T10:42:26.643777Z",
     "shell.execute_reply": "2022-04-14T10:42:26.643237Z",
     "shell.execute_reply.started": "2022-04-14T10:40:51.695396Z"
    },
    "papermill": {
     "duration": 1.287758,
     "end_time": "2022-04-14T10:42:26.643920",
     "exception": false,
     "start_time": "2022-04-14T10:42:25.356162",
     "status": "completed"
    },
    "tags": []
   },
   "outputs": [
    {
     "data": {
      "text/plain": [
       "array([[ 0.87348191,  0.3349926 , -0.49947002, -0.4002477 , -0.75592895,\n",
       "         0.75592895],\n",
       "       [ 0.87348191,  1.32553003,  0.61699237, -0.4002477 ,  1.32287566,\n",
       "        -1.32287566],\n",
       "       [-0.31581919,  2.51417495, -0.49947002, -0.4002477 , -0.75592895,\n",
       "         0.75592895],\n",
       "       ...,\n",
       "       [ 0.87348191,  0.65196458, -0.49947002, -0.4002477 , -0.75592895,\n",
       "         0.75592895],\n",
       "       [ 0.87348191,  0.        , -0.49947002, -0.4002477 , -0.75592895,\n",
       "         0.75592895],\n",
       "       [ 0.87348191,  0.        ,  0.61699237,  0.61989583, -0.75592895,\n",
       "         0.75592895]])"
      ]
     },
     "execution_count": 4,
     "metadata": {},
     "output_type": "execute_result"
    }
   ],
   "source": [
    "y_test = test_data[['Pclass','Age','SibSp','Parch','Sex']]\n",
    "\n",
    "# One_hot Encoding for categorical data\n",
    "\n",
    "yoh= pd.get_dummies(y_test)\n",
    "# filling NaN\n",
    "from sklearn.impute import SimpleImputer\n",
    "my_imputer = SimpleImputer()\n",
    "ys_test= my_imputer.fit_transform(yoh)\n",
    "#Normalizing the input data\n",
    "from sklearn import preprocessing\n",
    "yn_test = preprocessing.StandardScaler().fit(ys_test).transform(ys_test)\n",
    "yn_test\n"
   ]
  },
  {
   "cell_type": "code",
   "execution_count": 5,
   "id": "a96003cb",
   "metadata": {
    "execution": {
     "iopub.execute_input": "2022-04-14T10:42:26.691379Z",
     "iopub.status.busy": "2022-04-14T10:42:26.690625Z",
     "iopub.status.idle": "2022-04-14T10:42:26.706554Z",
     "shell.execute_reply": "2022-04-14T10:42:26.706018Z",
     "shell.execute_reply.started": "2022-04-14T10:40:58.828146Z"
    },
    "papermill": {
     "duration": 0.043104,
     "end_time": "2022-04-14T10:42:26.706699",
     "exception": false,
     "start_time": "2022-04-14T10:42:26.663595",
     "status": "completed"
    },
    "tags": []
   },
   "outputs": [
    {
     "data": {
      "text/plain": [
       "array([[ 0.82737724, -0.5924806 ,  0.43279337, -0.47367361, -0.73769513,\n",
       "         0.73769513],\n",
       "       [-1.56610693,  0.63878901,  0.43279337, -0.47367361,  1.35557354,\n",
       "        -1.35557354],\n",
       "       [ 0.82737724, -0.2846632 , -0.4745452 , -0.47367361,  1.35557354,\n",
       "        -1.35557354],\n",
       "       ...,\n",
       "       [ 0.82737724,  0.        ,  0.43279337,  2.00893337,  1.35557354,\n",
       "        -1.35557354],\n",
       "       [-1.56610693, -0.2846632 , -0.4745452 , -0.47367361, -0.73769513,\n",
       "         0.73769513],\n",
       "       [ 0.82737724,  0.17706291, -0.4745452 , -0.47367361, -0.73769513,\n",
       "         0.73769513]])"
      ]
     },
     "execution_count": 5,
     "metadata": {},
     "output_type": "execute_result"
    }
   ],
   "source": [
    "X =train_data[['Pclass','Age','SibSp','Parch','Sex']]\n",
    "y = np.asarray(train_data[['Survived']])\n",
    "\n",
    "# One_hot Encoding for categorical data\n",
    "\n",
    "Xoh= pd.get_dummies(X)\n",
    "\n",
    "# filling NaN\n",
    "from sklearn.impute import SimpleImputer\n",
    "my_imputer = SimpleImputer()\n",
    "Xs= my_imputer.fit_transform(Xoh)\n",
    "\n",
    "#Normalizing the input data\n",
    "from sklearn import preprocessing\n",
    "Xn = preprocessing.StandardScaler().fit(Xs).transform(Xs)\n",
    "Xn\n",
    "\n"
   ]
  },
  {
   "cell_type": "code",
   "execution_count": 6,
   "id": "4b8b7e08",
   "metadata": {
    "execution": {
     "iopub.execute_input": "2022-04-14T10:42:26.754969Z",
     "iopub.status.busy": "2022-04-14T10:42:26.750472Z",
     "iopub.status.idle": "2022-04-14T10:42:26.767018Z",
     "shell.execute_reply": "2022-04-14T10:42:26.767701Z",
     "shell.execute_reply.started": "2022-04-14T10:40:59.803582Z"
    },
    "papermill": {
     "duration": 0.041122,
     "end_time": "2022-04-14T10:42:26.767945",
     "exception": false,
     "start_time": "2022-04-14T10:42:26.726823",
     "status": "completed"
    },
    "tags": []
   },
   "outputs": [
    {
     "name": "stdout",
     "output_type": "stream",
     "text": [
      "Train set: (712, 6) (712, 1)\n",
      "Test set: (179, 6) (179, 1)\n"
     ]
    },
    {
     "name": "stderr",
     "output_type": "stream",
     "text": [
      "/opt/conda/lib/python3.7/site-packages/sklearn/utils/validation.py:985: DataConversionWarning: A column-vector y was passed when a 1d array was expected. Please change the shape of y to (n_samples, ), for example using ravel().\n",
      "  y = column_or_1d(y, warn=True)\n"
     ]
    }
   ],
   "source": [
    "#Splitting trainind and validation sets\n",
    "from sklearn.model_selection import train_test_split\n",
    "X_train, X_val, y_train, y_val = train_test_split( Xn, y, test_size=0.2, random_state=4)\n",
    "print ('Train set:', X_train.shape,  y_train.shape)\n",
    "print ('Test set:', X_val.shape,  y_val.shape)\n",
    "\n",
    "from sklearn.linear_model import LogisticRegression\n",
    "from sklearn.metrics import confusion_matrix\n",
    "LR = LogisticRegression(C=0.01, solver='liblinear').fit(X_train,y_train)\n"
   ]
  },
  {
   "cell_type": "code",
   "execution_count": 7,
   "id": "b103db46",
   "metadata": {
    "execution": {
     "iopub.execute_input": "2022-04-14T10:42:26.817503Z",
     "iopub.status.busy": "2022-04-14T10:42:26.816432Z",
     "iopub.status.idle": "2022-04-14T10:42:26.820817Z",
     "shell.execute_reply": "2022-04-14T10:42:26.820306Z",
     "shell.execute_reply.started": "2022-04-14T10:41:00.719256Z"
    },
    "papermill": {
     "duration": 0.031651,
     "end_time": "2022-04-14T10:42:26.820953",
     "exception": false,
     "start_time": "2022-04-14T10:42:26.789302",
     "status": "completed"
    },
    "tags": []
   },
   "outputs": [
    {
     "data": {
      "text/plain": [
       "array([0, 0, 1, 1, 0, 0, 1, 1, 0, 0, 0, 0, 1, 0, 1, 0, 0, 1, 0, 1, 0, 0,\n",
       "       0, 0, 1, 1, 1, 1, 0, 0, 0, 0, 0, 0, 0, 0, 0, 0, 0, 0, 1, 0, 1, 0,\n",
       "       0, 0, 0, 1, 0, 0, 0, 0, 1, 0, 0, 1, 0, 0, 0, 1, 0, 0, 0, 0, 0, 1,\n",
       "       1, 1, 0, 0, 1, 0, 0, 0, 0, 0, 0, 0, 0, 0, 0, 1, 0, 0, 1, 0, 0, 0,\n",
       "       0, 1, 0, 0, 0, 0, 1, 0, 0, 0, 0, 1, 0, 0, 0, 0, 0, 1, 1, 0, 1, 0,\n",
       "       1, 1, 1, 1, 0, 0, 0, 0, 0, 0, 1, 1, 1, 1, 0, 0, 0, 0, 0, 0, 0, 0,\n",
       "       0, 0, 0, 0, 0, 0, 0, 0, 1, 0, 1, 1, 1, 0, 0, 0, 0, 0, 0, 0, 0, 0,\n",
       "       1, 0, 1, 0, 0, 1, 0, 0, 0, 0, 0, 0, 1, 0, 0, 1, 0, 1, 0, 1, 0, 1,\n",
       "       0, 1, 0])"
      ]
     },
     "execution_count": 7,
     "metadata": {},
     "output_type": "execute_result"
    }
   ],
   "source": [
    "#Predicting using our validation data because we have the true outpu data \n",
    "#thus we will use this data to evaluate our algorithm. \n",
    "\n",
    "yhat = LR.predict(X_val)\n",
    "yhat"
   ]
  },
  {
   "cell_type": "code",
   "execution_count": 8,
   "id": "0cf7b843",
   "metadata": {
    "execution": {
     "iopub.execute_input": "2022-04-14T10:42:26.870723Z",
     "iopub.status.busy": "2022-04-14T10:42:26.869666Z",
     "iopub.status.idle": "2022-04-14T10:42:26.873881Z",
     "shell.execute_reply": "2022-04-14T10:42:26.873282Z",
     "shell.execute_reply.started": "2022-04-14T10:41:01.856519Z"
    },
    "papermill": {
     "duration": 0.031639,
     "end_time": "2022-04-14T10:42:26.874029",
     "exception": false,
     "start_time": "2022-04-14T10:42:26.842390",
     "status": "completed"
    },
    "tags": []
   },
   "outputs": [
    {
     "data": {
      "text/plain": [
       "array([[0.74709216, 0.25290784],\n",
       "       [0.74942588, 0.25057412],\n",
       "       [0.36644672, 0.63355328],\n",
       "       [0.20253219, 0.79746781],\n",
       "       [0.78313374, 0.21686626]])"
      ]
     },
     "execution_count": 8,
     "metadata": {},
     "output_type": "execute_result"
    }
   ],
   "source": [
    "#predict_proba returns estimates for all classes, ordered by the label of classes. So, the first column is the probability of class 0, \n",
    "#P(Y=0|X), and second column is probability of class 1, P(Y=1|X)\n",
    "yhat_prob = LR.predict_proba(X_val)\n",
    "yhat_prob[0:5]"
   ]
  },
  {
   "cell_type": "code",
   "execution_count": 9,
   "id": "ef710811",
   "metadata": {
    "execution": {
     "iopub.execute_input": "2022-04-14T10:42:26.923577Z",
     "iopub.status.busy": "2022-04-14T10:42:26.922586Z",
     "iopub.status.idle": "2022-04-14T10:42:26.928545Z",
     "shell.execute_reply": "2022-04-14T10:42:26.929153Z",
     "shell.execute_reply.started": "2022-04-14T10:41:03.053792Z"
    },
    "papermill": {
     "duration": 0.033776,
     "end_time": "2022-04-14T10:42:26.929321",
     "exception": false,
     "start_time": "2022-04-14T10:42:26.895545",
     "status": "completed"
    },
    "tags": []
   },
   "outputs": [
    {
     "data": {
      "text/plain": [
       "0.7642857142857142"
      ]
     },
     "execution_count": 9,
     "metadata": {},
     "output_type": "execute_result"
    }
   ],
   "source": [
    "#Evaluation of the accuracy of the ML program.\n",
    "from sklearn.metrics import jaccard_score\n",
    "jaccard_score(y_val, yhat,pos_label=0)\n"
   ]
  },
  {
   "cell_type": "code",
   "execution_count": 10,
   "id": "ca1bfa04",
   "metadata": {
    "execution": {
     "iopub.execute_input": "2022-04-14T10:42:26.979274Z",
     "iopub.status.busy": "2022-04-14T10:42:26.978237Z",
     "iopub.status.idle": "2022-04-14T10:42:26.993162Z",
     "shell.execute_reply": "2022-04-14T10:42:26.993759Z",
     "shell.execute_reply.started": "2022-04-14T10:41:08.009719Z"
    },
    "papermill": {
     "duration": 0.041995,
     "end_time": "2022-04-14T10:42:26.993944",
     "exception": false,
     "start_time": "2022-04-14T10:42:26.951949",
     "status": "completed"
    },
    "tags": []
   },
   "outputs": [
    {
     "name": "stdout",
     "output_type": "stream",
     "text": [
      "[[ 39  21]\n",
      " [ 12 107]]\n"
     ]
    }
   ],
   "source": [
    "#I got this confusion matrix function from IBM machine learning course. \n",
    "import matplotlib.pyplot as plt\n",
    "from sklearn.metrics import classification_report, confusion_matrix\n",
    "import itertools\n",
    "def plot_confusion_matrix(cm, classes,\n",
    "                          normalize=False,\n",
    "                          title='Confusion matrix',\n",
    "                          cmap=plt.cm.Blues):\n",
    "    \"\"\"\n",
    "    This function prints and plots the confusion matrix.\n",
    "    Normalization can be applied by setting `normalize=True`.\n",
    "    \"\"\"\n",
    "    if normalize:\n",
    "        cm = cm.astype('float') / cm.sum(axis=1)[:, np.newaxis]\n",
    "        print(\"Normalized confusion matrix\")\n",
    "    else:\n",
    "        print('Confusion matrix, without normalization')\n",
    "\n",
    "    print(cm)\n",
    "\n",
    "    plt.imshow(cm, interpolation='nearest', cmap=cmap)\n",
    "    plt.title(title)\n",
    "    plt.colorbar()\n",
    "    tick_marks = np.arange(len(classes))\n",
    "    plt.xticks(tick_marks, classes, rotation=45)\n",
    "    plt.yticks(tick_marks, classes)\n",
    "\n",
    "    fmt = '.2f' if normalize else 'd'\n",
    "    thresh = cm.max() / 2.\n",
    "    for i, j in itertools.product(range(cm.shape[0]), range(cm.shape[1])):\n",
    "        plt.text(j, i, format(cm[i, j], fmt),\n",
    "                 horizontalalignment=\"center\",\n",
    "                 color=\"white\" if cm[i, j] > thresh else \"black\")\n",
    "\n",
    "    plt.tight_layout()\n",
    "    plt.ylabel('True label')\n",
    "    plt.xlabel('Predicted label')\n",
    "print(confusion_matrix(y_val, yhat, labels=[1,0]))"
   ]
  },
  {
   "cell_type": "code",
   "execution_count": 11,
   "id": "1e017186",
   "metadata": {
    "execution": {
     "iopub.execute_input": "2022-04-14T10:42:27.049097Z",
     "iopub.status.busy": "2022-04-14T10:42:27.048277Z",
     "iopub.status.idle": "2022-04-14T10:42:27.343142Z",
     "shell.execute_reply": "2022-04-14T10:42:27.343585Z",
     "shell.execute_reply.started": "2022-04-14T10:41:09.778380Z"
    },
    "papermill": {
     "duration": 0.321415,
     "end_time": "2022-04-14T10:42:27.343757",
     "exception": false,
     "start_time": "2022-04-14T10:42:27.022342",
     "status": "completed"
    },
    "tags": []
   },
   "outputs": [
    {
     "name": "stdout",
     "output_type": "stream",
     "text": [
      "Confusion matrix, without normalization\n",
      "[[ 39  21]\n",
      " [ 12 107]]\n"
     ]
    },
    {
     "data": {
      "image/png": "[encoded data removed]",
      "text/plain": [
       "<Figure size 432x288 with 2 Axes>"
      ]
     },
     "metadata": {
      "needs_background": "light"
     },
     "output_type": "display_data"
    }
   ],
   "source": [
    "# Compute confusion matrix\n",
    "cnf_matrix = confusion_matrix(y_val, yhat, labels=[1,0])\n",
    "np.set_printoptions(precision=2)\n",
    "\n",
    "\n",
    "# Plot non-normalized confusion matrix\n",
    "plt.figure()\n",
    "plot_confusion_matrix(cnf_matrix, classes=['Survived=1','Survived=0'],normalize= False,  title='Confusion matrix')"
   ]
  },
  {
   "cell_type": "code",
   "execution_count": 12,
   "id": "b0c2fa04",
   "metadata": {
    "execution": {
     "iopub.execute_input": "2022-04-14T10:42:27.395925Z",
     "iopub.status.busy": "2022-04-14T10:42:27.395241Z",
     "iopub.status.idle": "2022-04-14T10:42:27.403849Z",
     "shell.execute_reply": "2022-04-14T10:42:27.404402Z",
     "shell.execute_reply.started": "2022-04-14T10:41:20.942321Z"
    },
    "papermill": {
     "duration": 0.037338,
     "end_time": "2022-04-14T10:42:27.404589",
     "exception": false,
     "start_time": "2022-04-14T10:42:27.367251",
     "status": "completed"
    },
    "tags": []
   },
   "outputs": [
    {
     "name": "stdout",
     "output_type": "stream",
     "text": [
      "              precision    recall  f1-score   support\n",
      "\n",
      "           0       0.84      0.90      0.87       119\n",
      "           1       0.76      0.65      0.70        60\n",
      "\n",
      "    accuracy                           0.82       179\n",
      "   macro avg       0.80      0.77      0.78       179\n",
      "weighted avg       0.81      0.82      0.81       179\n",
      "\n"
     ]
    }
   ],
   "source": [
    "print (classification_report(y_val, yhat))"
   ]
  },
  {
   "cell_type": "code",
   "execution_count": 13,
   "id": "cb9ce149",
   "metadata": {
    "execution": {
     "iopub.execute_input": "2022-04-14T10:42:27.455603Z",
     "iopub.status.busy": "2022-04-14T10:42:27.454980Z",
     "iopub.status.idle": "2022-04-14T10:42:27.461247Z",
     "shell.execute_reply": "2022-04-14T10:42:27.461794Z",
     "shell.execute_reply.started": "2022-04-14T10:41:29.853235Z"
    },
    "papermill": {
     "duration": 0.03342,
     "end_time": "2022-04-14T10:42:27.461963",
     "exception": false,
     "start_time": "2022-04-14T10:42:27.428543",
     "status": "completed"
    },
    "tags": []
   },
   "outputs": [
    {
     "data": {
      "text/plain": [
       "0.4603255106713396"
      ]
     },
     "execution_count": 13,
     "metadata": {},
     "output_type": "execute_result"
    }
   ],
   "source": [
    "from sklearn.metrics import log_loss\n",
    "log_loss(y_val, yhat_prob)"
   ]
  },
  {
   "cell_type": "code",
   "execution_count": 14,
   "id": "80810328",
   "metadata": {
    "execution": {
     "iopub.execute_input": "2022-04-14T10:42:27.519776Z",
     "iopub.status.busy": "2022-04-14T10:42:27.519143Z",
     "iopub.status.idle": "2022-04-14T10:42:27.521712Z",
     "shell.execute_reply": "2022-04-14T10:42:27.522201Z",
     "shell.execute_reply.started": "2022-04-14T10:41:36.544896Z"
    },
    "papermill": {
     "duration": 0.035016,
     "end_time": "2022-04-14T10:42:27.522366",
     "exception": false,
     "start_time": "2022-04-14T10:42:27.487350",
     "status": "completed"
    },
    "tags": []
   },
   "outputs": [
    {
     "data": {
      "text/plain": [
       "array([0, 1, 0, 0, 1, 0, 1, 0, 1, 0, 0, 0, 1, 0, 1, 1, 0, 0, 1, 1, 0, 0,\n",
       "       1, 0, 1, 0, 1, 0, 0, 0, 0, 0, 1, 1, 0, 0, 1, 1, 0, 0, 0, 0, 0, 1,\n",
       "       1, 0, 0, 0, 1, 1, 0, 0, 1, 1, 0, 0, 0, 0, 0, 1, 0, 0, 0, 1, 0, 1,\n",
       "       1, 0, 0, 1, 1, 0, 1, 0, 1, 0, 0, 1, 0, 1, 0, 0, 0, 0, 0, 0, 1, 1,\n",
       "       1, 0, 1, 0, 1, 0, 0, 0, 1, 0, 1, 0, 1, 0, 0, 0, 1, 0, 0, 0, 0, 0,\n",
       "       0, 1, 1, 1, 1, 0, 0, 1, 0, 1, 1, 0, 1, 0, 0, 1, 0, 1, 0, 0, 0, 0,\n",
       "       1, 0, 0, 0, 0, 0, 1, 0, 1, 1, 0, 0, 0, 0, 0, 0, 0, 0, 1, 0, 0, 1,\n",
       "       0, 0, 1, 1, 0, 1, 1, 0, 1, 0, 0, 1, 0, 0, 1, 1, 0, 0, 0, 0, 0, 1,\n",
       "       1, 0, 1, 1, 0, 0, 1, 0, 1, 0, 1, 0, 0, 0, 0, 0, 0, 0, 0, 0, 1, 1,\n",
       "       0, 1, 1, 0, 0, 1, 0, 0, 1, 0, 1, 0, 0, 0, 0, 1, 0, 0, 1, 0, 1, 0,\n",
       "       1, 0, 1, 0, 1, 1, 0, 1, 0, 0, 0, 1, 0, 0, 0, 0, 0, 0, 1, 1, 1, 1,\n",
       "       0, 0, 0, 0, 1, 0, 1, 1, 1, 0, 0, 0, 0, 0, 0, 0, 1, 0, 0, 0, 1, 1,\n",
       "       0, 0, 0, 0, 1, 0, 0, 0, 1, 1, 0, 1, 0, 0, 0, 0, 1, 0, 1, 1, 1, 0,\n",
       "       0, 0, 0, 0, 0, 1, 0, 0, 0, 0, 1, 0, 0, 0, 0, 0, 0, 0, 1, 1, 0, 0,\n",
       "       0, 1, 0, 0, 0, 1, 1, 1, 0, 0, 0, 0, 0, 0, 0, 0, 1, 0, 1, 0, 0, 0,\n",
       "       1, 0, 0, 1, 0, 0, 0, 0, 0, 0, 0, 0, 0, 1, 0, 1, 0, 1, 0, 1, 1, 0,\n",
       "       0, 0, 1, 0, 1, 0, 0, 1, 0, 1, 1, 0, 1, 1, 0, 1, 1, 0, 0, 1, 0, 0,\n",
       "       1, 1, 1, 0, 0, 0, 0, 0, 1, 1, 0, 1, 0, 0, 0, 0, 0, 1, 0, 0, 0, 1,\n",
       "       0, 1, 0, 0, 1, 0, 1, 0, 0, 0, 0, 0, 1, 1, 1, 1, 1, 0, 1, 0, 0, 0])"
      ]
     },
     "execution_count": 14,
     "metadata": {},
     "output_type": "execute_result"
    }
   ],
   "source": [
    "# Test data that is required to be predicted and submitted.\n",
    "output = LR.predict(yn_test)\n",
    "output"
   ]
  },
  {
   "cell_type": "code",
   "execution_count": 15,
   "id": "4612b9dd",
   "metadata": {
    "execution": {
     "iopub.execute_input": "2022-04-14T10:42:27.577284Z",
     "iopub.status.busy": "2022-04-14T10:42:27.574425Z",
     "iopub.status.idle": "2022-04-14T10:42:27.584636Z",
     "shell.execute_reply": "2022-04-14T10:42:27.585353Z",
     "shell.execute_reply.started": "2022-04-14T10:41:39.893658Z"
    },
    "papermill": {
     "duration": 0.03846,
     "end_time": "2022-04-14T10:42:27.585582",
     "exception": false,
     "start_time": "2022-04-14T10:42:27.547122",
     "status": "completed"
    },
    "tags": []
   },
   "outputs": [
    {
     "name": "stdout",
     "output_type": "stream",
     "text": [
      "Your submission was successfully saved!\n"
     ]
    }
   ],
   "source": [
    "Output = pd.DataFrame({'PassengerId': test_data.PassengerId, 'Survived': output})\n",
    "Output.to_csv('submission.csv', index=False)\n",
    "print(\"Your submission was successfully saved!\")"
   ]
  },
  {
   "cell_type": "code",
   "execution_count": 16,
   "id": "bf48255d",
   "metadata": {
    "execution": {
     "iopub.execute_input": "2022-04-14T10:42:27.643991Z",
     "iopub.status.busy": "2022-04-14T10:42:27.642977Z",
     "iopub.status.idle": "2022-04-14T10:42:27.649414Z",
     "shell.execute_reply": "2022-04-14T10:42:27.650017Z",
     "shell.execute_reply.started": "2022-04-14T10:41:43.044174Z"
    },
    "papermill": {
     "duration": 0.037828,
     "end_time": "2022-04-14T10:42:27.650206",
     "exception": false,
     "start_time": "2022-04-14T10:42:27.612378",
     "status": "completed"
    },
    "tags": []
   },
   "outputs": [
    {
     "data": {
      "text/html": [
       "<div>\n",
       "<style scoped>\n",
       "    .dataframe tbody tr th:only-of-type {\n",
       "        vertical-align: middle;\n",
       "    }\n",
       "\n",
       "    .dataframe tbody tr th {\n",
       "        vertical-align: top;\n",
       "    }\n",
       "\n",
       "    .dataframe thead th {\n",
       "        text-align: right;\n",
       "    }\n",
       "</style>\n",
       "<table border=\"1\" class=\"dataframe\">\n",
       "  <thead>\n",
       "    <tr style=\"text-align: right;\">\n",
       "      <th></th>\n",
       "      <th>PassengerId</th>\n",
       "      <th>Survived</th>\n",
       "    </tr>\n",
       "  </thead>\n",
       "  <tbody>\n",
       "    <tr>\n",
       "      <th>0</th>\n",
       "      <td>892</td>\n",
       "      <td>0</td>\n",
       "    </tr>\n",
       "    <tr>\n",
       "      <th>1</th>\n",
       "      <td>893</td>\n",
       "      <td>1</td>\n",
       "    </tr>\n",
       "    <tr>\n",
       "      <th>2</th>\n",
       "      <td>894</td>\n",
       "      <td>0</td>\n",
       "    </tr>\n",
       "    <tr>\n",
       "      <th>3</th>\n",
       "      <td>895</td>\n",
       "      <td>0</td>\n",
       "    </tr>\n",
       "    <tr>\n",
       "      <th>4</th>\n",
       "      <td>896</td>\n",
       "      <td>1</td>\n",
       "    </tr>\n",
       "  </tbody>\n",
       "</table>\n",
       "</div>"
      ],
      "text/plain": [
       "   PassengerId  Survived\n",
       "0          892         0\n",
       "1          893         1\n",
       "2          894         0\n",
       "3          895         0\n",
       "4          896         1"
      ]
     },
     "execution_count": 16,
     "metadata": {},
     "output_type": "execute_result"
    }
   ],
   "source": [
    "Output.head()"
   ]
  },
  {
   "cell_type": "code",
   "execution_count": null,
   "id": "2df9d5b0",
   "metadata": {
    "papermill": {
     "duration": 0.02563,
     "end_time": "2022-04-14T10:42:27.701537",
     "exception": false,
     "start_time": "2022-04-14T10:42:27.675907",
     "status": "completed"
    },
    "tags": []
   },
   "outputs": [],
   "source": []
  }
 ],
 "metadata": {
  "kernelspec": {
   "display_name": "Python 3",
   "language": "python",
   "name": "python3"
  },
  "language_info": {
   "codemirror_mode": {
    "name": "ipython",
    "version": 3
   },
   "file_extension": ".py",
   "mimetype": "text/x-python",
   "name": "python",
   "nbconvert_exporter": "python",
   "pygments_lexer": "ipython3",
   "version": "3.7.12"
  },
  "papermill": {
   "default_parameters": {},
   "duration": 13.06219,
   "end_time": "2022-04-14T10:42:28.437207",
   "environment_variables": {},
   "exception": null,
   "input_path": "__notebook__.ipynb",
   "output_path": "__notebook__.ipynb",
   "parameters": {},
   "start_time": "2022-04-14T10:42:15.375017",
   "version": "2.3.3"
  }
 },
 "nbformat": 4,
 "nbformat_minor": 5
}
