{
 "cells": [
  {
   "cell_type": "code",
   "execution_count": 1,
   "id": "6740d090",
   "metadata": {
    "_cell_guid": "b1076dfc-b9ad-4769-8c92-a6c4dae69d19",
    "_uuid": "8f2839f25d086af736a60e9eeb907d3b93b6e0e5",
    "execution": {
     "iopub.execute_input": "2022-04-18T11:00:57.294333Z",
     "iopub.status.busy": "2022-04-18T11:00:57.293368Z",
     "iopub.status.idle": "2022-04-18T11:00:57.305930Z",
     "shell.execute_reply": "2022-04-18T11:00:57.306720Z",
     "shell.execute_reply.started": "2022-04-18T10:58:14.173189Z"
    },
    "papermill": {
     "duration": 0.044681,
     "end_time": "2022-04-18T11:00:57.307100",
     "exception": false,
     "start_time": "2022-04-18T11:00:57.262419",
     "status": "completed"
    },
    "tags": []
   },
   "outputs": [
    {
     "name": "stdout",
     "output_type": "stream",
     "text": [
      "/kaggle/input/titanic/train.csv\n",
      "/kaggle/input/titanic/test.csv\n",
      "/kaggle/input/titanic/gender_submission.csv\n"
     ]
    }
   ],
   "source": [
    "# This Python 3 environment comes with many helpful analytics libraries installed\n",
    "# It is defined by the kaggle/python Docker image: https://github.com/kaggle/docker-python\n",
    "# For example, here's several helpful packages to load\n",
    "\n",
    "import numpy as np # linear algebra\n",
    "import pandas as pd # data processing, CSV file I/O (e.g. pd.read_csv)\n",
    "\n",
    "# Input data files are available in the read-only \"../input/\" directory\n",
    "# For example, running this (by clicking run or pressing Shift+Enter) will list all files under the input directory\n",
    "\n",
    "import os\n",
    "for dirname, _, filenames in os.walk('/kaggle/input'):\n",
    "    for filename in filenames:\n",
    "        print(os.path.join(dirname, filename))\n",
    "\n",
    "# You can write up to 20GB to the current directory (/kaggle/working/) that gets preserved as output when you create a version using \"Save & Run All\" \n",
    "# You can also write temporary files to /kaggle/temp/, but they won't be saved outside of the current session"
   ]
  },
  {
   "cell_type": "code",
   "execution_count": 2,
   "id": "afe1b229",
   "metadata": {
    "execution": {
     "iopub.execute_input": "2022-04-18T11:00:57.362169Z",
     "iopub.status.busy": "2022-04-18T11:00:57.361435Z",
     "iopub.status.idle": "2022-04-18T11:00:57.387636Z",
     "shell.execute_reply": "2022-04-18T11:00:57.388137Z",
     "shell.execute_reply.started": "2022-04-18T10:58:14.209272Z"
    },
    "papermill": {
     "duration": 0.05813,
     "end_time": "2022-04-18T11:00:57.388345",
     "exception": false,
     "start_time": "2022-04-18T11:00:57.330215",
     "status": "completed"
    },
    "tags": []
   },
   "outputs": [],
   "source": [
    "#Load data\n",
    "train_data = pd.read_csv(\"/kaggle/input/titanic/train.csv\")\n",
    "test_data = pd.read_csv(\"/kaggle/input/titanic/test.csv\")"
   ]
  },
  {
   "cell_type": "code",
   "execution_count": 3,
   "id": "705ff171",
   "metadata": {
    "execution": {
     "iopub.execute_input": "2022-04-18T11:00:57.429773Z",
     "iopub.status.busy": "2022-04-18T11:00:57.429103Z",
     "iopub.status.idle": "2022-04-18T11:00:57.453020Z",
     "shell.execute_reply": "2022-04-18T11:00:57.453483Z",
     "shell.execute_reply.started": "2022-04-18T10:58:14.240495Z"
    },
    "papermill": {
     "duration": 0.046269,
     "end_time": "2022-04-18T11:00:57.453687",
     "exception": false,
     "start_time": "2022-04-18T11:00:57.407418",
     "status": "completed"
    },
    "tags": []
   },
   "outputs": [
    {
     "data": {
      "text/html": [
       "<div>\n",
       "<style scoped>\n",
       "    .dataframe tbody tr th:only-of-type {\n",
       "        vertical-align: middle;\n",
       "    }\n",
       "\n",
       "    .dataframe tbody tr th {\n",
       "        vertical-align: top;\n",
       "    }\n",
       "\n",
       "    .dataframe thead th {\n",
       "        text-align: right;\n",
       "    }\n",
       "</style>\n",
       "<table border=\"1\" class=\"dataframe\">\n",
       "  <thead>\n",
       "    <tr style=\"text-align: right;\">\n",
       "      <th></th>\n",
       "      <th>PassengerId</th>\n",
       "      <th>Survived</th>\n",
       "      <th>Pclass</th>\n",
       "      <th>Name</th>\n",
       "      <th>Sex</th>\n",
       "      <th>Age</th>\n",
       "      <th>SibSp</th>\n",
       "      <th>Parch</th>\n",
       "      <th>Ticket</th>\n",
       "      <th>Fare</th>\n",
       "      <th>Cabin</th>\n",
       "      <th>Embarked</th>\n",
       "    </tr>\n",
       "  </thead>\n",
       "  <tbody>\n",
       "    <tr>\n",
       "      <th>0</th>\n",
       "      <td>1</td>\n",
       "      <td>0</td>\n",
       "      <td>3</td>\n",
       "      <td>Braund, Mr. Owen Harris</td>\n",
       "      <td>male</td>\n",
       "      <td>22.0</td>\n",
       "      <td>1</td>\n",
       "      <td>0</td>\n",
       "      <td>A/5 21171</td>\n",
       "      <td>7.2500</td>\n",
       "      <td>NaN</td>\n",
       "      <td>S</td>\n",
       "    </tr>\n",
       "    <tr>\n",
       "      <th>1</th>\n",
       "      <td>2</td>\n",
       "      <td>1</td>\n",
       "      <td>1</td>\n",
       "      <td>Cumings, Mrs. John Bradley (Florence Briggs Th...</td>\n",
       "      <td>female</td>\n",
       "      <td>38.0</td>\n",
       "      <td>1</td>\n",
       "      <td>0</td>\n",
       "      <td>PC 17599</td>\n",
       "      <td>71.2833</td>\n",
       "      <td>C85</td>\n",
       "      <td>C</td>\n",
       "    </tr>\n",
       "    <tr>\n",
       "      <th>2</th>\n",
       "      <td>3</td>\n",
       "      <td>1</td>\n",
       "      <td>3</td>\n",
       "      <td>Heikkinen, Miss. Laina</td>\n",
       "      <td>female</td>\n",
       "      <td>26.0</td>\n",
       "      <td>0</td>\n",
       "      <td>0</td>\n",
       "      <td>STON/O2. 3101282</td>\n",
       "      <td>7.9250</td>\n",
       "      <td>NaN</td>\n",
       "      <td>S</td>\n",
       "    </tr>\n",
       "    <tr>\n",
       "      <th>3</th>\n",
       "      <td>4</td>\n",
       "      <td>1</td>\n",
       "      <td>1</td>\n",
       "      <td>Futrelle, Mrs. Jacques Heath (Lily May Peel)</td>\n",
       "      <td>female</td>\n",
       "      <td>35.0</td>\n",
       "      <td>1</td>\n",
       "      <td>0</td>\n",
       "      <td>113803</td>\n",
       "      <td>53.1000</td>\n",
       "      <td>C123</td>\n",
       "      <td>S</td>\n",
       "    </tr>\n",
       "    <tr>\n",
       "      <th>4</th>\n",
       "      <td>5</td>\n",
       "      <td>0</td>\n",
       "      <td>3</td>\n",
       "      <td>Allen, Mr. William Henry</td>\n",
       "      <td>male</td>\n",
       "      <td>35.0</td>\n",
       "      <td>0</td>\n",
       "      <td>0</td>\n",
       "      <td>373450</td>\n",
       "      <td>8.0500</td>\n",
       "      <td>NaN</td>\n",
       "      <td>S</td>\n",
       "    </tr>\n",
       "  </tbody>\n",
       "</table>\n",
       "</div>"
      ],
      "text/plain": [
       "   PassengerId  Survived  Pclass  \\\n",
       "0            1         0       3   \n",
       "1            2         1       1   \n",
       "2            3         1       3   \n",
       "3            4         1       1   \n",
       "4            5         0       3   \n",
       "\n",
       "                                                Name     Sex   Age  SibSp  \\\n",
       "0                            Braund, Mr. Owen Harris    male  22.0      1   \n",
       "1  Cumings, Mrs. John Bradley (Florence Briggs Th...  female  38.0      1   \n",
       "2                             Heikkinen, Miss. Laina  female  26.0      0   \n",
       "3       Futrelle, Mrs. Jacques Heath (Lily May Peel)  female  35.0      1   \n",
       "4                           Allen, Mr. William Henry    male  35.0      0   \n",
       "\n",
       "   Parch            Ticket     Fare Cabin Embarked  \n",
       "0      0         A/5 21171   7.2500   NaN        S  \n",
       "1      0          PC 17599  71.2833   C85        C  \n",
       "2      0  STON/O2. 3101282   7.9250   NaN        S  \n",
       "3      0            113803  53.1000  C123        S  \n",
       "4      0            373450   8.0500   NaN        S  "
      ]
     },
     "execution_count": 3,
     "metadata": {},
     "output_type": "execute_result"
    }
   ],
   "source": [
    "train_data.head()"
   ]
  },
  {
   "cell_type": "code",
   "execution_count": 4,
   "id": "e77075ad",
   "metadata": {
    "execution": {
     "iopub.execute_input": "2022-04-18T11:00:57.496043Z",
     "iopub.status.busy": "2022-04-18T11:00:57.495429Z",
     "iopub.status.idle": "2022-04-18T11:01:04.236524Z",
     "shell.execute_reply": "2022-04-18T11:01:04.236963Z",
     "shell.execute_reply.started": "2022-04-18T10:58:14.266822Z"
    },
    "papermill": {
     "duration": 6.764179,
     "end_time": "2022-04-18T11:01:04.237157",
     "exception": false,
     "start_time": "2022-04-18T11:00:57.472978",
     "status": "completed"
    },
    "tags": []
   },
   "outputs": [
    {
     "data": {
      "text/plain": [
       "array([[ 0.87348191,  0.3349926 , -0.49947002, ..., -0.49840706,\n",
       "        -0.75592895,  0.75592895],\n",
       "       [ 0.87348191,  1.32553003,  0.61699237, ..., -0.51327429,\n",
       "         1.32287566, -1.32287566],\n",
       "       [-0.31581919,  2.51417495, -0.49947002, ..., -0.46508846,\n",
       "        -0.75592895,  0.75592895],\n",
       "       ...,\n",
       "       [ 0.87348191,  0.65196458, -0.49947002, ..., -0.50879189,\n",
       "        -0.75592895,  0.75592895],\n",
       "       [ 0.87348191,  0.        , -0.49947002, ..., -0.4944482 ,\n",
       "        -0.75592895,  0.75592895],\n",
       "       [ 0.87348191,  0.        ,  0.61699237, ..., -0.23790598,\n",
       "        -0.75592895,  0.75592895]])"
      ]
     },
     "execution_count": 4,
     "metadata": {},
     "output_type": "execute_result"
    }
   ],
   "source": [
    "import tensorflow as tf\n",
    "from tensorflow import keras\n",
    "\n",
    "y_test = test_data[['Pclass','Age','SibSp','Parch','Sex','Fare']]\n",
    "\n",
    "# One_hot Encoding for categorical data\n",
    "\n",
    "yoh= pd.get_dummies(y_test)\n",
    "# filling NaN\n",
    "from sklearn.impute import SimpleImputer\n",
    "my_imputer = SimpleImputer()\n",
    "ys_test= my_imputer.fit_transform(yoh)\n",
    "#Normalizing the input data\n",
    "from sklearn import preprocessing\n",
    "yn_test = preprocessing.StandardScaler().fit(ys_test).transform(ys_test)\n",
    "\n",
    "yn_test"
   ]
  },
  {
   "cell_type": "code",
   "execution_count": 5,
   "id": "80b848f8",
   "metadata": {
    "execution": {
     "iopub.execute_input": "2022-04-18T11:01:04.280124Z",
     "iopub.status.busy": "2022-04-18T11:01:04.279333Z",
     "iopub.status.idle": "2022-04-18T11:01:04.298157Z",
     "shell.execute_reply": "2022-04-18T11:01:04.298586Z",
     "shell.execute_reply.started": "2022-04-18T10:58:20.605906Z"
    },
    "papermill": {
     "duration": 0.042236,
     "end_time": "2022-04-18T11:01:04.298801",
     "exception": false,
     "start_time": "2022-04-18T11:01:04.256565",
     "status": "completed"
    },
    "tags": []
   },
   "outputs": [
    {
     "data": {
      "text/plain": [
       "(891, 7)"
      ]
     },
     "execution_count": 5,
     "metadata": {},
     "output_type": "execute_result"
    }
   ],
   "source": [
    "X =train_data[['Pclass','Age','SibSp','Parch','Sex','Fare']]\n",
    "y = np.asarray(train_data[['Survived']])\n",
    "\n",
    "# One_hot Encoding for categorical data\n",
    "\n",
    "Xoh= pd.get_dummies(X)\n",
    "\n",
    "# filling NaN\n",
    "from sklearn.impute import SimpleImputer\n",
    "my_imputer = SimpleImputer()\n",
    "Xs= my_imputer.fit_transform(Xoh)\n",
    "\n",
    "#Normalizing the input data\n",
    "from sklearn import preprocessing\n",
    "Xn = preprocessing.StandardScaler().fit(Xs).transform(Xs)\n",
    "Xn.shape\n",
    "\n"
   ]
  },
  {
   "cell_type": "code",
   "execution_count": 6,
   "id": "499fb1e9",
   "metadata": {
    "execution": {
     "iopub.execute_input": "2022-04-18T11:01:04.341933Z",
     "iopub.status.busy": "2022-04-18T11:01:04.341250Z",
     "iopub.status.idle": "2022-04-18T11:01:04.349195Z",
     "shell.execute_reply": "2022-04-18T11:01:04.348598Z",
     "shell.execute_reply.started": "2022-04-18T10:58:20.629818Z"
    },
    "papermill": {
     "duration": 0.030619,
     "end_time": "2022-04-18T11:01:04.349336",
     "exception": false,
     "start_time": "2022-04-18T11:01:04.318717",
     "status": "completed"
    },
    "tags": []
   },
   "outputs": [
    {
     "name": "stdout",
     "output_type": "stream",
     "text": [
      "Train set: (801, 7) (801, 1)\n",
      "Test set: (90, 7) (90, 1)\n"
     ]
    }
   ],
   "source": [
    "#Splitting trainind and validation sets\n",
    "from sklearn.model_selection import train_test_split\n",
    "X_train, X_val, y_train, y_val = train_test_split( Xn, y, test_size=0.1, random_state=4)\n",
    "\n",
    "print ('Train set:', X_train.shape,  y_train.shape)\n",
    "print ('Test set:', X_val.shape,  y_val.shape)\n",
    "\n",
    "\n",
    "\n"
   ]
  },
  {
   "cell_type": "code",
   "execution_count": 7,
   "id": "7ad6a011",
   "metadata": {
    "execution": {
     "iopub.execute_input": "2022-04-18T11:01:04.392949Z",
     "iopub.status.busy": "2022-04-18T11:01:04.392280Z",
     "iopub.status.idle": "2022-04-18T11:01:05.645285Z",
     "shell.execute_reply": "2022-04-18T11:01:05.645762Z",
     "shell.execute_reply.started": "2022-04-18T10:58:20.639830Z"
    },
    "papermill": {
     "duration": 1.276306,
     "end_time": "2022-04-18T11:01:05.645962",
     "exception": false,
     "start_time": "2022-04-18T11:01:04.369656",
     "status": "completed"
    },
    "tags": []
   },
   "outputs": [
    {
     "name": "stderr",
     "output_type": "stream",
     "text": [
      "2022-04-18 11:01:05.619797: I tensorflow/core/common_runtime/process_util.cc:146] Creating new thread pool with default inter op setting: 2. Tune using inter_op_parallelism_threads for best performance.\n"
     ]
    }
   ],
   "source": [
    "#Neural Networks Using Tensor Flow\n",
    "# Build the classification model\n",
    "import tensorflow as tf\n",
    "from tensorflow import keras\n",
    "model = tf.keras.models.Sequential([tf.keras.layers.Flatten(), \n",
    "                                    tf.keras.layers.Dense(1600, activation=tf.nn.relu), \n",
    "                                    tf.keras.layers.Dense(1, activation=tf.nn.sigmoid)])"
   ]
  },
  {
   "cell_type": "code",
   "execution_count": 8,
   "id": "daeba74b",
   "metadata": {
    "execution": {
     "iopub.execute_input": "2022-04-18T11:01:05.691657Z",
     "iopub.status.busy": "2022-04-18T11:01:05.690624Z",
     "iopub.status.idle": "2022-04-18T11:01:15.445774Z",
     "shell.execute_reply": "2022-04-18T11:01:15.445216Z",
     "shell.execute_reply.started": "2022-04-18T10:58:21.809441Z"
    },
    "papermill": {
     "duration": 9.778993,
     "end_time": "2022-04-18T11:01:15.445941",
     "exception": false,
     "start_time": "2022-04-18T11:01:05.666948",
     "status": "completed"
    },
    "tags": []
   },
   "outputs": [
    {
     "name": "stderr",
     "output_type": "stream",
     "text": [
      "2022-04-18 11:01:05.805638: I tensorflow/compiler/mlir/mlir_graph_optimization_pass.cc:185] None of the MLIR Optimization Passes are enabled (registered 2)\n"
     ]
    },
    {
     "name": "stdout",
     "output_type": "stream",
     "text": [
      "Epoch 1/150\n",
      "26/26 [==============================] - 1s 2ms/step - loss: 0.1633 - accuracy: 0.7803\n",
      "Epoch 2/150\n",
      "26/26 [==============================] - 0s 2ms/step - loss: 0.1389 - accuracy: 0.8027\n",
      "Epoch 3/150\n",
      "26/26 [==============================] - 0s 2ms/step - loss: 0.1354 - accuracy: 0.8090\n",
      "Epoch 4/150\n",
      "26/26 [==============================] - 0s 2ms/step - loss: 0.1338 - accuracy: 0.8227\n",
      "Epoch 5/150\n",
      "26/26 [==============================] - 0s 2ms/step - loss: 0.1323 - accuracy: 0.8140\n",
      "Epoch 6/150\n",
      "26/26 [==============================] - 0s 2ms/step - loss: 0.1310 - accuracy: 0.8227\n",
      "Epoch 7/150\n",
      "26/26 [==============================] - 0s 2ms/step - loss: 0.1307 - accuracy: 0.8240\n",
      "Epoch 8/150\n",
      "26/26 [==============================] - 0s 2ms/step - loss: 0.1308 - accuracy: 0.8202\n",
      "Epoch 9/150\n",
      "26/26 [==============================] - 0s 2ms/step - loss: 0.1290 - accuracy: 0.8315\n",
      "Epoch 10/150\n",
      "26/26 [==============================] - 0s 2ms/step - loss: 0.1342 - accuracy: 0.8165\n",
      "Epoch 11/150\n",
      "26/26 [==============================] - 0s 2ms/step - loss: 0.1278 - accuracy: 0.8265\n",
      "Epoch 12/150\n",
      "26/26 [==============================] - 0s 2ms/step - loss: 0.1294 - accuracy: 0.8190\n",
      "Epoch 13/150\n",
      "26/26 [==============================] - 0s 2ms/step - loss: 0.1275 - accuracy: 0.8277\n",
      "Epoch 14/150\n",
      "26/26 [==============================] - 0s 2ms/step - loss: 0.1274 - accuracy: 0.8215\n",
      "Epoch 15/150\n",
      "26/26 [==============================] - 0s 2ms/step - loss: 0.1248 - accuracy: 0.8290\n",
      "Epoch 16/150\n",
      "26/26 [==============================] - 0s 2ms/step - loss: 0.1261 - accuracy: 0.8340\n",
      "Epoch 17/150\n",
      "26/26 [==============================] - 0s 2ms/step - loss: 0.1262 - accuracy: 0.8277\n",
      "Epoch 18/150\n",
      "26/26 [==============================] - 0s 2ms/step - loss: 0.1243 - accuracy: 0.8327\n",
      "Epoch 19/150\n",
      "26/26 [==============================] - 0s 2ms/step - loss: 0.1339 - accuracy: 0.8152\n",
      "Epoch 20/150\n",
      "26/26 [==============================] - 0s 2ms/step - loss: 0.1266 - accuracy: 0.8227\n",
      "Epoch 21/150\n",
      "26/26 [==============================] - 0s 2ms/step - loss: 0.1273 - accuracy: 0.8165\n",
      "Epoch 22/150\n",
      "26/26 [==============================] - 0s 2ms/step - loss: 0.1287 - accuracy: 0.8165\n",
      "Epoch 23/150\n",
      "26/26 [==============================] - 0s 2ms/step - loss: 0.1245 - accuracy: 0.8327\n",
      "Epoch 24/150\n",
      "26/26 [==============================] - 0s 2ms/step - loss: 0.1234 - accuracy: 0.8352\n",
      "Epoch 25/150\n",
      "26/26 [==============================] - 0s 2ms/step - loss: 0.1233 - accuracy: 0.8365\n",
      "Epoch 26/150\n",
      "26/26 [==============================] - 0s 2ms/step - loss: 0.1259 - accuracy: 0.8277\n",
      "Epoch 27/150\n",
      "26/26 [==============================] - 0s 2ms/step - loss: 0.1297 - accuracy: 0.8140\n",
      "Epoch 28/150\n",
      "26/26 [==============================] - 0s 2ms/step - loss: 0.1355 - accuracy: 0.8127\n",
      "Epoch 29/150\n",
      "26/26 [==============================] - 0s 2ms/step - loss: 0.1258 - accuracy: 0.8115\n",
      "Epoch 30/150\n",
      "26/26 [==============================] - 0s 2ms/step - loss: 0.1222 - accuracy: 0.8340\n",
      "Epoch 31/150\n",
      "26/26 [==============================] - 0s 3ms/step - loss: 0.1219 - accuracy: 0.8390\n",
      "Epoch 32/150\n",
      "26/26 [==============================] - 0s 4ms/step - loss: 0.1213 - accuracy: 0.8340\n",
      "Epoch 33/150\n",
      "26/26 [==============================] - 0s 2ms/step - loss: 0.1214 - accuracy: 0.8365\n",
      "Epoch 34/150\n",
      "26/26 [==============================] - 0s 2ms/step - loss: 0.1207 - accuracy: 0.8377\n",
      "Epoch 35/150\n",
      "26/26 [==============================] - 0s 2ms/step - loss: 0.1209 - accuracy: 0.8427\n",
      "Epoch 36/150\n",
      "26/26 [==============================] - 0s 2ms/step - loss: 0.1210 - accuracy: 0.8340\n",
      "Epoch 37/150\n",
      "26/26 [==============================] - 0s 2ms/step - loss: 0.1205 - accuracy: 0.8390\n",
      "Epoch 38/150\n",
      "26/26 [==============================] - 0s 2ms/step - loss: 0.1195 - accuracy: 0.8365\n",
      "Epoch 39/150\n",
      "26/26 [==============================] - 0s 2ms/step - loss: 0.1196 - accuracy: 0.8402\n",
      "Epoch 40/150\n",
      "26/26 [==============================] - 0s 2ms/step - loss: 0.1212 - accuracy: 0.8352\n",
      "Epoch 41/150\n",
      "26/26 [==============================] - 0s 3ms/step - loss: 0.1198 - accuracy: 0.8377\n",
      "Epoch 42/150\n",
      "26/26 [==============================] - 0s 3ms/step - loss: 0.1197 - accuracy: 0.8427\n",
      "Epoch 43/150\n",
      "26/26 [==============================] - 0s 3ms/step - loss: 0.1197 - accuracy: 0.8377\n",
      "Epoch 44/150\n",
      "26/26 [==============================] - 0s 2ms/step - loss: 0.1212 - accuracy: 0.8377\n",
      "Epoch 45/150\n",
      "26/26 [==============================] - 0s 2ms/step - loss: 0.1297 - accuracy: 0.8352\n",
      "Epoch 46/150\n",
      "26/26 [==============================] - 0s 3ms/step - loss: 0.1237 - accuracy: 0.8352\n",
      "Epoch 47/150\n",
      "26/26 [==============================] - 0s 3ms/step - loss: 0.1199 - accuracy: 0.8414\n",
      "Epoch 48/150\n",
      "26/26 [==============================] - 0s 3ms/step - loss: 0.1222 - accuracy: 0.8390\n",
      "Epoch 49/150\n",
      "26/26 [==============================] - 0s 3ms/step - loss: 0.1195 - accuracy: 0.8427\n",
      "Epoch 50/150\n",
      "26/26 [==============================] - 0s 2ms/step - loss: 0.1199 - accuracy: 0.8427\n",
      "Epoch 51/150\n",
      "26/26 [==============================] - 0s 2ms/step - loss: 0.1193 - accuracy: 0.8427\n",
      "Epoch 52/150\n",
      "26/26 [==============================] - 0s 2ms/step - loss: 0.1245 - accuracy: 0.8215\n",
      "Epoch 53/150\n",
      "26/26 [==============================] - 0s 2ms/step - loss: 0.1264 - accuracy: 0.8315\n",
      "Epoch 54/150\n",
      "26/26 [==============================] - 0s 2ms/step - loss: 0.1256 - accuracy: 0.8327\n",
      "Epoch 55/150\n",
      "26/26 [==============================] - 0s 2ms/step - loss: 0.1214 - accuracy: 0.8427\n",
      "Epoch 56/150\n",
      "26/26 [==============================] - 0s 3ms/step - loss: 0.1207 - accuracy: 0.8315\n",
      "Epoch 57/150\n",
      "26/26 [==============================] - 0s 3ms/step - loss: 0.1192 - accuracy: 0.8377\n",
      "Epoch 58/150\n",
      "26/26 [==============================] - 0s 3ms/step - loss: 0.1190 - accuracy: 0.8414\n",
      "Epoch 59/150\n",
      "26/26 [==============================] - 0s 2ms/step - loss: 0.1183 - accuracy: 0.8402\n",
      "Epoch 60/150\n",
      "26/26 [==============================] - 0s 3ms/step - loss: 0.1181 - accuracy: 0.8427\n",
      "Epoch 61/150\n",
      "26/26 [==============================] - 0s 2ms/step - loss: 0.1180 - accuracy: 0.8464\n",
      "Epoch 62/150\n",
      "26/26 [==============================] - 0s 3ms/step - loss: 0.1280 - accuracy: 0.8240\n",
      "Epoch 63/150\n",
      "26/26 [==============================] - 0s 2ms/step - loss: 0.1246 - accuracy: 0.8252\n",
      "Epoch 64/150\n",
      "26/26 [==============================] - 0s 3ms/step - loss: 0.1189 - accuracy: 0.8402\n",
      "Epoch 65/150\n",
      "26/26 [==============================] - 0s 3ms/step - loss: 0.1180 - accuracy: 0.8452\n",
      "Epoch 66/150\n",
      "26/26 [==============================] - 0s 3ms/step - loss: 0.1247 - accuracy: 0.8377\n",
      "Epoch 67/150\n",
      "26/26 [==============================] - 0s 3ms/step - loss: 0.1213 - accuracy: 0.8390\n",
      "Epoch 68/150\n",
      "26/26 [==============================] - 0s 2ms/step - loss: 0.1190 - accuracy: 0.8390\n",
      "Epoch 69/150\n",
      "26/26 [==============================] - 0s 2ms/step - loss: 0.1177 - accuracy: 0.8439\n",
      "Epoch 70/150\n",
      "26/26 [==============================] - 0s 3ms/step - loss: 0.1176 - accuracy: 0.8439\n",
      "Epoch 71/150\n",
      "26/26 [==============================] - 0s 3ms/step - loss: 0.1170 - accuracy: 0.8439\n",
      "Epoch 72/150\n",
      "26/26 [==============================] - 0s 3ms/step - loss: 0.1177 - accuracy: 0.8402\n",
      "Epoch 73/150\n",
      "26/26 [==============================] - 0s 3ms/step - loss: 0.1166 - accuracy: 0.8452\n",
      "Epoch 74/150\n",
      "26/26 [==============================] - 0s 3ms/step - loss: 0.1173 - accuracy: 0.8427\n",
      "Epoch 75/150\n",
      "26/26 [==============================] - 0s 3ms/step - loss: 0.1224 - accuracy: 0.8365\n",
      "Epoch 76/150\n",
      "26/26 [==============================] - 0s 3ms/step - loss: 0.1231 - accuracy: 0.8390\n",
      "Epoch 77/150\n",
      "26/26 [==============================] - 0s 3ms/step - loss: 0.1185 - accuracy: 0.8414\n",
      "Epoch 78/150\n",
      "26/26 [==============================] - 0s 2ms/step - loss: 0.1219 - accuracy: 0.8352\n",
      "Epoch 79/150\n",
      "26/26 [==============================] - 0s 2ms/step - loss: 0.1244 - accuracy: 0.8315\n",
      "Epoch 80/150\n",
      "26/26 [==============================] - 0s 2ms/step - loss: 0.1194 - accuracy: 0.8352\n",
      "Epoch 81/150\n",
      "26/26 [==============================] - 0s 2ms/step - loss: 0.1200 - accuracy: 0.8427\n",
      "Epoch 82/150\n",
      "26/26 [==============================] - 0s 2ms/step - loss: 0.1228 - accuracy: 0.8290\n",
      "Epoch 83/150\n",
      "26/26 [==============================] - 0s 2ms/step - loss: 0.1182 - accuracy: 0.8427\n",
      "Epoch 84/150\n",
      "26/26 [==============================] - 0s 2ms/step - loss: 0.1179 - accuracy: 0.8452\n",
      "Epoch 85/150\n",
      "26/26 [==============================] - 0s 2ms/step - loss: 0.1178 - accuracy: 0.8477\n",
      "Epoch 86/150\n",
      "26/26 [==============================] - 0s 2ms/step - loss: 0.1179 - accuracy: 0.8414\n",
      "Epoch 87/150\n",
      "26/26 [==============================] - 0s 2ms/step - loss: 0.1170 - accuracy: 0.8414\n",
      "Epoch 88/150\n",
      "26/26 [==============================] - 0s 2ms/step - loss: 0.1172 - accuracy: 0.8302\n",
      "Epoch 89/150\n",
      "26/26 [==============================] - 0s 2ms/step - loss: 0.1156 - accuracy: 0.8514\n",
      "Epoch 90/150\n",
      "26/26 [==============================] - 0s 2ms/step - loss: 0.1242 - accuracy: 0.8240\n",
      "Epoch 91/150\n",
      "26/26 [==============================] - 0s 2ms/step - loss: 0.1176 - accuracy: 0.8390\n",
      "Epoch 92/150\n",
      "26/26 [==============================] - 0s 2ms/step - loss: 0.1161 - accuracy: 0.8477\n",
      "Epoch 93/150\n",
      "26/26 [==============================] - 0s 2ms/step - loss: 0.1151 - accuracy: 0.8464\n",
      "Epoch 94/150\n",
      "26/26 [==============================] - 0s 2ms/step - loss: 0.1164 - accuracy: 0.8464\n",
      "Epoch 95/150\n",
      "26/26 [==============================] - 0s 2ms/step - loss: 0.1218 - accuracy: 0.8327\n",
      "Epoch 96/150\n",
      "26/26 [==============================] - 0s 2ms/step - loss: 0.1206 - accuracy: 0.8340\n",
      "Epoch 97/150\n",
      "26/26 [==============================] - 0s 2ms/step - loss: 0.1164 - accuracy: 0.8414\n",
      "Epoch 98/150\n",
      "26/26 [==============================] - 0s 2ms/step - loss: 0.1159 - accuracy: 0.8439\n",
      "Epoch 99/150\n",
      "26/26 [==============================] - 0s 2ms/step - loss: 0.1163 - accuracy: 0.8489\n",
      "Epoch 100/150\n",
      "26/26 [==============================] - 0s 2ms/step - loss: 0.1151 - accuracy: 0.8489\n",
      "Epoch 101/150\n",
      "26/26 [==============================] - 0s 2ms/step - loss: 0.1158 - accuracy: 0.8489\n",
      "Epoch 102/150\n",
      "26/26 [==============================] - 0s 2ms/step - loss: 0.1154 - accuracy: 0.8477\n",
      "Epoch 103/150\n",
      "26/26 [==============================] - 0s 2ms/step - loss: 0.1150 - accuracy: 0.8477\n",
      "Epoch 104/150\n",
      "26/26 [==============================] - 0s 2ms/step - loss: 0.1144 - accuracy: 0.8489\n",
      "Epoch 105/150\n",
      "26/26 [==============================] - 0s 2ms/step - loss: 0.1155 - accuracy: 0.8464\n",
      "Epoch 106/150\n",
      "26/26 [==============================] - 0s 2ms/step - loss: 0.1169 - accuracy: 0.8402\n",
      "Epoch 107/150\n",
      "26/26 [==============================] - 0s 2ms/step - loss: 0.1226 - accuracy: 0.8464\n",
      "Epoch 108/150\n",
      "26/26 [==============================] - 0s 2ms/step - loss: 0.1164 - accuracy: 0.8489\n",
      "Epoch 109/150\n",
      "26/26 [==============================] - 0s 2ms/step - loss: 0.1152 - accuracy: 0.8464\n",
      "Epoch 110/150\n",
      "26/26 [==============================] - 0s 2ms/step - loss: 0.1168 - accuracy: 0.8390\n",
      "Epoch 111/150\n",
      "26/26 [==============================] - 0s 2ms/step - loss: 0.1157 - accuracy: 0.8539\n",
      "Epoch 112/150\n",
      "26/26 [==============================] - 0s 2ms/step - loss: 0.1412 - accuracy: 0.8177\n",
      "Epoch 113/150\n",
      "26/26 [==============================] - 0s 2ms/step - loss: 0.1228 - accuracy: 0.8402\n",
      "Epoch 114/150\n",
      "26/26 [==============================] - 0s 2ms/step - loss: 0.1170 - accuracy: 0.8452\n",
      "Epoch 115/150\n",
      "26/26 [==============================] - 0s 2ms/step - loss: 0.1216 - accuracy: 0.8452\n",
      "Epoch 116/150\n",
      "26/26 [==============================] - 0s 2ms/step - loss: 0.1174 - accuracy: 0.8439\n",
      "Epoch 117/150\n",
      "26/26 [==============================] - 0s 2ms/step - loss: 0.1148 - accuracy: 0.8452\n",
      "Epoch 118/150\n",
      "26/26 [==============================] - 0s 2ms/step - loss: 0.1371 - accuracy: 0.8152\n",
      "Epoch 119/150\n",
      "26/26 [==============================] - 0s 2ms/step - loss: 0.1242 - accuracy: 0.8227\n",
      "Epoch 120/150\n",
      "26/26 [==============================] - 0s 2ms/step - loss: 0.1178 - accuracy: 0.8402\n",
      "Epoch 121/150\n",
      "26/26 [==============================] - 0s 2ms/step - loss: 0.1164 - accuracy: 0.8402\n",
      "Epoch 122/150\n",
      "26/26 [==============================] - 0s 2ms/step - loss: 0.1175 - accuracy: 0.8414\n",
      "Epoch 123/150\n",
      "26/26 [==============================] - 0s 2ms/step - loss: 0.1172 - accuracy: 0.8477\n",
      "Epoch 124/150\n",
      "26/26 [==============================] - 0s 2ms/step - loss: 0.1152 - accuracy: 0.8452\n",
      "Epoch 125/150\n",
      "26/26 [==============================] - 0s 2ms/step - loss: 0.1146 - accuracy: 0.8552\n",
      "Epoch 126/150\n",
      "26/26 [==============================] - 0s 2ms/step - loss: 0.1155 - accuracy: 0.8514\n",
      "Epoch 127/150\n",
      "26/26 [==============================] - 0s 2ms/step - loss: 0.1132 - accuracy: 0.8514\n",
      "Epoch 128/150\n",
      "26/26 [==============================] - 0s 2ms/step - loss: 0.1134 - accuracy: 0.8502\n",
      "Epoch 129/150\n",
      "26/26 [==============================] - 0s 2ms/step - loss: 0.1139 - accuracy: 0.8427\n",
      "Epoch 130/150\n",
      "26/26 [==============================] - 0s 2ms/step - loss: 0.1132 - accuracy: 0.8502\n",
      "Epoch 131/150\n",
      "26/26 [==============================] - 0s 2ms/step - loss: 0.1135 - accuracy: 0.8452\n",
      "Epoch 132/150\n",
      "26/26 [==============================] - 0s 2ms/step - loss: 0.1133 - accuracy: 0.8502\n",
      "Epoch 133/150\n",
      "26/26 [==============================] - 0s 2ms/step - loss: 0.1131 - accuracy: 0.8527\n",
      "Epoch 134/150\n",
      "26/26 [==============================] - 0s 2ms/step - loss: 0.1129 - accuracy: 0.8539\n",
      "Epoch 135/150\n",
      "26/26 [==============================] - 0s 2ms/step - loss: 0.1139 - accuracy: 0.8502\n",
      "Epoch 136/150\n",
      "26/26 [==============================] - 0s 2ms/step - loss: 0.1148 - accuracy: 0.8414\n",
      "Epoch 137/150\n",
      "26/26 [==============================] - 0s 2ms/step - loss: 0.1170 - accuracy: 0.8340\n",
      "Epoch 138/150\n",
      "26/26 [==============================] - 0s 2ms/step - loss: 0.1144 - accuracy: 0.8439\n",
      "Epoch 139/150\n",
      "26/26 [==============================] - 0s 2ms/step - loss: 0.1146 - accuracy: 0.8502\n",
      "Epoch 140/150\n",
      "26/26 [==============================] - 0s 2ms/step - loss: 0.1133 - accuracy: 0.8539\n",
      "Epoch 141/150\n",
      "26/26 [==============================] - 0s 2ms/step - loss: 0.1157 - accuracy: 0.8452\n",
      "Epoch 142/150\n",
      "26/26 [==============================] - 0s 2ms/step - loss: 0.1138 - accuracy: 0.8502\n",
      "Epoch 143/150\n",
      "26/26 [==============================] - 0s 2ms/step - loss: 0.1123 - accuracy: 0.8552\n",
      "Epoch 144/150\n",
      "26/26 [==============================] - 0s 2ms/step - loss: 0.1125 - accuracy: 0.8502\n",
      "Epoch 145/150\n",
      "26/26 [==============================] - 0s 2ms/step - loss: 0.1148 - accuracy: 0.8577\n",
      "Epoch 146/150\n",
      "26/26 [==============================] - 0s 2ms/step - loss: 0.1140 - accuracy: 0.8452\n",
      "Epoch 147/150\n",
      "26/26 [==============================] - 0s 3ms/step - loss: 0.1120 - accuracy: 0.8539\n",
      "Epoch 148/150\n",
      "26/26 [==============================] - 0s 2ms/step - loss: 0.1119 - accuracy: 0.8577\n",
      "Epoch 149/150\n",
      "26/26 [==============================] - 0s 2ms/step - loss: 0.1128 - accuracy: 0.8527\n",
      "Epoch 150/150\n",
      "26/26 [==============================] - 0s 2ms/step - loss: 0.1127 - accuracy: 0.8514\n"
     ]
    },
    {
     "data": {
      "text/plain": [
       "<keras.callbacks.History at 0x7f5beb3a1c10>"
      ]
     },
     "execution_count": 8,
     "metadata": {},
     "output_type": "execute_result"
    }
   ],
   "source": [
    "#Fitting data set\n",
    "opt = keras.optimizers.Adam(learning_rate=0.001)\n",
    "model.compile(optimizer = opt,\n",
    "              loss = 'mean_squared_error',\n",
    "              metrics=['accuracy'])\n",
    "\n",
    "model.fit(X_train, y_train, epochs=150)"
   ]
  },
  {
   "cell_type": "code",
   "execution_count": 9,
   "id": "f8f54dcf",
   "metadata": {
    "execution": {
     "iopub.execute_input": "2022-04-18T11:01:15.719860Z",
     "iopub.status.busy": "2022-04-18T11:01:15.719116Z",
     "iopub.status.idle": "2022-04-18T11:01:15.930824Z",
     "shell.execute_reply": "2022-04-18T11:01:15.931392Z",
     "shell.execute_reply.started": "2022-04-18T10:58:30.790723Z"
    },
    "papermill": {
     "duration": 0.348265,
     "end_time": "2022-04-18T11:01:15.931583",
     "exception": false,
     "start_time": "2022-04-18T11:01:15.583318",
     "status": "completed"
    },
    "tags": []
   },
   "outputs": [
    {
     "name": "stdout",
     "output_type": "stream",
     "text": [
      "3/3 [==============================] - 0s 3ms/step - loss: 0.0919 - accuracy: 0.9000\n"
     ]
    },
    {
     "data": {
      "text/plain": [
       "[0.09185121208429337, 0.8999999761581421]"
      ]
     },
     "execution_count": 9,
     "metadata": {},
     "output_type": "execute_result"
    }
   ],
   "source": [
    "model.evaluate(X_val,y_val)\n"
   ]
  },
  {
   "cell_type": "code",
   "execution_count": 10,
   "id": "ebedae9e",
   "metadata": {
    "execution": {
     "iopub.execute_input": "2022-04-18T11:01:16.194534Z",
     "iopub.status.busy": "2022-04-18T11:01:16.191592Z",
     "iopub.status.idle": "2022-04-18T11:01:16.347130Z",
     "shell.execute_reply": "2022-04-18T11:01:16.348180Z",
     "shell.execute_reply.started": "2022-04-18T10:58:31.029101Z"
    },
    "papermill": {
     "duration": 0.287643,
     "end_time": "2022-04-18T11:01:16.348458",
     "exception": false,
     "start_time": "2022-04-18T11:01:16.060815",
     "status": "completed"
    },
    "tags": []
   },
   "outputs": [
    {
     "name": "stdout",
     "output_type": "stream",
     "text": [
      "Your submission was successfully saved!\n"
     ]
    }
   ],
   "source": [
    "yhat = model.predict(yn_test) \n",
    "#yhat0 = np.argmax(yhat,axis = 1) \n",
    "#label = np.argmax(y_val,axis = 1)[:30] \n",
    "yhat1 = yhat.flatten()\n",
    "yhat1\n",
    "\n",
    "output = pd.DataFrame({'PassengerId': test_data.PassengerId, 'Survived': np.where(yhat1 > 0.5, 1, 0)})\n",
    "output.to_csv('submission.csv', index=False)\n",
    "print(\"Your submission was successfully saved!\")"
   ]
  },
  {
   "cell_type": "code",
   "execution_count": 11,
   "id": "a56def32",
   "metadata": {
    "execution": {
     "iopub.execute_input": "2022-04-18T11:01:16.615038Z",
     "iopub.status.busy": "2022-04-18T11:01:16.613986Z",
     "iopub.status.idle": "2022-04-18T11:01:16.619381Z",
     "shell.execute_reply": "2022-04-18T11:01:16.619795Z",
     "shell.execute_reply.started": "2022-04-18T10:58:31.190738Z"
    },
    "papermill": {
     "duration": 0.142917,
     "end_time": "2022-04-18T11:01:16.619985",
     "exception": false,
     "start_time": "2022-04-18T11:01:16.477068",
     "status": "completed"
    },
    "tags": []
   },
   "outputs": [
    {
     "data": {
      "text/html": [
       "<div>\n",
       "<style scoped>\n",
       "    .dataframe tbody tr th:only-of-type {\n",
       "        vertical-align: middle;\n",
       "    }\n",
       "\n",
       "    .dataframe tbody tr th {\n",
       "        vertical-align: top;\n",
       "    }\n",
       "\n",
       "    .dataframe thead th {\n",
       "        text-align: right;\n",
       "    }\n",
       "</style>\n",
       "<table border=\"1\" class=\"dataframe\">\n",
       "  <thead>\n",
       "    <tr style=\"text-align: right;\">\n",
       "      <th></th>\n",
       "      <th>PassengerId</th>\n",
       "      <th>Survived</th>\n",
       "    </tr>\n",
       "  </thead>\n",
       "  <tbody>\n",
       "    <tr>\n",
       "      <th>0</th>\n",
       "      <td>892</td>\n",
       "      <td>0</td>\n",
       "    </tr>\n",
       "    <tr>\n",
       "      <th>1</th>\n",
       "      <td>893</td>\n",
       "      <td>0</td>\n",
       "    </tr>\n",
       "    <tr>\n",
       "      <th>2</th>\n",
       "      <td>894</td>\n",
       "      <td>0</td>\n",
       "    </tr>\n",
       "    <tr>\n",
       "      <th>3</th>\n",
       "      <td>895</td>\n",
       "      <td>0</td>\n",
       "    </tr>\n",
       "    <tr>\n",
       "      <th>4</th>\n",
       "      <td>896</td>\n",
       "      <td>0</td>\n",
       "    </tr>\n",
       "    <tr>\n",
       "      <th>5</th>\n",
       "      <td>897</td>\n",
       "      <td>0</td>\n",
       "    </tr>\n",
       "    <tr>\n",
       "      <th>6</th>\n",
       "      <td>898</td>\n",
       "      <td>1</td>\n",
       "    </tr>\n",
       "    <tr>\n",
       "      <th>7</th>\n",
       "      <td>899</td>\n",
       "      <td>0</td>\n",
       "    </tr>\n",
       "    <tr>\n",
       "      <th>8</th>\n",
       "      <td>900</td>\n",
       "      <td>1</td>\n",
       "    </tr>\n",
       "    <tr>\n",
       "      <th>9</th>\n",
       "      <td>901</td>\n",
       "      <td>0</td>\n",
       "    </tr>\n",
       "  </tbody>\n",
       "</table>\n",
       "</div>"
      ],
      "text/plain": [
       "   PassengerId  Survived\n",
       "0          892         0\n",
       "1          893         0\n",
       "2          894         0\n",
       "3          895         0\n",
       "4          896         0\n",
       "5          897         0\n",
       "6          898         1\n",
       "7          899         0\n",
       "8          900         1\n",
       "9          901         0"
      ]
     },
     "execution_count": 11,
     "metadata": {},
     "output_type": "execute_result"
    }
   ],
   "source": [
    "output.head(10)"
   ]
  },
  {
   "cell_type": "code",
   "execution_count": null,
   "id": "a49465f1",
   "metadata": {
    "papermill": {
     "duration": 0.127442,
     "end_time": "2022-04-18T11:01:16.875698",
     "exception": false,
     "start_time": "2022-04-18T11:01:16.748256",
     "status": "completed"
    },
    "tags": []
   },
   "outputs": [],
   "source": []
  },
  {
   "cell_type": "code",
   "execution_count": 12,
   "id": "aa8fb084",
   "metadata": {
    "execution": {
     "iopub.execute_input": "2022-04-18T11:01:17.138446Z",
     "iopub.status.busy": "2022-04-18T11:01:17.137416Z",
     "iopub.status.idle": "2022-04-18T11:01:17.151267Z",
     "shell.execute_reply": "2022-04-18T11:01:17.152083Z",
     "shell.execute_reply.started": "2022-04-18T10:59:46.417914Z"
    },
    "papermill": {
     "duration": 0.147286,
     "end_time": "2022-04-18T11:01:17.152340",
     "exception": false,
     "start_time": "2022-04-18T11:01:17.005054",
     "status": "completed"
    },
    "tags": []
   },
   "outputs": [
    {
     "name": "stderr",
     "output_type": "stream",
     "text": [
      "/opt/conda/lib/python3.7/site-packages/sklearn/utils/validation.py:985: DataConversionWarning: A column-vector y was passed when a 1d array was expected. Please change the shape of y to (n_samples, ), for example using ravel().\n",
      "  y = column_or_1d(y, warn=True)\n"
     ]
    },
    {
     "data": {
      "text/plain": [
       "array([0, 0, 1, 1, 0, 0, 1, 1, 0, 0, 0, 0, 1, 0, 1, 0, 0, 1, 0, 1, 0, 0,\n",
       "       0, 0, 1, 1, 1, 1, 0, 0, 0, 0, 0, 0, 0, 0, 0, 0, 0, 0, 1, 0, 1, 0,\n",
       "       0, 0, 0, 1, 0, 0, 0, 0, 1, 0, 0, 1, 0, 0, 0, 1, 0, 0, 0, 0, 0, 1,\n",
       "       1, 1, 0, 0, 1, 0, 0, 0, 0, 0, 0, 0, 0, 0, 0, 1, 0, 0, 1, 0, 0, 0,\n",
       "       0, 1])"
      ]
     },
     "execution_count": 12,
     "metadata": {},
     "output_type": "execute_result"
    }
   ],
   "source": [
    "#Using Logistic Regression\n",
    "from sklearn.linear_model import LogisticRegression\n",
    "from sklearn.metrics import confusion_matrix\n",
    "LR = LogisticRegression(C=0.01, solver='liblinear').fit(X_train,y_train)\n",
    "\n",
    "#Predicting using our validation data because we have the true outpu data \n",
    "#thus we will use this data to evaluate our algorithm. \n",
    "\n",
    "yhat = LR.predict(X_val)\n",
    "yhat"
   ]
  },
  {
   "cell_type": "code",
   "execution_count": 13,
   "id": "8174c121",
   "metadata": {
    "execution": {
     "iopub.execute_input": "2022-04-18T11:01:17.413690Z",
     "iopub.status.busy": "2022-04-18T11:01:17.412606Z",
     "iopub.status.idle": "2022-04-18T11:01:17.419398Z",
     "shell.execute_reply": "2022-04-18T11:01:17.419999Z",
     "shell.execute_reply.started": "2022-04-18T10:59:58.352133Z"
    },
    "papermill": {
     "duration": 0.139349,
     "end_time": "2022-04-18T11:01:17.420198",
     "exception": false,
     "start_time": "2022-04-18T11:01:17.280849",
     "status": "completed"
    },
    "tags": []
   },
   "outputs": [
    {
     "data": {
      "text/plain": [
       "array([[0.75626629, 0.24373371],\n",
       "       [0.75754212, 0.24245788],\n",
       "       [0.37295428, 0.62704572],\n",
       "       [0.21116188, 0.78883812],\n",
       "       [0.79646644, 0.20353356]])"
      ]
     },
     "execution_count": 13,
     "metadata": {},
     "output_type": "execute_result"
    }
   ],
   "source": [
    "#predict_proba returns estimates for all classes, ordered by the label of classes. So, the first column is the probability of class 0, \n",
    "#P(Y=0|X), and second column is probability of class 1, P(Y=1|X)\n",
    "yhat_prob = LR.predict_proba(X_val)\n",
    "yhat_prob[0:5]"
   ]
  },
  {
   "cell_type": "code",
   "execution_count": 14,
   "id": "7fbfa574",
   "metadata": {
    "execution": {
     "iopub.execute_input": "2022-04-18T11:01:17.683048Z",
     "iopub.status.busy": "2022-04-18T11:01:17.681992Z",
     "iopub.status.idle": "2022-04-18T11:01:17.689399Z",
     "shell.execute_reply": "2022-04-18T11:01:17.689932Z",
     "shell.execute_reply.started": "2022-04-18T11:00:03.544046Z"
    },
    "papermill": {
     "duration": 0.141682,
     "end_time": "2022-04-18T11:01:17.690128",
     "exception": false,
     "start_time": "2022-04-18T11:01:17.548446",
     "status": "completed"
    },
    "tags": []
   },
   "outputs": [
    {
     "data": {
      "text/plain": [
       "0.8028169014084507"
      ]
     },
     "execution_count": 14,
     "metadata": {},
     "output_type": "execute_result"
    }
   ],
   "source": [
    " #Evaluation of the accuracy of the ML program.\n",
    "from sklearn.metrics import jaccard_score\n",
    "jaccard_score(y_val, yhat,pos_label=0)\n"
   ]
  },
  {
   "cell_type": "code",
   "execution_count": 15,
   "id": "9cd82d4b",
   "metadata": {
    "execution": {
     "iopub.execute_input": "2022-04-18T11:01:17.976510Z",
     "iopub.status.busy": "2022-04-18T11:01:17.975248Z",
     "iopub.status.idle": "2022-04-18T11:01:17.984750Z",
     "shell.execute_reply": "2022-04-18T11:01:17.986170Z",
     "shell.execute_reply.started": "2022-04-18T11:00:05.080852Z"
    },
    "papermill": {
     "duration": 0.162416,
     "end_time": "2022-04-18T11:01:17.986587",
     "exception": false,
     "start_time": "2022-04-18T11:01:17.824171",
     "status": "completed"
    },
    "tags": []
   },
   "outputs": [
    {
     "name": "stdout",
     "output_type": "stream",
     "text": [
      "[[19  8]\n",
      " [ 6 57]]\n"
     ]
    }
   ],
   "source": [
    "#I got this confusion matrix function from IBM machine learning course. \n",
    "import matplotlib.pyplot as plt\n",
    "from sklearn.metrics import classification_report, confusion_matrix\n",
    "import itertools\n",
    "def plot_confusion_matrix(cm, classes,\n",
    "                          normalize=False,\n",
    "                          title='Confusion matrix',\n",
    "                          cmap=plt.cm.Blues):\n",
    "    \"\"\"\n",
    "    This function prints and plots the confusion matrix.\n",
    "    Normalization can be applied by setting `normalize=True`.\n",
    "    \"\"\"\n",
    "    if normalize:\n",
    "        cm = cm.astype('float') / cm.sum(axis=1)[:, np.newaxis]\n",
    "        print(\"Normalized confusion matrix\")\n",
    "    else:\n",
    "        print('Confusion matrix, without normalization')\n",
    "\n",
    "    print(cm)\n",
    "\n",
    "    plt.imshow(cm, interpolation='nearest', cmap=cmap)\n",
    "    plt.title(title)\n",
    "    plt.colorbar()\n",
    "    tick_marks = np.arange(len(classes))\n",
    "    plt.xticks(tick_marks, classes, rotation=45)\n",
    "    plt.yticks(tick_marks, classes)\n",
    "\n",
    "    fmt = '.2f' if normalize else 'd'\n",
    "    thresh = cm.max() / 2.\n",
    "    for i, j in itertools.product(range(cm.shape[0]), range(cm.shape[1])):\n",
    "        plt.text(j, i, format(cm[i, j], fmt),\n",
    "                 horizontalalignment=\"center\",\n",
    "                 color=\"white\" if cm[i, j] > thresh else \"black\")\n",
    "\n",
    "    plt.tight_layout()\n",
    "    plt.ylabel('True label')\n",
    "    plt.xlabel('Predicted label')\n",
    "print(confusion_matrix(y_val, yhat, labels=[1,0]))"
   ]
  },
  {
   "cell_type": "code",
   "execution_count": 16,
   "id": "9bc91627",
   "metadata": {
    "execution": {
     "iopub.execute_input": "2022-04-18T11:01:18.276887Z",
     "iopub.status.busy": "2022-04-18T11:01:18.275931Z",
     "iopub.status.idle": "2022-04-18T11:01:18.575597Z",
     "shell.execute_reply": "2022-04-18T11:01:18.575097Z",
     "shell.execute_reply.started": "2022-04-18T11:00:06.303551Z"
    },
    "papermill": {
     "duration": 0.446388,
     "end_time": "2022-04-18T11:01:18.575782",
     "exception": false,
     "start_time": "2022-04-18T11:01:18.129394",
     "status": "completed"
    },
    "tags": []
   },
   "outputs": [
    {
     "name": "stdout",
     "output_type": "stream",
     "text": [
      "Confusion matrix, without normalization\n",
      "[[19  8]\n",
      " [ 6 57]]\n"
     ]
    },
    {
     "data": {
      "image/png": "[encoded data removed]",
      "text/plain": [
       "<Figure size 432x288 with 2 Axes>"
      ]
     },
     "metadata": {
      "needs_background": "light"
     },
     "output_type": "display_data"
    }
   ],
   "source": [
    "# Compute confusion matrix\n",
    "cnf_matrix = confusion_matrix(y_val, yhat, labels=[1,0])\n",
    "np.set_printoptions(precision=2)\n",
    "\n",
    "\n",
    "# Plot non-normalized confusion matrix\n",
    "plt.figure()\n",
    "plot_confusion_matrix(cnf_matrix, classes=['Survived=1','Survived=0'],normalize= False,  title='Confusion matrix')"
   ]
  },
  {
   "cell_type": "code",
   "execution_count": 17,
   "id": "05482728",
   "metadata": {
    "execution": {
     "iopub.execute_input": "2022-04-18T11:01:18.851214Z",
     "iopub.status.busy": "2022-04-18T11:01:18.850532Z",
     "iopub.status.idle": "2022-04-18T11:01:18.860607Z",
     "shell.execute_reply": "2022-04-18T11:01:18.859771Z",
     "shell.execute_reply.started": "2022-04-18T11:00:12.213147Z"
    },
    "papermill": {
     "duration": 0.147128,
     "end_time": "2022-04-18T11:01:18.860878",
     "exception": false,
     "start_time": "2022-04-18T11:01:18.713750",
     "status": "completed"
    },
    "tags": []
   },
   "outputs": [
    {
     "name": "stdout",
     "output_type": "stream",
     "text": [
      "              precision    recall  f1-score   support\n",
      "\n",
      "           0       0.88      0.90      0.89        63\n",
      "           1       0.76      0.70      0.73        27\n",
      "\n",
      "    accuracy                           0.84        90\n",
      "   macro avg       0.82      0.80      0.81        90\n",
      "weighted avg       0.84      0.84      0.84        90\n",
      "\n"
     ]
    }
   ],
   "source": [
    "print (classification_report(y_val, yhat))"
   ]
  },
  {
   "cell_type": "code",
   "execution_count": 18,
   "id": "d8ea1962",
   "metadata": {
    "execution": {
     "iopub.execute_input": "2022-04-18T11:01:19.141431Z",
     "iopub.status.busy": "2022-04-18T11:01:19.140806Z",
     "iopub.status.idle": "2022-04-18T11:01:19.147439Z",
     "shell.execute_reply": "2022-04-18T11:01:19.147931Z",
     "shell.execute_reply.started": "2022-04-18T11:00:17.183783Z"
    },
    "papermill": {
     "duration": 0.145971,
     "end_time": "2022-04-18T11:01:19.148105",
     "exception": false,
     "start_time": "2022-04-18T11:01:19.002134",
     "status": "completed"
    },
    "tags": []
   },
   "outputs": [
    {
     "data": {
      "text/plain": [
       "0.4307476430319787"
      ]
     },
     "execution_count": 18,
     "metadata": {},
     "output_type": "execute_result"
    }
   ],
   "source": [
    "from sklearn.metrics import log_loss\n",
    "log_loss(y_val, yhat_prob)"
   ]
  },
  {
   "cell_type": "code",
   "execution_count": 19,
   "id": "30527b19",
   "metadata": {
    "execution": {
     "iopub.execute_input": "2022-04-18T11:01:19.478132Z",
     "iopub.status.busy": "2022-04-18T11:01:19.477474Z",
     "iopub.status.idle": "2022-04-18T11:01:19.483873Z",
     "shell.execute_reply": "2022-04-18T11:01:19.484411Z",
     "shell.execute_reply.started": "2022-04-18T11:00:20.237834Z"
    },
    "papermill": {
     "duration": 0.178687,
     "end_time": "2022-04-18T11:01:19.484592",
     "exception": false,
     "start_time": "2022-04-18T11:01:19.305905",
     "status": "completed"
    },
    "tags": []
   },
   "outputs": [
    {
     "data": {
      "text/plain": [
       "array([0, 1, 0, 0, 1, 0, 1, 0, 1, 0, 0, 0, 1, 0, 1, 1, 0, 0, 1, 1, 0, 0,\n",
       "       1, 0, 1, 0, 1, 0, 0, 0, 0, 0, 1, 1, 0, 0, 1, 1, 0, 0, 0, 0, 0, 1,\n",
       "       1, 0, 0, 0, 1, 1, 0, 0, 1, 1, 0, 0, 0, 0, 0, 1, 0, 0, 0, 1, 1, 1,\n",
       "       1, 0, 0, 1, 1, 0, 1, 0, 1, 1, 0, 1, 0, 1, 0, 0, 0, 0, 0, 0, 1, 1,\n",
       "       1, 0, 1, 0, 1, 0, 0, 0, 1, 0, 1, 0, 1, 0, 0, 0, 1, 0, 0, 0, 0, 0,\n",
       "       0, 1, 1, 1, 1, 0, 0, 1, 0, 1, 1, 0, 1, 0, 0, 1, 0, 1, 0, 0, 0, 0,\n",
       "       1, 0, 0, 0, 0, 0, 1, 0, 1, 1, 0, 0, 0, 0, 0, 0, 0, 0, 1, 0, 0, 1,\n",
       "       0, 0, 1, 1, 0, 1, 1, 0, 1, 0, 0, 1, 0, 0, 1, 1, 0, 0, 0, 0, 0, 1,\n",
       "       1, 0, 1, 1, 0, 0, 1, 0, 1, 0, 1, 0, 0, 0, 0, 0, 0, 0, 0, 0, 1, 1,\n",
       "       0, 1, 1, 0, 0, 1, 0, 0, 1, 0, 1, 0, 0, 0, 0, 1, 0, 0, 1, 0, 1, 0,\n",
       "       1, 0, 1, 0, 1, 1, 0, 1, 0, 0, 0, 1, 0, 0, 0, 0, 0, 0, 1, 1, 1, 1,\n",
       "       0, 0, 0, 0, 1, 0, 1, 1, 1, 0, 0, 0, 0, 0, 0, 0, 1, 0, 0, 0, 1, 1,\n",
       "       0, 0, 0, 0, 1, 0, 0, 0, 1, 1, 0, 1, 0, 0, 0, 0, 1, 0, 1, 1, 1, 0,\n",
       "       0, 0, 0, 0, 0, 1, 0, 0, 0, 0, 1, 0, 0, 0, 0, 0, 0, 0, 1, 1, 0, 0,\n",
       "       0, 1, 0, 0, 0, 1, 1, 1, 0, 0, 0, 0, 0, 0, 0, 0, 1, 0, 1, 0, 0, 0,\n",
       "       1, 0, 0, 1, 0, 0, 0, 0, 0, 0, 0, 0, 0, 1, 0, 1, 0, 1, 0, 1, 1, 0,\n",
       "       0, 0, 1, 0, 1, 0, 0, 1, 0, 1, 1, 0, 1, 1, 0, 1, 1, 0, 0, 1, 0, 0,\n",
       "       1, 1, 1, 0, 0, 0, 0, 0, 1, 1, 0, 1, 0, 0, 0, 0, 0, 1, 0, 0, 0, 1,\n",
       "       0, 1, 0, 0, 1, 0, 1, 0, 0, 0, 0, 0, 1, 1, 1, 1, 1, 0, 1, 0, 0, 0])"
      ]
     },
     "execution_count": 19,
     "metadata": {},
     "output_type": "execute_result"
    }
   ],
   "source": [
    "#Test data that is required to be predicted and submitted.\n",
    "output = LR.predict(yn_test)\n",
    "output"
   ]
  },
  {
   "cell_type": "code",
   "execution_count": 20,
   "id": "e0e86a43",
   "metadata": {
    "execution": {
     "iopub.execute_input": "2022-04-18T11:01:19.759862Z",
     "iopub.status.busy": "2022-04-18T11:01:19.759153Z",
     "iopub.status.idle": "2022-04-18T11:01:19.767408Z",
     "shell.execute_reply": "2022-04-18T11:01:19.766652Z",
     "shell.execute_reply.started": "2022-04-18T11:00:24.707184Z"
    },
    "papermill": {
     "duration": 0.145164,
     "end_time": "2022-04-18T11:01:19.767601",
     "exception": false,
     "start_time": "2022-04-18T11:01:19.622437",
     "status": "completed"
    },
    "tags": []
   },
   "outputs": [
    {
     "name": "stdout",
     "output_type": "stream",
     "text": [
      "Your submission was successfully saved!\n"
     ]
    }
   ],
   "source": [
    "Output = pd.DataFrame({'PassengerId': test_data.PassengerId, 'Survived': output})\n",
    "Output.to_csv('submission.csv', index=False)\n",
    "print(\"Your submission was successfully saved!\")"
   ]
  },
  {
   "cell_type": "code",
   "execution_count": 21,
   "id": "bd2caff8",
   "metadata": {
    "execution": {
     "iopub.execute_input": "2022-04-18T11:01:20.045850Z",
     "iopub.status.busy": "2022-04-18T11:01:20.040755Z",
     "iopub.status.idle": "2022-04-18T11:01:20.048069Z",
     "shell.execute_reply": "2022-04-18T11:01:20.048518Z",
     "shell.execute_reply.started": "2022-04-18T11:00:27.299131Z"
    },
    "papermill": {
     "duration": 0.147619,
     "end_time": "2022-04-18T11:01:20.048703",
     "exception": false,
     "start_time": "2022-04-18T11:01:19.901084",
     "status": "completed"
    },
    "tags": []
   },
   "outputs": [
    {
     "data": {
      "text/html": [
       "<div>\n",
       "<style scoped>\n",
       "    .dataframe tbody tr th:only-of-type {\n",
       "        vertical-align: middle;\n",
       "    }\n",
       "\n",
       "    .dataframe tbody tr th {\n",
       "        vertical-align: top;\n",
       "    }\n",
       "\n",
       "    .dataframe thead th {\n",
       "        text-align: right;\n",
       "    }\n",
       "</style>\n",
       "<table border=\"1\" class=\"dataframe\">\n",
       "  <thead>\n",
       "    <tr style=\"text-align: right;\">\n",
       "      <th></th>\n",
       "      <th>PassengerId</th>\n",
       "      <th>Survived</th>\n",
       "    </tr>\n",
       "  </thead>\n",
       "  <tbody>\n",
       "    <tr>\n",
       "      <th>0</th>\n",
       "      <td>892</td>\n",
       "      <td>0</td>\n",
       "    </tr>\n",
       "    <tr>\n",
       "      <th>1</th>\n",
       "      <td>893</td>\n",
       "      <td>1</td>\n",
       "    </tr>\n",
       "    <tr>\n",
       "      <th>2</th>\n",
       "      <td>894</td>\n",
       "      <td>0</td>\n",
       "    </tr>\n",
       "    <tr>\n",
       "      <th>3</th>\n",
       "      <td>895</td>\n",
       "      <td>0</td>\n",
       "    </tr>\n",
       "    <tr>\n",
       "      <th>4</th>\n",
       "      <td>896</td>\n",
       "      <td>1</td>\n",
       "    </tr>\n",
       "  </tbody>\n",
       "</table>\n",
       "</div>"
      ],
      "text/plain": [
       "   PassengerId  Survived\n",
       "0          892         0\n",
       "1          893         1\n",
       "2          894         0\n",
       "3          895         0\n",
       "4          896         1"
      ]
     },
     "execution_count": 21,
     "metadata": {},
     "output_type": "execute_result"
    }
   ],
   "source": [
    "Output.head()"
   ]
  },
  {
   "cell_type": "code",
   "execution_count": null,
   "id": "54c9e25a",
   "metadata": {
    "papermill": {
     "duration": 0.140616,
     "end_time": "2022-04-18T11:01:20.326008",
     "exception": false,
     "start_time": "2022-04-18T11:01:20.185392",
     "status": "completed"
    },
    "tags": []
   },
   "outputs": [],
   "source": []
  },
  {
   "cell_type": "code",
   "execution_count": null,
   "id": "c723a13c",
   "metadata": {
    "papermill": {
     "duration": 0.134225,
     "end_time": "2022-04-18T11:01:20.597366",
     "exception": false,
     "start_time": "2022-04-18T11:01:20.463141",
     "status": "completed"
    },
    "tags": []
   },
   "outputs": [],
   "source": []
  }
 ],
 "metadata": {
  "kernelspec": {
   "display_name": "Python 3",
   "language": "python",
   "name": "python3"
  },
  "language_info": {
   "codemirror_mode": {
    "name": "ipython",
    "version": 3
   },
   "file_extension": ".py",
   "mimetype": "text/x-python",
   "name": "python",
   "nbconvert_exporter": "python",
   "pygments_lexer": "ipython3",
   "version": "3.7.12"
  },
  "papermill": {
   "default_parameters": {},
   "duration": 35.756276,
   "end_time": "2022-04-18T11:01:23.626315",
   "environment_variables": {},
   "exception": null,
   "input_path": "__notebook__.ipynb",
   "output_path": "__notebook__.ipynb",
   "parameters": {},
   "start_time": "2022-04-18T11:00:47.870039",
   "version": "2.3.3"
  }
 },
 "nbformat": 4,
 "nbformat_minor": 5
}
